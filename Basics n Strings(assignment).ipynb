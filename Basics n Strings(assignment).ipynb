{
 "cells": [
  {
   "cell_type": "code",
   "execution_count": null,
   "id": "a731bbba-f38e-4c8a-b57f-8d32e622b718",
   "metadata": {},
   "outputs": [],
   "source": [
    "ASSIGNMENT"
   ]
  },
  {
   "cell_type": "code",
   "execution_count": 1,
   "id": "7c42e49d-743d-466e-9870-eb60001daabe",
   "metadata": {},
   "outputs": [],
   "source": [
    "s = \"this is My First Python programming class and i am learNING python string and its function\""
   ]
  },
  {
   "cell_type": "code",
   "execution_count": 5,
   "id": "6ea57232-77cc-44be-930e-dea5280df81f",
   "metadata": {},
   "outputs": [
    {
     "data": {
      "text/plain": [
       "'tssyityopgmncsa alrNph rgni ni'"
      ]
     },
     "execution_count": 5,
     "metadata": {},
     "output_type": "execute_result"
    }
   ],
   "source": [
    "# 1. Try to extract data from index one to index 300 with a jump of 3\n",
    "s[0:300:3]"
   ]
  },
  {
   "cell_type": "code",
   "execution_count": 11,
   "id": "89ed0175-b514-4d44-8245-cc8c49483543",
   "metadata": {},
   "outputs": [
    {
     "name": "stdout",
     "output_type": "stream",
     "text": [
      "noitcnuf sti dna gnirts nohtyp GNINrael ma i dna ssalc gnimmargorp nohtyP tsriF yM si siht\n"
     ]
    }
   ],
   "source": [
    "# 2. Try to reverse a string without using reverse function \n",
    "print(s[::-1])"
   ]
  },
  {
   "cell_type": "code",
   "execution_count": 21,
   "id": "f48db1a2-ab6f-4c7e-af22-c4d9a02ba9e8",
   "metadata": {},
   "outputs": [
    {
     "name": "stdout",
     "output_type": "stream",
     "text": [
      "['THIS', 'IS', 'MY', 'FIRST', 'PYTHON', 'PROGRAMMING', 'CLASS', 'AND', 'I', 'AM', 'LEARNING', 'PYTHON', 'STRING', 'AND', 'ITS', 'FUNCTION']\n"
     ]
    }
   ],
   "source": [
    "# 3. Try to split a string after conversion of entire string in uppercase \n",
    "print(s.upper().split(' '))"
   ]
  },
  {
   "cell_type": "code",
   "execution_count": 23,
   "id": "b8a363cb-d448-45ac-ba30-341a8c9351b4",
   "metadata": {},
   "outputs": [
    {
     "data": {
      "text/plain": [
       "'this is my first python programming class and i am learning python string and its function'"
      ]
     },
     "execution_count": 23,
     "metadata": {},
     "output_type": "execute_result"
    }
   ],
   "source": [
    "# 4. try to convert the whole string into lower case\n",
    "s.lower()"
   ]
  },
  {
   "cell_type": "code",
   "execution_count": 27,
   "id": "1993506b-256f-48bf-98a6-63c1dc82a84f",
   "metadata": {},
   "outputs": [
    {
     "data": {
      "text/plain": [
       "'This is my first python programming class and i am learning python string and its function'"
      ]
     },
     "execution_count": 27,
     "metadata": {},
     "output_type": "execute_result"
    }
   ],
   "source": [
    "# 5. Try to capitalize the whole string \n",
    "s.capitalize()"
   ]
  },
  {
   "cell_type": "code",
   "execution_count": 35,
   "id": "b05ffe7e-91ca-4c92-ae35-ce56c056afbf",
   "metadata": {},
   "outputs": [
    {
     "name": "stdout",
     "output_type": "stream",
     "text": [
      "False\n",
      "False\n"
     ]
    }
   ],
   "source": [
    "# 6. Write a diference between isalnum() and isalpha()\n",
    "print(s.isalnum()) # It check whether the given input is in (alphabetical,numerical) or not.\n",
    "print(s.isalpha()) # It check whether the given input is in alphabets or not."
   ]
  },
  {
   "cell_type": "code",
   "execution_count": 40,
   "id": "e4048b1c-5027-480a-9f0c-bfd610510aec",
   "metadata": {},
   "outputs": [
    {
     "data": {
      "text/plain": [
       "'this is My First Python programming class and i am learNING python string and its       function'"
      ]
     },
     "execution_count": 40,
     "metadata": {},
     "output_type": "execute_result"
    }
   ],
   "source": [
    "# 7. Try to give an example of expand tab\n",
    "s = \"this is My First Python programming class and i am learNING python string and its \\tfunction\"\n",
    "s.expandtabs()"
   ]
  },
  {
   "cell_type": "code",
   "execution_count": 44,
   "id": "cf1059ec-a9e8-4b4c-82db-042600e0cb88",
   "metadata": {},
   "outputs": [
    {
     "name": "stdout",
     "output_type": "stream",
     "text": [
      "this is My First Python programming class and i am learNING python string and its function  \n",
      "  this is My First Python programming class and i am learNING python string and its function\n"
     ]
    }
   ],
   "source": [
    "# 8. Give an example of strip , lstrip and rstrip \n",
    "s = \"  this is My First Python programming class and i am learNING python string and its function  \"\n",
    "print(s.lstrip())\n",
    "print(s.rstrip())"
   ]
  },
  {
   "cell_type": "code",
   "execution_count": 50,
   "id": "3c35f189-1d29-4d11-b6d5-3b06a945834b",
   "metadata": {},
   "outputs": [
    {
     "data": {
      "text/plain": [
       "'ainnxt'"
      ]
     },
     "execution_count": 50,
     "metadata": {},
     "output_type": "execute_result"
    }
   ],
   "source": [
    "# 9. Replace a string character by another charactor by taking your own example \"aimnxt\"\n",
    "s1 = \"aimnxt\"\n",
    "s1.replace('m','n')"
   ]
  },
  {
   "cell_type": "code",
   "execution_count": 52,
   "id": "f4d93d45-21e4-4327-bc59-d47fa0a9db09",
   "metadata": {},
   "outputs": [
    {
     "data": {
      "text/plain": [
       "'@@@@@@@@@@@@aimnxt@@@@@@@@@@@@'"
      ]
     },
     "execution_count": 52,
     "metadata": {},
     "output_type": "execute_result"
    }
   ],
   "source": [
    "# 10. Try  to give a definition of string center function with and example \n",
    "s1.center(30,'@') # Center method aligns the string in the middle, using a specified character as the fill character."
   ]
  },
  {
   "cell_type": "code",
   "execution_count": 60,
   "id": "3a88c7bf-511e-45d2-8aeb-57725b5ac8d2",
   "metadata": {},
   "outputs": [
    {
     "name": "stdout",
     "output_type": "stream",
     "text": [
      "\n",
      "1. Compiler takes entire program as input.\n",
      "2. Memory required is more for compiler.\n",
      "3. Program need not to be compiled every time.\n",
      "4. Errors are displayed after entire program is checked.\n",
      "Ex : C Compiler\n",
      "\n"
     ]
    }
   ],
   "source": [
    "# 11. Write your own definition of compiler and interpretor without copy paste form internet in your own language\n",
    "Compiler = \"\"\"\n",
    "1. Compiler takes entire program as input.\n",
    "2. Memory required is more for compiler.\n",
    "3. Program need not to be compiled every time.\n",
    "4. Errors are displayed after entire program is checked.\n",
    "Ex : C Compiler\n",
    "\"\"\"\n",
    "print(Compiler)"
   ]
  },
  {
   "cell_type": "code",
   "execution_count": 62,
   "id": "36f69104-8c38-4ead-800f-1e067e6da5c0",
   "metadata": {},
   "outputs": [
    {
     "name": "stdout",
     "output_type": "stream",
     "text": [
      "\n",
      "1. Interpreter takes single instruction as input.\n",
      "2. Memory required is less for interpreter.\n",
      "3. Program need to be compiled every time (higher level language to lower level language).\n",
      "4. Errors are displayed for every instruction interpreted.\n",
      "Ex : Python Interpreter\n",
      "\n"
     ]
    }
   ],
   "source": [
    "Interpreter = \"\"\"\n",
    "1. Interpreter takes single instruction as input.\n",
    "2. Memory required is less for interpreter.\n",
    "3. Program need to be compiled every time (higher level language to lower level language).\n",
    "4. Errors are displayed for every instruction interpreted.\n",
    "Ex : Python Interpreter\n",
    "\"\"\"\n",
    "print(Interpreter)"
   ]
  },
  {
   "cell_type": "code",
   "execution_count": 64,
   "id": "306346d3-a367-4e88-abc4-3bfbf476e4dc",
   "metadata": {},
   "outputs": [
    {
     "name": "stdout",
     "output_type": "stream",
     "text": [
      "\n",
      "Python code is executed line by line by a Python Interpreter, without need of seperate compilation step. \n",
      "First Python code gets compiled (byte code) and then interpreted(python virtual machine).\n",
      "\n"
     ]
    }
   ],
   "source": [
    "# 12. Python is a interpreted of compiled language give a clear ans with your understanding \n",
    "why = \"\"\"\n",
    "Python code is executed line by line by a Python Interpreter, without need of seperate compilation step. \n",
    "First Python code gets compiled (byte code) and then interpreted(python virtual machine).\n",
    "\"\"\"\n",
    "print(why)"
   ]
  },
  {
   "cell_type": "code",
   "execution_count": 70,
   "id": "428a18a6-a8af-46c3-9bbb-e81d9d7006e2",
   "metadata": {},
   "outputs": [
    {
     "name": "stdout",
     "output_type": "stream",
     "text": [
      "\n",
      "Python's versatility and extensive library ecosystem make it an excellent choice for various projects. \n",
      "Whether you need to automate tasks, process data, build web applications and APIs, perform data analysis and AI, or \n",
      "conduct application testing.\n",
      "\n"
     ]
    }
   ],
   "source": [
    "# 13. Try to write a usecase of python with your understanding .\n",
    "usecase = \"\"\"\n",
    "Python's versatility and extensive library ecosystem make it an excellent choice for various projects. \n",
    "Whether you need to automate tasks, process data, build web applications and APIs, perform data analysis and AI, or \n",
    "conduct application testing.\n",
    "\"\"\"\n",
    "print(usecase)"
   ]
  }
 ],
 "metadata": {
  "kernelspec": {
   "display_name": "Python 3 (ipykernel)",
   "language": "python",
   "name": "python3"
  },
  "language_info": {
   "codemirror_mode": {
    "name": "ipython",
    "version": 3
   },
   "file_extension": ".py",
   "mimetype": "text/x-python",
   "name": "python",
   "nbconvert_exporter": "python",
   "pygments_lexer": "ipython3",
   "version": "3.12.2"
  }
 },
 "nbformat": 4,
 "nbformat_minor": 5
}
