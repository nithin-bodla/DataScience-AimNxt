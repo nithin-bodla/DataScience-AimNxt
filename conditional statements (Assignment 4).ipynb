{
 "cells": [
  {
   "cell_type": "markdown",
   "id": "f7da41c4-8ba8-4aec-84c4-cd9d70c672f3",
   "metadata": {},
   "source": [
    "# Assignment:\n",
    "\n",
    "1. Write a program that takes a number as input and prints \"Even\" if it's an even number, and \"Odd\" if it's an odd number.\n",
    "\n",
    "Expected Input:\n",
    "Enter a number: 7\n",
    "\n",
    "Expected Output:\n",
    "Odd\n",
    "2: Write a program that takes two numbers as input and prints the larger number.\n",
    "Expected Input:\n",
    "Enter the first number: 15\n",
    "Enter the second number: 22\n",
    "\n",
    "Expected Output:\n",
    "22\n",
    "\n",
    "3: Write a program that takes a character as input and prints \"Vowel\" if it's a vowel (a, e, i, o, u), and \"Consonant\" otherwise.\n",
    "Expected Input:\n",
    "Enter a character: a\n",
    "\n",
    "Expected Output:\n",
    "Vowel\n",
    "\n",
    "4: Write a program that takes a year as input and prints \"Leap Year\" if it's a leap year, and \"Not a Leap Year\" otherwise.\n",
    "Expected Input:\n",
    "Enter a year: 2024\n",
    "\n",
    "Expected Output:\n",
    "Leap Year\n",
    "\n",
    "5: Write a program that takes a grade as input (A, B, C, D, or F) and prints \"Pass\" if it's A, B, C, or D, and \"Fail\" if it's F.\n",
    "Expected Input:\n",
    "Enter your grade: C\n",
    "\n",
    "Expected Output:\n",
    "Pass"
   ]
  },
  {
   "cell_type": "markdown",
   "id": "3ca6090d-c63b-4b48-b725-e7358d6ed064",
   "metadata": {},
   "source": [
    "1. Write a program that takes a number as input and prints \"Even\" if it's an even number, and \"Odd\" if it's an odd number.\n",
    "\n",
    "Expected Input:\n",
    "Enter a number: 7\n"
   ]
  },
  {
   "cell_type": "code",
   "execution_count": 3,
   "id": "a6428d5f-004e-4a40-9f86-127db8ea62ef",
   "metadata": {},
   "outputs": [
    {
     "name": "stdin",
     "output_type": "stream",
     "text": [
      "Enter a number:  7\n"
     ]
    },
    {
     "name": "stdout",
     "output_type": "stream",
     "text": [
      "Odd\n"
     ]
    }
   ],
   "source": [
    "user = int(input(\"Enter a number: \"))\n",
    "if user%2==0:\n",
    "    print(\"Even\")\n",
    "else:\n",
    "    print(\"Odd\")"
   ]
  },
  {
   "cell_type": "markdown",
   "id": "749d0939-5735-4273-b476-930bdf018036",
   "metadata": {},
   "source": [
    "2: Write a program that takes two numbers as input and prints the larger number.\n",
    "Expected Input:\n",
    "Enter the first number: 15\n",
    "Enter the second number: 22\n",
    "\n",
    "Expected Output:\n",
    "22\n"
   ]
  },
  {
   "cell_type": "code",
   "execution_count": 14,
   "id": "80e46603-f9b1-4b9e-a9d8-9120ace35023",
   "metadata": {},
   "outputs": [
    {
     "name": "stdin",
     "output_type": "stream",
     "text": [
      "Enter the first number:  15\n",
      "Enter the second number:  22\n"
     ]
    },
    {
     "name": "stdout",
     "output_type": "stream",
     "text": [
      "22\n"
     ]
    }
   ],
   "source": [
    "u1 = int(input(\"Enter the first number: \"))\n",
    "u2 = int(input(\"Enter the second number: \"))\n",
    "if u1>u2:\n",
    "    print(u1)\n",
    "else:\n",
    "    print(u2)"
   ]
  },
  {
   "cell_type": "markdown",
   "id": "dab57a9c-0d0e-4d37-8a2b-8f2498408797",
   "metadata": {},
   "source": [
    "3: Write a program that takes a character as input and prints \"Vowel\" if it's a vowel (a, e, i, o, u), and \"Consonant\" otherwise.\n",
    "Expected Input:\n",
    "Enter a character: a\n",
    "\n",
    "Expected Output:\n",
    "Vowel"
   ]
  },
  {
   "cell_type": "code",
   "execution_count": 11,
   "id": "5143ac5e-1d9b-415a-80eb-21457949d9cf",
   "metadata": {},
   "outputs": [
    {
     "name": "stdin",
     "output_type": "stream",
     "text": [
      "Enter a character:  a\n"
     ]
    },
    {
     "name": "stdout",
     "output_type": "stream",
     "text": [
      "Vowel\n"
     ]
    }
   ],
   "source": [
    "s = input(\"Enter a character: \")\n",
    "l = ['a','e','i', 'o', 'u']\n",
    "if s in l:\n",
    "    print(\"Vowel\")\n",
    "else:\n",
    "    print(\"Consonant\")\n"
   ]
  },
  {
   "cell_type": "markdown",
   "id": "d813587c-915d-4f61-9e22-d4428ad2a7d7",
   "metadata": {},
   "source": [
    "4: Write a program that takes a year as input and prints \"Leap Year\" if it's a leap year, and \"Not a Leap Year\" otherwise.\n",
    "Expected Input:\n",
    "Enter a year: 2024\n",
    "\n",
    "Expected Output:\n",
    "Leap Year"
   ]
  },
  {
   "cell_type": "code",
   "execution_count": 18,
   "id": "408f8939-0478-4587-b5f0-2e9c0b6b9a23",
   "metadata": {},
   "outputs": [
    {
     "name": "stdin",
     "output_type": "stream",
     "text": [
      "Enter a year:  2024\n"
     ]
    },
    {
     "name": "stdout",
     "output_type": "stream",
     "text": [
      "Leap Year\n"
     ]
    }
   ],
   "source": [
    "year = int(input(\"Enter a year: \"))\n",
    "\n",
    "if (year%4==0 and year%100!=0) or year%400==0:\n",
    "    print(\"Leap Year\")\n",
    "else:\n",
    "    print(\"Not Leap year\")"
   ]
  },
  {
   "cell_type": "markdown",
   "id": "5c227837-d81e-475b-91d1-2c3503e5ee4b",
   "metadata": {},
   "source": [
    "5: Write a program that takes a grade as input (A, B, C, D, or F) and prints \"Pass\" if it's A, B, C, or D, and \"Fail\" if it's F.\n",
    "Expected Input:\n",
    "Enter your grade: C\n",
    "\n",
    "Expected Output:\n",
    "Pass"
   ]
  },
  {
   "cell_type": "code",
   "execution_count": 21,
   "id": "f79875ef-ba11-4ff6-9116-afebf5fe5d9e",
   "metadata": {},
   "outputs": [
    {
     "name": "stdin",
     "output_type": "stream",
     "text": [
      "Enter a Grade:  C\n"
     ]
    },
    {
     "name": "stdout",
     "output_type": "stream",
     "text": [
      "Pass\n"
     ]
    }
   ],
   "source": [
    "g = input(\"Enter a Grade: \")\n",
    "l1 = ['A', 'B', 'C', 'D']\n",
    "l2 = ['F']\n",
    "if g in l1:\n",
    "    print(\"Pass\")\n",
    "else:\n",
    "    print(\"Fail\")"
   ]
  },
  {
   "cell_type": "markdown",
   "id": "263af6df-4ce6-48ea-a223-1ac83341d764",
   "metadata": {},
   "source": [
    "a,b,c,d=10,11,12,13\n",
    "####### Question 01 #######\n",
    "if a==10 or b==11 and c==12 and d==113: #### Case 1\n",
    "    # this is equal to a==10 or (b==11 and c==12 and d==113)\n",
    "    print('lets do something 1')\n",
    "if (a==10 and b==11 ) or (c==12 and d==113):  #### Case 2\n",
    "    # this is equal to (a==10 and b==11) or (c==12 and d==113)\n",
    "    print('lets do something 2')\n",
    "if a==10 and b==11 and c==12 and d==13 or a==9:   #### Case 3\n",
    "    # this is equal to (a==10 and b==11 and c==12 and d==13) or a==9\n",
    "    print('lets do something 3')\n",
    "if a==9 or b==11 and c==12 and d==13:   #### Case 4\n",
    "    print('lets do something 4')\n",
    "############# Question 2 #########\n",
    "# What is the difference between:\n",
    "print(type(a) == int)\n",
    "print(type(a) is int)"
   ]
  },
  {
   "cell_type": "code",
   "execution_count": 24,
   "id": "01d7db53-20c3-4ed7-82a1-5463a1e8f8d8",
   "metadata": {},
   "outputs": [
    {
     "name": "stdout",
     "output_type": "stream",
     "text": [
      "lets do something1\n",
      "lets do something 2\n",
      "lets do something 3\n",
      "lets do something 4\n"
     ]
    }
   ],
   "source": [
    "a,b,c,d=10,11,12,13\n",
    "if a==10 or b==11 and c==12 and d==113:\n",
    "    print(\"lets do something1\")\n",
    "if (a==10 and b==11 ) or (c==12 and d==113):\n",
    "    print(\"lets do something 2\")\n",
    "if a==10 and b==11 and c==12 and d==13 or a==9:\n",
    "    print(\"lets do something 3\")\n",
    "if a==9 or b==11 and c==12 and d==13:\n",
    "    print('lets do something 4')\n",
    "    \n",
    "    \n",
    "    "
   ]
  },
  {
   "cell_type": "markdown",
   "id": "a9d74407-12d8-494d-98d7-896fea13fc3b",
   "metadata": {},
   "source": [
    "# What is the difference between:\n",
    "1. print(type(a) == int)\n",
    "2. print(type(a) is int)"
   ]
  },
  {
   "cell_type": "markdown",
   "id": "10be8b1e-dbe0-427e-805d-7f5e7e30b410",
   "metadata": {},
   "source": [
    "1. == checks for value equality (two objects that look the same).\n",
    "2. is checks for identity equality (whether both refer to the exact same object in memory)."
   ]
  },
  {
   "cell_type": "markdown",
   "id": "a87951ef-038f-4ab1-9608-3ab34fb18623",
   "metadata": {},
   "source": [
    "# Assignment:\n",
    "\n",
    "1. Number Comparison\n",
    "Write a program to check if a number entered by the user is positive, negative, or zero.\n",
    "\n",
    "2. Leap Year Checker\n",
    "Write a program to determine whether a given year is a leap year or not.\n",
    "\n",
    "3. Age Eligibility\n",
    "Write a program that asks for a user's age and determines if they are eligible to vote (18 years and older).\n",
    "\n",
    "4. Grading System\n",
    "Write a program that takes a student's marks as input and displays their grade based on the following criteria:\n",
    "\n",
    "90 and above: A\n",
    "75–89: B\n",
    "50–74: C\n",
    "Below 50: F\n",
    "\n",
    "\n",
    "5. Even or Odd\n",
    "Write a program to check whether a number entered by the user is even or odd.\n",
    "\n",
    "6. Maximum of Three Numbers\n",
    "Write a program that takes three numbers as input and determines the largest of the three.\n",
    "\n",
    "7. Password Validation\n",
    "Write a program that asks the user to enter a password and checks if it matches a predefined password. If it matches, print \"Access Granted\"; otherwise, print \"Access Denied.\"\n",
    "\n",
    "8. Discount Calculation\n",
    "A store gives a 10% discount if the total purchase is above $1000. Write a program to calculate the final amount after applying the discount if applicable.\n",
    "\n",
    "9. Triangle Type Checker\n",
    "Write a program that takes the lengths of three sides of a triangle and determines if it is:\n",
    "\n",
    "Equilateral (all sides are equal),\n",
    "Isosceles (two sides are equal), or\n",
    "Scalene (no sides are equal).\n",
    "\n",
    "10. Divisibility Check\n",
    "\n",
    "Write a program to check if a number entered by the user is divisible by 5 and 11 or not.\n",
    "\n",
    "11. Attendance Eligibility\n",
    "A student is allowed to take the exam if their attendance is 75% or higher. Write a program to ask the student for their total classes and attended classes, calculate attendance, and determine their eligibility.\n",
    "\n",
    "12. Temperature Advice\n",
    "Write a program that asks the user for the current temperature and provides advice:\n",
    "\n",
    "Above 30°C: \"It's hot outside. Stay hydrated.\"\n",
    "Between 15°C and 30°C: \"The weather is pleasant.\"\n",
    "Below 15°C: \"It's cold outside. Wear a jacket.\"\n",
    "\n",
    "13. Number Range Check\n",
    "Write a program to check if a number lies in the range of 1 to 100 (inclusive).\n",
    "\n",
    "14. Simple Calculator\n",
    "Write a program that takes two numbers and an operator (+, -, *, /) as input and performs the corresponding operation. If the operator is invalid, print an error message.\n",
    "\n",
    "15. Odd or Even Year\n",
    "Write a program to determine whether a given year is odd or even.15. Odd or Even Year\n",
    "Write a program to determine whether a given year is odd or even."
   ]
  },
  {
   "cell_type": "markdown",
   "id": "c3d7f34d-d56d-4d0e-af73-0d8305efd082",
   "metadata": {},
   "source": [
    "1. Number Comparison\n",
    "Write a program to check if a number entered by the user is positive, negative, or zero."
   ]
  },
  {
   "cell_type": "markdown",
   "id": "675c9cc2-f9c4-4998-b897-ceca13b5c808",
   "metadata": {},
   "source": [
    "n = int(input(\"Enter a Number: \"))\n",
    "if n<0:\n",
    "    print(\"Negative\")\n",
    "elif n>0:\n",
    "    print(\"Positive\")\n",
    "else:\n",
    "    print(\"Zero\")"
   ]
  },
  {
   "cell_type": "markdown",
   "id": "7e9b2027-f91c-4d80-a694-bb22b91d48e3",
   "metadata": {},
   "source": [
    "2. Leap Year Checker\n",
    "Write a program to determine whether a given year is a leap year or not.\n"
   ]
  },
  {
   "cell_type": "code",
   "execution_count": 40,
   "id": "90016e01-03a6-41be-9f05-c2fc7c538871",
   "metadata": {},
   "outputs": [
    {
     "name": "stdin",
     "output_type": "stream",
     "text": [
      "Enter a year:  2020\n"
     ]
    },
    {
     "name": "stdout",
     "output_type": "stream",
     "text": [
      "Leap Year\n"
     ]
    }
   ],
   "source": [
    "year = int(input(\"Enter a year: \"))\n",
    "\n",
    "if (year%4==0 and year%100!=0) or year%400==0:\n",
    "    print(\"Leap Year\")\n",
    "else:\n",
    "    print(\"Not Leap year\")"
   ]
  },
  {
   "cell_type": "markdown",
   "id": "0ba9b21b-73a9-45a5-a0f6-ae6866966c5a",
   "metadata": {},
   "source": [
    "3. Age Eligibility\n",
    "Write a program that asks for a user's age and determines if they are eligible to vote (18 years and older).\n"
   ]
  },
  {
   "cell_type": "code",
   "execution_count": 47,
   "id": "20c1b31f-e12c-47e2-a440-43e40aec9ce9",
   "metadata": {},
   "outputs": [
    {
     "name": "stdin",
     "output_type": "stream",
     "text": [
      "Enter age:  18\n"
     ]
    },
    {
     "name": "stdout",
     "output_type": "stream",
     "text": [
      "Elgible\n"
     ]
    }
   ],
   "source": [
    "user = int(input(\"Enter age: \"))\n",
    "if user>=18:\n",
    "    print(\"Elgible\")\n",
    "else:\n",
    "    print(\"Inelgible\")"
   ]
  },
  {
   "cell_type": "markdown",
   "id": "f4f5678b-3e8a-4fb7-808b-e4b755193894",
   "metadata": {},
   "source": [
    "4. Grading System\n",
    "Write a program that takes a student's marks as input and displays their grade based on the following criteria:\n",
    "\n",
    "90 and above: A\n",
    "75–89: B\n",
    "50–74: C\n",
    "Below 50: F"
   ]
  },
  {
   "cell_type": "code",
   "execution_count": 56,
   "id": "4191a4ea-0825-413b-99ad-5b32d608b674",
   "metadata": {},
   "outputs": [
    {
     "name": "stdin",
     "output_type": "stream",
     "text": [
      "enter grade:  75\n"
     ]
    },
    {
     "name": "stdout",
     "output_type": "stream",
     "text": [
      "B\n"
     ]
    }
   ],
   "source": [
    "grade = int(input(\"enter grade: \"))\n",
    "if grade>=90:\n",
    "    print(\"A\")\n",
    "elif grade>=75 and grade<=89:\n",
    "    print(\"B\")\n",
    "elif grade>=50 and grade<=74:\n",
    "    print(\"C\")\n",
    "else:\n",
    "    print(\"F\")"
   ]
  },
  {
   "cell_type": "markdown",
   "id": "4628e657-0bd7-418d-aa0d-2ce0cca8e0cc",
   "metadata": {},
   "source": [
    "5. Even or Odd\n",
    "Write a program to check whether a number entered by the user is even or odd."
   ]
  },
  {
   "cell_type": "code",
   "execution_count": 60,
   "id": "ed4a7d2e-2d00-4897-a855-545a633d25d4",
   "metadata": {},
   "outputs": [
    {
     "name": "stdin",
     "output_type": "stream",
     "text": [
      "Enter a number:  3\n"
     ]
    },
    {
     "name": "stdout",
     "output_type": "stream",
     "text": [
      "Odd\n"
     ]
    }
   ],
   "source": [
    "n = int(input(\"Enter a number: \"))\n",
    "if n%2==0:\n",
    "    print(\"Even\")\n",
    "else:\n",
    "    print(\"Odd\")"
   ]
  },
  {
   "cell_type": "markdown",
   "id": "ef79aa80-4922-4b74-992c-0e96079e37ca",
   "metadata": {},
   "source": [
    "6. Maximum of Three Numbers\n",
    "Write a program that takes three numbers as input and determines the largest of the three."
   ]
  },
  {
   "cell_type": "code",
   "execution_count": 63,
   "id": "b294d320-3c4e-4073-bb46-f28808a7700b",
   "metadata": {},
   "outputs": [
    {
     "name": "stdin",
     "output_type": "stream",
     "text": [
      " 1\n",
      " 2\n",
      " 3\n"
     ]
    },
    {
     "name": "stdout",
     "output_type": "stream",
     "text": [
      "3\n"
     ]
    }
   ],
   "source": [
    "a = input()\n",
    "b= input()\n",
    "c = input()\n",
    "if a>b and a>c:\n",
    "    print(a)\n",
    "elif b>c:\n",
    "    print(b)\n",
    "else:\n",
    "    print(c)"
   ]
  },
  {
   "cell_type": "markdown",
   "id": "451c64cc-dfaf-4de8-8c8f-f9ab84bc7acf",
   "metadata": {},
   "source": [
    "7. Password Validation\n",
    "Write a program that asks the user to enter a password and checks if it matches a predefined password. If it matches, print \"Access Granted\"; otherwise, print \"Access Denied.\"\n"
   ]
  },
  {
   "cell_type": "code",
   "execution_count": 66,
   "id": "16d8b2c2-40ad-4256-9b38-ca01cb5980ca",
   "metadata": {},
   "outputs": [
    {
     "name": "stdin",
     "output_type": "stream",
     "text": [
      "Enter password:  nithin\n"
     ]
    },
    {
     "name": "stdout",
     "output_type": "stream",
     "text": [
      "Access Granted\n"
     ]
    }
   ],
   "source": [
    "pre = \"nithin\"\n",
    "pass1 = input(\"Enter password: \")\n",
    "if pass1 == pre:\n",
    "    print(\"Access Granted\")\n",
    "else:\n",
    "    print(\"Access Denied\")"
   ]
  },
  {
   "cell_type": "markdown",
   "id": "d5fc2ae0-9582-4675-b28d-a0e97deab755",
   "metadata": {},
   "source": [
    "8. Discount Calculation\n",
    "A store gives a 10% discount if the total purchase is above $1000. Write a program to calculate the final amount after applying the discount if applicable.\n"
   ]
  },
  {
   "cell_type": "code",
   "execution_count": 71,
   "id": "7c58fae2-96c3-40b8-843d-9797e5d6be01",
   "metadata": {},
   "outputs": [
    {
     "name": "stdin",
     "output_type": "stream",
     "text": [
      "Enter total purchase:  1200\n"
     ]
    },
    {
     "name": "stdout",
     "output_type": "stream",
     "text": [
      "Discount Applicable\n",
      "1080.0\n"
     ]
    }
   ],
   "source": [
    "a = int(input(\"Enter total purchase: \"))\n",
    "if a > 1000:\n",
    "    discount = a * 0.10\n",
    "    finalamount = a - discount\n",
    "    print(\"Discount Applicable\")\n",
    "    print(finalamount)\n",
    "else:\n",
    "    print(\"Discount Not applicable\")"
   ]
  },
  {
   "cell_type": "markdown",
   "id": "b1e4ff4e-181b-4325-afd9-061f3754c62c",
   "metadata": {},
   "source": [
    "9. Triangle Type Checker\n",
    "Write a program that takes the lengths of three sides of a triangle and determines if it is:\n",
    "\n",
    "Equilateral (all sides are equal),\n",
    "Isosceles (two sides are equal), or\n",
    "Scalene (no sides are equal)."
   ]
  },
  {
   "cell_type": "code",
   "execution_count": 86,
   "id": "5951e7d6-297d-4d74-8dea-f7eb27506790",
   "metadata": {},
   "outputs": [
    {
     "name": "stdout",
     "output_type": "stream",
     "text": [
      "two sides are equal\n"
     ]
    }
   ],
   "source": [
    "a = 10\n",
    "b =10\n",
    "c = 20\n",
    "if a==b==c:\n",
    "    print(\"all side are equal\")\n",
    "elif a==b or b==c or a==c:\n",
    "    print(\"two sides are equal\")\n",
    "else:\n",
    "    print(\"no sides are equal\")"
   ]
  },
  {
   "cell_type": "markdown",
   "id": "b518e927-a92f-4410-8528-7da1129478f1",
   "metadata": {},
   "source": [
    "10. Divisibility Check\n",
    "\n",
    "Write a program to check if a number entered by the user is divisible by 5 and 11 or not.\n"
   ]
  },
  {
   "cell_type": "code",
   "execution_count": 89,
   "id": "da888ee2-b686-4bac-9f29-908b224befa6",
   "metadata": {},
   "outputs": [
    {
     "name": "stdin",
     "output_type": "stream",
     "text": [
      "Enter a number:  55\n"
     ]
    },
    {
     "name": "stdout",
     "output_type": "stream",
     "text": [
      "Divisible\n"
     ]
    }
   ],
   "source": [
    "num = int(input(\"Enter a number: \"))\n",
    "if num%5==0 and num%11==0:\n",
    "    print(\"Divisible\")\n",
    "else:\n",
    "    print(\"Not Divisible\")"
   ]
  },
  {
   "cell_type": "markdown",
   "id": "34eb011a-0f23-4029-a3be-bc04f35dc9c1",
   "metadata": {},
   "source": [
    "11. Attendance Eligibility\n",
    "A student is allowed to take the exam if their attendance is 75% or higher. Write a program to ask the student for their total classes and attended classes, calculate attendance, and determine their eligibility."
   ]
  },
  {
   "cell_type": "code",
   "execution_count": 92,
   "id": "5bf37971-ed0a-4c97-b517-1f218097caa4",
   "metadata": {},
   "outputs": [
    {
     "name": "stdin",
     "output_type": "stream",
     "text": [
      "total classes:  20\n",
      "Attended classes:  10\n"
     ]
    },
    {
     "name": "stdout",
     "output_type": "stream",
     "text": [
      "Elgibile\n"
     ]
    }
   ],
   "source": [
    "t = int(input(\"total classes: \"))\n",
    "a = int(input(\"Attended classes: \"))\n",
    "c = (t/a)*100\n",
    "if c>=75:\n",
    "    print(\"Elgibile\")\n",
    "else:\n",
    "    print(\"Inelgible\")"
   ]
  },
  {
   "cell_type": "markdown",
   "id": "0948988f-6a5f-4368-b5b9-f233f842cd06",
   "metadata": {},
   "source": [
    "12. Temperature Advice\n",
    "Write a program that asks the user for the current temperature and provides advice:\n",
    "\n",
    "Above 30°C: \"It's hot outside. Stay hydrated.\"\n",
    "Between 15°C and 30°C: \"The weather is pleasant.\"\n",
    "Below 15°C: \"It's cold outside. Wear a jacket.\"\n"
   ]
  },
  {
   "cell_type": "code",
   "execution_count": 95,
   "id": "1103f7aa-fdf0-441e-9fdb-577512c62992",
   "metadata": {},
   "outputs": [
    {
     "name": "stdin",
     "output_type": "stream",
     "text": [
      "Enter temperature:  30\n"
     ]
    },
    {
     "name": "stdout",
     "output_type": "stream",
     "text": [
      "The weather is pleasant.\n"
     ]
    }
   ],
   "source": [
    "temp = int(input(\"Enter temperature: \"))\n",
    "if temp>30:\n",
    "    print(\"It's hot outside. Stay hydrated.\")\n",
    "elif temp>=15 and temp<=30:\n",
    "    print(\"The weather is pleasant.\")\n",
    "else:\n",
    "    print(\"It's cold outside. Wear a jacket.\")"
   ]
  },
  {
   "cell_type": "markdown",
   "id": "c2c5d63f-bdc3-46c2-a765-d2070f13a616",
   "metadata": {},
   "source": [
    "13. Number Range Check\n",
    "Write a program to check if a number lies in the range of 1 to 100 (inclusive)."
   ]
  },
  {
   "cell_type": "code",
   "execution_count": 100,
   "id": "853345b6-019e-4475-9cda-039312557b74",
   "metadata": {},
   "outputs": [
    {
     "name": "stdin",
     "output_type": "stream",
     "text": [
      "Enter a number:  100\n"
     ]
    },
    {
     "name": "stdout",
     "output_type": "stream",
     "text": [
      "Inclusive\n"
     ]
    }
   ],
   "source": [
    "num = int(input(\"Enter a number: \"))\n",
    "if num>=1 and num <=100:\n",
    "    print(\"Inclusive\")\n",
    "else:\n",
    "    print(\"Exclusive\")"
   ]
  },
  {
   "cell_type": "markdown",
   "id": "48fcb233-c34c-496e-8e8f-9eda1d4c4b52",
   "metadata": {},
   "source": [
    "14. Simple Calculator\n",
    "Write a program that takes two numbers and an operator (+, -, *, /) as input and performs the corresponding operation. If the operator is invalid, print an error message."
   ]
  },
  {
   "cell_type": "code",
   "execution_count": 107,
   "id": "1bee054c-dcbe-4f62-b846-9fb7f2215839",
   "metadata": {},
   "outputs": [
    {
     "name": "stdin",
     "output_type": "stream",
     "text": [
      "Enter first number:  4\n",
      "Enter second number:  2\n",
      "Enter an operator (+, -, *, /):  /\n"
     ]
    },
    {
     "name": "stdout",
     "output_type": "stream",
     "text": [
      "2.0\n"
     ]
    }
   ],
   "source": [
    "a = float(input(\"Enter first number: \"))\n",
    "b = float(input(\"Enter second number: \"))\n",
    "operator = input(\"Enter an operator (+, -, *, /): \")\n",
    "if operator == '+':\n",
    "     print(a+b)\n",
    "elif operator == '-':\n",
    "    print(a-b)\n",
    "elif operator == '*':\n",
    "    print(a*b)\n",
    "else:\n",
    "    print(a/b)"
   ]
  },
  {
   "cell_type": "markdown",
   "id": "f2c4a953-0946-45f4-9327-ea12ebeabbf2",
   "metadata": {},
   "source": [
    "15. Odd or Even Year\n",
    "Write a program to determine whether a given year is odd or even."
   ]
  },
  {
   "cell_type": "code",
   "execution_count": 110,
   "id": "7c85def4-5141-47fa-b2a3-213df83b028b",
   "metadata": {},
   "outputs": [
    {
     "name": "stdin",
     "output_type": "stream",
     "text": [
      "enter year number:  2024\n"
     ]
    },
    {
     "name": "stdout",
     "output_type": "stream",
     "text": [
      "Even\n"
     ]
    }
   ],
   "source": [
    "year = int(input(\"enter year number: \"))\n",
    "if year%2==0:\n",
    "    print(\"Even\")\n",
    "else:\n",
    "    print(\"Odd\")"
   ]
  }
 ],
 "metadata": {
  "kernelspec": {
   "display_name": "Python 3 (ipykernel)",
   "language": "python",
   "name": "python3"
  },
  "language_info": {
   "codemirror_mode": {
    "name": "ipython",
    "version": 3
   },
   "file_extension": ".py",
   "mimetype": "text/x-python",
   "name": "python",
   "nbconvert_exporter": "python",
   "pygments_lexer": "ipython3",
   "version": "3.12.2"
  }
 },
 "nbformat": 4,
 "nbformat_minor": 5
}
