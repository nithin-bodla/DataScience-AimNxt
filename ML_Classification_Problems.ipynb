{
 "cells": [
  {
   "cell_type": "markdown",
   "id": "4a37af66-6564-4616-9539-54859a07678b",
   "metadata": {},
   "source": [
    "# ML Classification Problems"
   ]
  },
  {
   "cell_type": "code",
   "execution_count": 4,
   "id": "3acdc637-2a1f-49c8-be72-4f46305456ea",
   "metadata": {},
   "outputs": [],
   "source": [
    "# Import Libraries\n",
    "from sklearn.datasets import load_iris, load_wine, load_breast_cancer, make_classification\n",
    "from sklearn.model_selection import train_test_split\n",
    "from sklearn.preprocessing import StandardScaler\n",
    "from sklearn.linear_model import LogisticRegression\n",
    "from sklearn.svm import SVC\n",
    "from sklearn.tree import DecisionTreeClassifier\n",
    "from sklearn.ensemble import RandomForestClassifier\n",
    "from sklearn.metrics import accuracy_score, classification_report\n",
    "import pandas as pd"
   ]
  },
  {
   "cell_type": "code",
   "execution_count": 6,
   "id": "9ba05692-323a-4f7c-9357-67ffc29df46f",
   "metadata": {},
   "outputs": [],
   "source": [
    "# Import Datsets\n",
    "datasets = {\n",
    "    \"Iris\": load_iris(),\n",
    "    \"Wine\": load_wine(),\n",
    "    \"Breast_Cancer\": load_breast_cancer(),\n",
    "    \"Synthetic_Binary\": make_classification(n_samples=200, n_features=5, n_classes=2, random_state=42),\n",
    "    \"Synthetic_Multi\": make_classification(n_samples=200, n_features=5, n_classes=3, n_clusters_per_class=1, random_state=42)\n",
    "}"
   ]
  },
  {
   "cell_type": "code",
   "execution_count": 8,
   "id": "9092d651-0f4f-4ffd-8ebd-0d9ef7d1aa53",
   "metadata": {},
   "outputs": [],
   "source": [
    "# Classification models\n",
    "models = {\n",
    "    \"LogisticRegression\": LogisticRegression(max_iter=1000),\n",
    "    \"SVC\": SVC(),\n",
    "    \"DecisionTree\": DecisionTreeClassifier(),\n",
    "    \"RandomForest\": RandomForestClassifier(n_estimators=100)\n",
    "}\n"
   ]
  },
  {
   "cell_type": "code",
   "execution_count": 10,
   "id": "b5aa26f4-1c66-4b1c-8a9e-e063782ce54e",
   "metadata": {},
   "outputs": [],
   "source": [
    "# Results dictionary\n",
    "all_results = {}"
   ]
  },
  {
   "cell_type": "code",
   "execution_count": 12,
   "id": "2cc647d4-06cf-433c-a679-129b9f3e6fa4",
   "metadata": {},
   "outputs": [
    {
     "data": {
      "text/plain": [
       "['Iris', 'Wine', 'Breast_Cancer', 'Synthetic_Binary', 'Synthetic_Multi']"
      ]
     },
     "execution_count": 12,
     "metadata": {},
     "output_type": "execute_result"
    }
   ],
   "source": [
    "# Loop through datasets\n",
    "for name, dataset in datasets.items():\n",
    "    if isinstance(dataset, tuple):\n",
    "        X, y = dataset\n",
    "        feature_names = [f\"Feature_{i}\" for i in range(X.shape[1])]\n",
    "    else:\n",
    "        X = dataset.data\n",
    "        y = dataset.target\n",
    "        feature_names = dataset.feature_names\n",
    "\n",
    "    # Scale features\n",
    "    scaler = StandardScaler()\n",
    "    X_scaled = scaler.fit_transform(X)\n",
    "\n",
    "    # Split data\n",
    "    X_train, X_test, y_train, y_test = train_test_split(X_scaled, y, test_size=0.2, random_state=42)\n",
    "\n",
    "    # Store results per dataset\n",
    "    dataset_results = {}\n",
    "\n",
    "    # Run models\n",
    "    for model_name, model in models.items():\n",
    "        model.fit(X_train, y_train)\n",
    "        preds = model.predict(X_test)\n",
    "        acc = accuracy_score(y_test, preds)\n",
    "        report = classification_report(y_test, preds, output_dict=True)\n",
    "        dataset_results[model_name] = {\n",
    "            \"Accuracy\": acc,\n",
    "            \"Classification Report\": pd.DataFrame(report).transpose()\n",
    "        }\n",
    "\n",
    "    all_results[name] = dataset_results\n",
    "\n",
    "list(all_results.keys())  # Show dataset names processed\n"
   ]
  },
  {
   "cell_type": "code",
   "execution_count": 14,
   "id": "49ae7f63-3515-462e-bb47-24ba5b2f8c6c",
   "metadata": {},
   "outputs": [
    {
     "data": {
      "text/html": [
       "<div>\n",
       "<style scoped>\n",
       "    .dataframe tbody tr th:only-of-type {\n",
       "        vertical-align: middle;\n",
       "    }\n",
       "\n",
       "    .dataframe tbody tr th {\n",
       "        vertical-align: top;\n",
       "    }\n",
       "\n",
       "    .dataframe thead th {\n",
       "        text-align: right;\n",
       "    }\n",
       "</style>\n",
       "<table border=\"1\" class=\"dataframe\">\n",
       "  <thead>\n",
       "    <tr style=\"text-align: right;\">\n",
       "      <th></th>\n",
       "      <th>Dataset</th>\n",
       "      <th>Model</th>\n",
       "      <th>Accuracy</th>\n",
       "    </tr>\n",
       "  </thead>\n",
       "  <tbody>\n",
       "    <tr>\n",
       "      <th>0</th>\n",
       "      <td>Breast_Cancer</td>\n",
       "      <td>LogisticRegression</td>\n",
       "      <td>0.973684</td>\n",
       "    </tr>\n",
       "    <tr>\n",
       "      <th>1</th>\n",
       "      <td>Breast_Cancer</td>\n",
       "      <td>SVC</td>\n",
       "      <td>0.973684</td>\n",
       "    </tr>\n",
       "    <tr>\n",
       "      <th>2</th>\n",
       "      <td>Breast_Cancer</td>\n",
       "      <td>RandomForest</td>\n",
       "      <td>0.964912</td>\n",
       "    </tr>\n",
       "    <tr>\n",
       "      <th>3</th>\n",
       "      <td>Breast_Cancer</td>\n",
       "      <td>DecisionTree</td>\n",
       "      <td>0.929825</td>\n",
       "    </tr>\n",
       "    <tr>\n",
       "      <th>4</th>\n",
       "      <td>Iris</td>\n",
       "      <td>LogisticRegression</td>\n",
       "      <td>1.000000</td>\n",
       "    </tr>\n",
       "    <tr>\n",
       "      <th>5</th>\n",
       "      <td>Iris</td>\n",
       "      <td>SVC</td>\n",
       "      <td>1.000000</td>\n",
       "    </tr>\n",
       "    <tr>\n",
       "      <th>6</th>\n",
       "      <td>Iris</td>\n",
       "      <td>DecisionTree</td>\n",
       "      <td>1.000000</td>\n",
       "    </tr>\n",
       "    <tr>\n",
       "      <th>7</th>\n",
       "      <td>Iris</td>\n",
       "      <td>RandomForest</td>\n",
       "      <td>1.000000</td>\n",
       "    </tr>\n",
       "    <tr>\n",
       "      <th>8</th>\n",
       "      <td>Synthetic_Binary</td>\n",
       "      <td>LogisticRegression</td>\n",
       "      <td>0.875000</td>\n",
       "    </tr>\n",
       "    <tr>\n",
       "      <th>9</th>\n",
       "      <td>Synthetic_Binary</td>\n",
       "      <td>RandomForest</td>\n",
       "      <td>0.875000</td>\n",
       "    </tr>\n",
       "    <tr>\n",
       "      <th>10</th>\n",
       "      <td>Synthetic_Binary</td>\n",
       "      <td>SVC</td>\n",
       "      <td>0.850000</td>\n",
       "    </tr>\n",
       "    <tr>\n",
       "      <th>11</th>\n",
       "      <td>Synthetic_Binary</td>\n",
       "      <td>DecisionTree</td>\n",
       "      <td>0.725000</td>\n",
       "    </tr>\n",
       "    <tr>\n",
       "      <th>12</th>\n",
       "      <td>Synthetic_Multi</td>\n",
       "      <td>LogisticRegression</td>\n",
       "      <td>0.900000</td>\n",
       "    </tr>\n",
       "    <tr>\n",
       "      <th>13</th>\n",
       "      <td>Synthetic_Multi</td>\n",
       "      <td>SVC</td>\n",
       "      <td>0.875000</td>\n",
       "    </tr>\n",
       "    <tr>\n",
       "      <th>14</th>\n",
       "      <td>Synthetic_Multi</td>\n",
       "      <td>RandomForest</td>\n",
       "      <td>0.825000</td>\n",
       "    </tr>\n",
       "    <tr>\n",
       "      <th>15</th>\n",
       "      <td>Synthetic_Multi</td>\n",
       "      <td>DecisionTree</td>\n",
       "      <td>0.775000</td>\n",
       "    </tr>\n",
       "    <tr>\n",
       "      <th>16</th>\n",
       "      <td>Wine</td>\n",
       "      <td>LogisticRegression</td>\n",
       "      <td>1.000000</td>\n",
       "    </tr>\n",
       "    <tr>\n",
       "      <th>17</th>\n",
       "      <td>Wine</td>\n",
       "      <td>SVC</td>\n",
       "      <td>1.000000</td>\n",
       "    </tr>\n",
       "    <tr>\n",
       "      <th>18</th>\n",
       "      <td>Wine</td>\n",
       "      <td>RandomForest</td>\n",
       "      <td>1.000000</td>\n",
       "    </tr>\n",
       "    <tr>\n",
       "      <th>19</th>\n",
       "      <td>Wine</td>\n",
       "      <td>DecisionTree</td>\n",
       "      <td>0.944444</td>\n",
       "    </tr>\n",
       "  </tbody>\n",
       "</table>\n",
       "</div>"
      ],
      "text/plain": [
       "             Dataset               Model  Accuracy\n",
       "0      Breast_Cancer  LogisticRegression  0.973684\n",
       "1      Breast_Cancer                 SVC  0.973684\n",
       "2      Breast_Cancer        RandomForest  0.964912\n",
       "3      Breast_Cancer        DecisionTree  0.929825\n",
       "4               Iris  LogisticRegression  1.000000\n",
       "5               Iris                 SVC  1.000000\n",
       "6               Iris        DecisionTree  1.000000\n",
       "7               Iris        RandomForest  1.000000\n",
       "8   Synthetic_Binary  LogisticRegression  0.875000\n",
       "9   Synthetic_Binary        RandomForest  0.875000\n",
       "10  Synthetic_Binary                 SVC  0.850000\n",
       "11  Synthetic_Binary        DecisionTree  0.725000\n",
       "12   Synthetic_Multi  LogisticRegression  0.900000\n",
       "13   Synthetic_Multi                 SVC  0.875000\n",
       "14   Synthetic_Multi        RandomForest  0.825000\n",
       "15   Synthetic_Multi        DecisionTree  0.775000\n",
       "16              Wine  LogisticRegression  1.000000\n",
       "17              Wine                 SVC  1.000000\n",
       "18              Wine        RandomForest  1.000000\n",
       "19              Wine        DecisionTree  0.944444"
      ]
     },
     "execution_count": 14,
     "metadata": {},
     "output_type": "execute_result"
    }
   ],
   "source": [
    "summary_data = []\n",
    "\n",
    "for dataset_name, models_result in all_results.items():\n",
    "    for model_name, result in models_result.items():\n",
    "        summary_data.append({\n",
    "            \"Dataset\": dataset_name,\n",
    "            \"Model\": model_name,\n",
    "            \"Accuracy\": result[\"Accuracy\"]\n",
    "        })\n",
    "\n",
    "summary_df = pd.DataFrame(summary_data)\n",
    "summary_df.sort_values(by=[\"Dataset\", \"Accuracy\"], ascending=[True, False], inplace=True)\n",
    "summary_df.reset_index(drop=True, inplace=True)\n",
    "summary_df"
   ]
  },
  {
   "cell_type": "markdown",
   "id": "1bc69cae-f460-49f5-9105-62133b26cfde",
   "metadata": {},
   "source": [
    "# Automation EDA for Iris Dataset"
   ]
  },
  {
   "cell_type": "code",
   "execution_count": 20,
   "id": "1f522a3b-78b1-469f-889e-3eabde8c00ff",
   "metadata": {},
   "outputs": [],
   "source": [
    "Iris = load_iris()"
   ]
  },
  {
   "cell_type": "code",
   "execution_count": 22,
   "id": "a89e54ff-d50b-4afe-996b-88cbbf34e8d0",
   "metadata": {},
   "outputs": [
    {
     "data": {
      "text/html": [
       "\n",
       "        <iframe\n",
       "            width=\"100%\"\n",
       "            height=\"475\"\n",
       "            src=\"http://Nithins-MacBook-Pro.local:40000/dtale/iframe/1\"\n",
       "            frameborder=\"0\"\n",
       "            allowfullscreen\n",
       "            \n",
       "        ></iframe>\n",
       "        "
      ],
      "text/plain": [
       "<IPython.lib.display.IFrame at 0x167b51c10>"
      ]
     },
     "metadata": {},
     "output_type": "display_data"
    },
    {
     "data": {
      "text/plain": []
     },
     "execution_count": 22,
     "metadata": {},
     "output_type": "execute_result"
    }
   ],
   "source": [
    "import dtale\n",
    "dtale.show(Iris)"
   ]
  },
  {
   "cell_type": "markdown",
   "id": "c66f6d52-3a2b-4736-b388-623ea79c9ed4",
   "metadata": {},
   "source": [
    "# Y data Profiling for Iris Dataset"
   ]
  },
  {
   "cell_type": "code",
   "execution_count": 27,
   "id": "fcba531e-a60e-4670-8e14-4ba681de163b",
   "metadata": {},
   "outputs": [
    {
     "data": {
      "application/vnd.jupyter.widget-view+json": {
       "model_id": "1d3a1948133c48e7a6f1e14a29928d60",
       "version_major": 2,
       "version_minor": 0
      },
      "text/plain": [
       "Summarize dataset:   0%|          | 0/5 [00:00<?, ?it/s]"
      ]
     },
     "metadata": {},
     "output_type": "display_data"
    },
    {
     "name": "stderr",
     "output_type": "stream",
     "text": [
      "\n",
      "100%|█████████████████████████████████████████████| 5/5 [00:00<00:00, 52.16it/s]\u001b[A\n"
     ]
    },
    {
     "data": {
      "application/vnd.jupyter.widget-view+json": {
       "model_id": "6c7976af38d74ccbab148f9a924d88e9",
       "version_major": 2,
       "version_minor": 0
      },
      "text/plain": [
       "Generate report structure:   0%|          | 0/1 [00:00<?, ?it/s]"
      ]
     },
     "metadata": {},
     "output_type": "display_data"
    },
    {
     "data": {
      "application/vnd.jupyter.widget-view+json": {
       "model_id": "b3a0b5098fb8431b998bbf67e3bd6ad8",
       "version_major": 2,
       "version_minor": 0
      },
      "text/plain": [
       "Render HTML:   0%|          | 0/1 [00:00<?, ?it/s]"
      ]
     },
     "metadata": {},
     "output_type": "display_data"
    },
    {
     "data": {
      "application/vnd.jupyter.widget-view+json": {
       "model_id": "75db32d4f84e4293a5854e06b35652f2",
       "version_major": 2,
       "version_minor": 0
      },
      "text/plain": [
       "Export report to file:   0%|          | 0/1 [00:00<?, ?it/s]"
      ]
     },
     "metadata": {},
     "output_type": "display_data"
    }
   ],
   "source": [
    "import pandas as pd\n",
    "from sklearn.datasets import load_iris\n",
    "from ydata_profiling import ProfileReport\n",
    "\n",
    "# Load and convert to DataFrame\n",
    "iris_bunch = load_iris()\n",
    "iris_df = pd.DataFrame(iris_bunch.data, columns=iris_bunch.feature_names)\n",
    "\n",
    "# Optional: Add target column\n",
    "iris_df['target'] = iris_bunch.target\n",
    "\n",
    "# Generate profile\n",
    "profile = ProfileReport(iris_df, explorative=True)\n",
    "profile.to_file('Iris.html')\n"
   ]
  },
  {
   "cell_type": "markdown",
   "id": "e51387b4-8f28-4aa2-88f3-954de4bc8f1e",
   "metadata": {},
   "source": [
    "# SweetViz for Iris Dataset"
   ]
  },
  {
   "cell_type": "code",
   "execution_count": 32,
   "id": "5d7ad852-7266-4659-aa52-7f5687d9482f",
   "metadata": {},
   "outputs": [
    {
     "data": {
      "application/vnd.jupyter.widget-view+json": {
       "model_id": "67fe1fdff7674fba8971a8552f2453b0",
       "version_major": 2,
       "version_minor": 0
      },
      "text/plain": [
       "                                             |      | [  0%]   00:00 -> (? left)"
      ]
     },
     "metadata": {},
     "output_type": "display_data"
    },
    {
     "name": "stdout",
     "output_type": "stream",
     "text": [
      "Report Iris_SweetViz.html was generated! NOTEBOOK/COLAB USERS: the web browser MAY not pop up, regardless, the report IS saved in your notebook/colab files.\n"
     ]
    }
   ],
   "source": [
    "import pandas as pd\n",
    "from sklearn.datasets import load_iris\n",
    "import sweetviz as sv\n",
    "\n",
    "iris_bunch = load_iris()\n",
    "iris_df = pd.DataFrame(iris_bunch.data, columns=iris_bunch.feature_names)\n",
    "iris_df['target'] = iris_bunch.target\n",
    "report = sv.analyze([iris_df, \"Iris Dataset\"])\n",
    "report.show_html(\"Iris_SweetViz.html\")\n"
   ]
  },
  {
   "cell_type": "markdown",
   "id": "2078fe54-6143-41ea-8a5f-cb2c0a425154",
   "metadata": {},
   "source": [
    "# Autoviz for Iris Dataset"
   ]
  },
  {
   "cell_type": "code",
   "execution_count": 41,
   "id": "a471b8c5-055f-4d7a-b0c1-96265dc185cd",
   "metadata": {},
   "outputs": [
    {
     "name": "stdout",
     "output_type": "stream",
     "text": [
      "Shape of your Data Set loaded: (150, 5)\n",
      "#######################################################################################\n",
      "######################## C L A S S I F Y I N G  V A R I A B L E S  ####################\n",
      "#######################################################################################\n",
      "Classifying variables in data set...\n",
      "    Number of Numeric Columns =  4\n",
      "    Number of Integer-Categorical Columns =  0\n",
      "    Number of String-Categorical Columns =  0\n",
      "    Number of Factor-Categorical Columns =  0\n",
      "    Number of String-Boolean Columns =  0\n",
      "    Number of Numeric-Boolean Columns =  0\n",
      "    Number of Discrete String Columns =  0\n",
      "    Number of NLP String Columns =  0\n",
      "    Number of Date Time Columns =  0\n",
      "    Number of ID Columns =  0\n",
      "    Number of Columns to Delete =  0\n",
      "    4 Predictors classified...\n",
      "        No variables removed since no ID or low-information variables found in data set\n",
      "\n",
      "################ Multi_Classification problem #####################\n",
      "To fix these data quality issues in the dataset, import FixDQ from autoviz...\n",
      "There are 1 duplicate rows in your dataset\n",
      "    Alert: Dropping duplicate rows can sometimes cause your column data types to change to object!\n",
      "    All variables classified into correct types.\n"
     ]
    },
    {
     "data": {
      "text/html": [
       "<style type=\"text/css\">\n",
       "#T_a633d_row0_col0, #T_a633d_row0_col2, #T_a633d_row0_col5, #T_a633d_row1_col0, #T_a633d_row1_col2, #T_a633d_row1_col5, #T_a633d_row2_col0, #T_a633d_row2_col2, #T_a633d_row2_col5, #T_a633d_row3_col0, #T_a633d_row3_col2, #T_a633d_row3_col5, #T_a633d_row4_col0, #T_a633d_row4_col2, #T_a633d_row4_col5 {\n",
       "  font-family: Segoe UI;\n",
       "}\n",
       "#T_a633d_row0_col1, #T_a633d_row1_col1, #T_a633d_row2_col1, #T_a633d_row3_col1, #T_a633d_row4_col1, #T_a633d_row4_col3, #T_a633d_row4_col4 {\n",
       "  background-color: #fff5f0;\n",
       "  color: #000000;\n",
       "  font-family: Segoe UI;\n",
       "}\n",
       "#T_a633d_row0_col3, #T_a633d_row0_col4 {\n",
       "  background-color: #67000d;\n",
       "  color: #f1f1f1;\n",
       "  font-family: Segoe UI;\n",
       "}\n",
       "#T_a633d_row1_col3 {\n",
       "  background-color: #fb7555;\n",
       "  color: #f1f1f1;\n",
       "  font-family: Segoe UI;\n",
       "}\n",
       "#T_a633d_row1_col4 {\n",
       "  background-color: #fc8767;\n",
       "  color: #f1f1f1;\n",
       "  font-family: Segoe UI;\n",
       "}\n",
       "#T_a633d_row2_col3 {\n",
       "  background-color: #fcc1a8;\n",
       "  color: #000000;\n",
       "  font-family: Segoe UI;\n",
       "}\n",
       "#T_a633d_row2_col4 {\n",
       "  background-color: #b21218;\n",
       "  color: #f1f1f1;\n",
       "  font-family: Segoe UI;\n",
       "}\n",
       "#T_a633d_row3_col3 {\n",
       "  background-color: #fff2eb;\n",
       "  color: #000000;\n",
       "  font-family: Segoe UI;\n",
       "}\n",
       "#T_a633d_row3_col4 {\n",
       "  background-color: #fee7dc;\n",
       "  color: #000000;\n",
       "  font-family: Segoe UI;\n",
       "}\n",
       "</style>\n",
       "<table id=\"T_a633d\">\n",
       "  <thead>\n",
       "    <tr>\n",
       "      <th class=\"blank level0\" >&nbsp;</th>\n",
       "      <th id=\"T_a633d_level0_col0\" class=\"col_heading level0 col0\" >Data Type</th>\n",
       "      <th id=\"T_a633d_level0_col1\" class=\"col_heading level0 col1\" >Missing Values%</th>\n",
       "      <th id=\"T_a633d_level0_col2\" class=\"col_heading level0 col2\" >Unique Values%</th>\n",
       "      <th id=\"T_a633d_level0_col3\" class=\"col_heading level0 col3\" >Minimum Value</th>\n",
       "      <th id=\"T_a633d_level0_col4\" class=\"col_heading level0 col4\" >Maximum Value</th>\n",
       "      <th id=\"T_a633d_level0_col5\" class=\"col_heading level0 col5\" >DQ Issue</th>\n",
       "    </tr>\n",
       "  </thead>\n",
       "  <tbody>\n",
       "    <tr>\n",
       "      <th id=\"T_a633d_level0_row0\" class=\"row_heading level0 row0\" >sepal length (cm)</th>\n",
       "      <td id=\"T_a633d_row0_col0\" class=\"data row0 col0\" >float64</td>\n",
       "      <td id=\"T_a633d_row0_col1\" class=\"data row0 col1\" >0.000000</td>\n",
       "      <td id=\"T_a633d_row0_col2\" class=\"data row0 col2\" >NA</td>\n",
       "      <td id=\"T_a633d_row0_col3\" class=\"data row0 col3\" >4.300000</td>\n",
       "      <td id=\"T_a633d_row0_col4\" class=\"data row0 col4\" >7.900000</td>\n",
       "      <td id=\"T_a633d_row0_col5\" class=\"data row0 col5\" >No issue</td>\n",
       "    </tr>\n",
       "    <tr>\n",
       "      <th id=\"T_a633d_level0_row1\" class=\"row_heading level0 row1\" >sepal width (cm)</th>\n",
       "      <td id=\"T_a633d_row1_col0\" class=\"data row1 col0\" >float64</td>\n",
       "      <td id=\"T_a633d_row1_col1\" class=\"data row1 col1\" >0.000000</td>\n",
       "      <td id=\"T_a633d_row1_col2\" class=\"data row1 col2\" >NA</td>\n",
       "      <td id=\"T_a633d_row1_col3\" class=\"data row1 col3\" >2.000000</td>\n",
       "      <td id=\"T_a633d_row1_col4\" class=\"data row1 col4\" >4.400000</td>\n",
       "      <td id=\"T_a633d_row1_col5\" class=\"data row1 col5\" >Column has 4 outliers greater than upper bound (4.05) or lower than lower bound(2.05). Cap them or remove them.</td>\n",
       "    </tr>\n",
       "    <tr>\n",
       "      <th id=\"T_a633d_level0_row2\" class=\"row_heading level0 row2\" >petal length (cm)</th>\n",
       "      <td id=\"T_a633d_row2_col0\" class=\"data row2 col0\" >float64</td>\n",
       "      <td id=\"T_a633d_row2_col1\" class=\"data row2 col1\" >0.000000</td>\n",
       "      <td id=\"T_a633d_row2_col2\" class=\"data row2 col2\" >NA</td>\n",
       "      <td id=\"T_a633d_row2_col3\" class=\"data row2 col3\" >1.000000</td>\n",
       "      <td id=\"T_a633d_row2_col4\" class=\"data row2 col4\" >6.900000</td>\n",
       "      <td id=\"T_a633d_row2_col5\" class=\"data row2 col5\" >Column has a high correlation with ['sepal length (cm)']. Consider dropping one of them.</td>\n",
       "    </tr>\n",
       "    <tr>\n",
       "      <th id=\"T_a633d_level0_row3\" class=\"row_heading level0 row3\" >petal width (cm)</th>\n",
       "      <td id=\"T_a633d_row3_col0\" class=\"data row3 col0\" >float64</td>\n",
       "      <td id=\"T_a633d_row3_col1\" class=\"data row3 col1\" >0.000000</td>\n",
       "      <td id=\"T_a633d_row3_col2\" class=\"data row3 col2\" >NA</td>\n",
       "      <td id=\"T_a633d_row3_col3\" class=\"data row3 col3\" >0.100000</td>\n",
       "      <td id=\"T_a633d_row3_col4\" class=\"data row3 col4\" >2.500000</td>\n",
       "      <td id=\"T_a633d_row3_col5\" class=\"data row3 col5\" >Column has a high correlation with ['sepal length (cm)', 'petal length (cm)']. Consider dropping one of them.</td>\n",
       "    </tr>\n",
       "    <tr>\n",
       "      <th id=\"T_a633d_level0_row4\" class=\"row_heading level0 row4\" >Class</th>\n",
       "      <td id=\"T_a633d_row4_col0\" class=\"data row4 col0\" >int64</td>\n",
       "      <td id=\"T_a633d_row4_col1\" class=\"data row4 col1\" >0.000000</td>\n",
       "      <td id=\"T_a633d_row4_col2\" class=\"data row4 col2\" >2</td>\n",
       "      <td id=\"T_a633d_row4_col3\" class=\"data row4 col3\" >0.000000</td>\n",
       "      <td id=\"T_a633d_row4_col4\" class=\"data row4 col4\" >2.000000</td>\n",
       "      <td id=\"T_a633d_row4_col5\" class=\"data row4 col5\" >Target column</td>\n",
       "    </tr>\n",
       "  </tbody>\n",
       "</table>\n"
      ],
      "text/plain": [
       "<pandas.io.formats.style.Styler at 0x304ff09e0>"
      ]
     },
     "metadata": {},
     "output_type": "display_data"
    },
    {
     "name": "stderr",
     "output_type": "stream",
     "text": [
      "2025-06-08 22:39:28,297 - INFO     - Using categorical units to plot a list of strings that are all parsable as floats or dates. If these strings should be plotted as numbers, cast to the appropriate data type before plotting.\n",
      "2025-06-08 22:39:28,300 - INFO     - Using categorical units to plot a list of strings that are all parsable as floats or dates. If these strings should be plotted as numbers, cast to the appropriate data type before plotting.\n",
      "2025-06-08 22:39:28,331 - INFO     - Using categorical units to plot a list of strings that are all parsable as floats or dates. If these strings should be plotted as numbers, cast to the appropriate data type before plotting.\n",
      "2025-06-08 22:39:28,336 - INFO     - Using categorical units to plot a list of strings that are all parsable as floats or dates. If these strings should be plotted as numbers, cast to the appropriate data type before plotting.\n",
      "2025-06-08 22:39:28,395 - INFO     - Using categorical units to plot a list of strings that are all parsable as floats or dates. If these strings should be plotted as numbers, cast to the appropriate data type before plotting.\n",
      "2025-06-08 22:39:28,400 - INFO     - Using categorical units to plot a list of strings that are all parsable as floats or dates. If these strings should be plotted as numbers, cast to the appropriate data type before plotting.\n",
      "2025-06-08 22:39:28,434 - INFO     - Using categorical units to plot a list of strings that are all parsable as floats or dates. If these strings should be plotted as numbers, cast to the appropriate data type before plotting.\n",
      "2025-06-08 22:39:28,441 - INFO     - Using categorical units to plot a list of strings that are all parsable as floats or dates. If these strings should be plotted as numbers, cast to the appropriate data type before plotting.\n"
     ]
    },
    {
     "name": "stdout",
     "output_type": "stream",
     "text": [
      "Total Number of Scatter Plots = 10\n"
     ]
    },
    {
     "name": "stderr",
     "output_type": "stream",
     "text": [
      "2025-06-08 22:39:28,873 - INFO     - Using categorical units to plot a list of strings that are all parsable as floats or dates. If these strings should be plotted as numbers, cast to the appropriate data type before plotting.\n",
      "2025-06-08 22:39:28,880 - INFO     - Using categorical units to plot a list of strings that are all parsable as floats or dates. If these strings should be plotted as numbers, cast to the appropriate data type before plotting.\n",
      "2025-06-08 22:39:28,908 - INFO     - Using categorical units to plot a list of strings that are all parsable as floats or dates. If these strings should be plotted as numbers, cast to the appropriate data type before plotting.\n",
      "2025-06-08 22:39:28,919 - INFO     - Using categorical units to plot a list of strings that are all parsable as floats or dates. If these strings should be plotted as numbers, cast to the appropriate data type before plotting.\n",
      "2025-06-08 22:39:28,955 - INFO     - Using categorical units to plot a list of strings that are all parsable as floats or dates. If these strings should be plotted as numbers, cast to the appropriate data type before plotting.\n",
      "2025-06-08 22:39:28,965 - INFO     - Using categorical units to plot a list of strings that are all parsable as floats or dates. If these strings should be plotted as numbers, cast to the appropriate data type before plotting.\n",
      "2025-06-08 22:39:28,990 - INFO     - Using categorical units to plot a list of strings that are all parsable as floats or dates. If these strings should be plotted as numbers, cast to the appropriate data type before plotting.\n",
      "2025-06-08 22:39:28,997 - INFO     - Using categorical units to plot a list of strings that are all parsable as floats or dates. If these strings should be plotted as numbers, cast to the appropriate data type before plotting.\n"
     ]
    },
    {
     "name": "stdout",
     "output_type": "stream",
     "text": [
      "All Plots done\n",
      "Time to run AutoViz = 1 seconds \n",
      "\n",
      " ###################### AUTO VISUALIZATION Completed ########################\n"
     ]
    }
   ],
   "source": [
    "import pandas as pd\n",
    "from sklearn.datasets import load_iris\n",
    "from autoviz.AutoViz_Class import AutoViz_Class\n",
    "\n",
    "iris_bunch = load_iris()\n",
    "iris_df = pd.DataFrame(iris_bunch.data, columns=iris_bunch.feature_names)\n",
    "iris_df[\"Class\"] = iris_bunch.target\n",
    "\n",
    "AV = AutoViz_Class()\n",
    "\n",
    "\n",
    "dftc = AV.AutoViz(\n",
    "    filename=\"None\",         \n",
    "    sep=\",\",\n",
    "    depVar=\"Class\",           \n",
    "    dfte=iris_df,             \n",
    "    header=0,\n",
    "    verbose=1,\n",
    "    lowess=False,\n",
    "    chart_format=\"png\",\n",
    "    max_rows_analyzed=300000,\n",
    "    max_cols_analyzed=30\n",
    ")"
   ]
  },
  {
   "cell_type": "markdown",
   "id": "e54e460e-984a-4b6e-92f8-ce35c51902fa",
   "metadata": {},
   "source": [
    "# Automation EDA for Wine DataSet"
   ]
  },
  {
   "cell_type": "code",
   "execution_count": 50,
   "id": "a0a65128-58e9-475c-9e7d-a681097b5d4a",
   "metadata": {},
   "outputs": [],
   "source": [
    "wine = load_wine()"
   ]
  },
  {
   "cell_type": "markdown",
   "id": "6353b72e-98f0-465e-a3c0-f076e26bbce7",
   "metadata": {},
   "source": [
    "# Dtale"
   ]
  },
  {
   "cell_type": "code",
   "execution_count": 55,
   "id": "ece7d014-4fb3-4043-8b00-688df58cbee8",
   "metadata": {},
   "outputs": [
    {
     "data": {
      "text/html": [
       "\n",
       "        <iframe\n",
       "            width=\"100%\"\n",
       "            height=\"475\"\n",
       "            src=\"http://Nithins-MacBook-Pro.local:40000/dtale/iframe/2\"\n",
       "            frameborder=\"0\"\n",
       "            allowfullscreen\n",
       "            \n",
       "        ></iframe>\n",
       "        "
      ],
      "text/plain": [
       "<IPython.lib.display.IFrame at 0x310b8b140>"
      ]
     },
     "metadata": {},
     "output_type": "display_data"
    },
    {
     "data": {
      "text/plain": []
     },
     "execution_count": 55,
     "metadata": {},
     "output_type": "execute_result"
    }
   ],
   "source": [
    "import dtale\n",
    "dtale.show(wine)"
   ]
  },
  {
   "cell_type": "markdown",
   "id": "ea763a65-c5fe-4d36-8b97-5a159e097100",
   "metadata": {},
   "source": [
    "# y-dataprofiling"
   ]
  },
  {
   "cell_type": "code",
   "execution_count": 58,
   "id": "df29bb3a-d740-4390-83f2-005dbb326e1e",
   "metadata": {},
   "outputs": [
    {
     "data": {
      "application/vnd.jupyter.widget-view+json": {
       "model_id": "538d4ec27bb745fba3959639a4591938",
       "version_major": 2,
       "version_minor": 0
      },
      "text/plain": [
       "Summarize dataset:   0%|          | 0/5 [00:00<?, ?it/s]"
      ]
     },
     "metadata": {},
     "output_type": "display_data"
    },
    {
     "name": "stderr",
     "output_type": "stream",
     "text": [
      "\n",
      "100%|███████████████████████████████████████| 14/14 [00:00<00:00, 319131.83it/s]\u001b[A\n"
     ]
    },
    {
     "data": {
      "application/vnd.jupyter.widget-view+json": {
       "model_id": "cfebce493e504fd6b7a8a5268a98aead",
       "version_major": 2,
       "version_minor": 0
      },
      "text/plain": [
       "Generate report structure:   0%|          | 0/1 [00:00<?, ?it/s]"
      ]
     },
     "metadata": {},
     "output_type": "display_data"
    },
    {
     "data": {
      "application/vnd.jupyter.widget-view+json": {
       "model_id": "2b6e0f3a6601489b886d75991476321c",
       "version_major": 2,
       "version_minor": 0
      },
      "text/plain": [
       "Render HTML:   0%|          | 0/1 [00:00<?, ?it/s]"
      ]
     },
     "metadata": {},
     "output_type": "display_data"
    },
    {
     "data": {
      "application/vnd.jupyter.widget-view+json": {
       "model_id": "1e76e0d819004ca8b955bc045ff54863",
       "version_major": 2,
       "version_minor": 0
      },
      "text/plain": [
       "Export report to file:   0%|          | 0/1 [00:00<?, ?it/s]"
      ]
     },
     "metadata": {},
     "output_type": "display_data"
    }
   ],
   "source": [
    "from sklearn.datasets import load_wine\n",
    "from ydata_profiling import ProfileReport\n",
    "\n",
    "wine_bunch = load_wine()\n",
    "wine_df = pd.DataFrame(wine_bunch.data, columns = wine_bunch.feature_names)\n",
    "\n",
    "wine_df['target'] = wine_bunch.target\n",
    "\n",
    "profile1 = ProfileReport(wine_df, explorative=True)\n",
    "profile1.to_file('Wine.html')"
   ]
  },
  {
   "cell_type": "markdown",
   "id": "9ce82984-0cf5-4a44-8137-f087b1f0222c",
   "metadata": {},
   "source": [
    "# SweetViz"
   ]
  },
  {
   "cell_type": "code",
   "execution_count": 63,
   "id": "a38bde7c-6de3-4627-9eb2-3d1c235801ec",
   "metadata": {},
   "outputs": [],
   "source": [
    "from sklearn.datasets import load_wine\n",
    "import sweetviz as sv"
   ]
  },
  {
   "cell_type": "code",
   "execution_count": 65,
   "id": "6b301e1e-e4e1-42d0-a439-324d00b29ff4",
   "metadata": {},
   "outputs": [],
   "source": [
    "wine_bunch = load_wine()\n",
    "wine_df = pd.DataFrame(wine_bunch.data, columns = wine_bunch.feature_names)\n",
    "\n",
    "wine_df['target'] = wine_bunch.target"
   ]
  },
  {
   "cell_type": "code",
   "execution_count": 75,
   "id": "2a098d9a-54e2-4c9f-9bec-dd4814a39fc4",
   "metadata": {},
   "outputs": [
    {
     "data": {
      "application/vnd.jupyter.widget-view+json": {
       "model_id": "d445fcfb468944c68f945f804ff298ca",
       "version_major": 2,
       "version_minor": 0
      },
      "text/plain": [
       "                                             |      | [  0%]   00:00 -> (? left)"
      ]
     },
     "metadata": {},
     "output_type": "display_data"
    },
    {
     "name": "stdout",
     "output_type": "stream",
     "text": [
      "Report WineSweetviz.html was generated! NOTEBOOK/COLAB USERS: the web browser MAY not pop up, regardless, the report IS saved in your notebook/colab files.\n"
     ]
    }
   ],
   "source": [
    "r1 = sv.analyze([wine_df, \"Wine Dataset\"])\n",
    "r1.show_html('WineSweetviz.html')"
   ]
  },
  {
   "cell_type": "markdown",
   "id": "06229d9e-3743-4076-960f-4a6802445db2",
   "metadata": {},
   "source": [
    "# AutoViz"
   ]
  },
  {
   "cell_type": "code",
   "execution_count": 78,
   "id": "b83c3351-bf0b-40e7-89bb-cb9a1626435d",
   "metadata": {},
   "outputs": [],
   "source": [
    "from sklearn.datasets import load_wine\n",
    "from autoviz.AutoViz_Class import AutoViz_Class\n",
    "\n",
    "wine_bunch = load_wine()\n",
    "wine_df = pd.DataFrame(wine_bunch.data, columns = wine_bunch.feature_names)\n",
    "\n",
    "wine_df['target'] = wine_bunch.target"
   ]
  },
  {
   "cell_type": "code",
   "execution_count": 94,
   "id": "97ec0d73-f1e0-48a8-85ce-8a1688d67fbe",
   "metadata": {},
   "outputs": [
    {
     "name": "stdout",
     "output_type": "stream",
     "text": [
      "Shape of your Data Set loaded: (178, 14)\n",
      "#######################################################################################\n",
      "######################## C L A S S I F Y I N G  V A R I A B L E S  ####################\n",
      "#######################################################################################\n",
      "Classifying variables in data set...\n",
      "    Number of Numeric Columns =  13\n",
      "    Number of Integer-Categorical Columns =  0\n",
      "    Number of String-Categorical Columns =  0\n",
      "    Number of Factor-Categorical Columns =  0\n",
      "    Number of String-Boolean Columns =  0\n",
      "    Number of Numeric-Boolean Columns =  0\n",
      "    Number of Discrete String Columns =  0\n",
      "    Number of NLP String Columns =  0\n",
      "    Number of Date Time Columns =  0\n",
      "    Number of ID Columns =  0\n",
      "    Number of Columns to Delete =  0\n",
      "    13 Predictors classified...\n",
      "        No variables removed since no ID or low-information variables found in data set\n",
      "\n",
      "################ Multi_Classification problem #####################\n",
      "To fix these data quality issues in the dataset, import FixDQ from autoviz...\n",
      "    All variables classified into correct types.\n"
     ]
    },
    {
     "data": {
      "text/html": [
       "<style type=\"text/css\">\n",
       "#T_9ba9d_row0_col0, #T_9ba9d_row0_col2, #T_9ba9d_row0_col5, #T_9ba9d_row1_col0, #T_9ba9d_row1_col2, #T_9ba9d_row1_col5, #T_9ba9d_row2_col0, #T_9ba9d_row2_col2, #T_9ba9d_row2_col5, #T_9ba9d_row3_col0, #T_9ba9d_row3_col2, #T_9ba9d_row3_col5, #T_9ba9d_row4_col0, #T_9ba9d_row4_col2, #T_9ba9d_row4_col5, #T_9ba9d_row5_col0, #T_9ba9d_row5_col2, #T_9ba9d_row5_col5, #T_9ba9d_row6_col0, #T_9ba9d_row6_col2, #T_9ba9d_row6_col5, #T_9ba9d_row7_col0, #T_9ba9d_row7_col2, #T_9ba9d_row7_col5, #T_9ba9d_row8_col0, #T_9ba9d_row8_col2, #T_9ba9d_row8_col5, #T_9ba9d_row9_col0, #T_9ba9d_row9_col2, #T_9ba9d_row9_col5, #T_9ba9d_row10_col0, #T_9ba9d_row10_col2, #T_9ba9d_row10_col5, #T_9ba9d_row11_col0, #T_9ba9d_row11_col2, #T_9ba9d_row11_col5, #T_9ba9d_row12_col0, #T_9ba9d_row12_col2, #T_9ba9d_row12_col5, #T_9ba9d_row13_col0, #T_9ba9d_row13_col2, #T_9ba9d_row13_col5 {\n",
       "  font-family: Segoe UI;\n",
       "}\n",
       "#T_9ba9d_row0_col1, #T_9ba9d_row1_col1, #T_9ba9d_row1_col3, #T_9ba9d_row1_col4, #T_9ba9d_row2_col1, #T_9ba9d_row2_col4, #T_9ba9d_row3_col1, #T_9ba9d_row4_col1, #T_9ba9d_row5_col1, #T_9ba9d_row5_col3, #T_9ba9d_row5_col4, #T_9ba9d_row6_col1, #T_9ba9d_row6_col3, #T_9ba9d_row6_col4, #T_9ba9d_row7_col1, #T_9ba9d_row7_col3, #T_9ba9d_row7_col4, #T_9ba9d_row8_col1, #T_9ba9d_row8_col3, #T_9ba9d_row8_col4, #T_9ba9d_row9_col1, #T_9ba9d_row10_col1, #T_9ba9d_row10_col3, #T_9ba9d_row10_col4, #T_9ba9d_row11_col1, #T_9ba9d_row11_col4, #T_9ba9d_row12_col1, #T_9ba9d_row13_col1, #T_9ba9d_row13_col3, #T_9ba9d_row13_col4 {\n",
       "  background-color: #fff5f0;\n",
       "  color: #000000;\n",
       "  font-family: Segoe UI;\n",
       "}\n",
       "#T_9ba9d_row0_col3 {\n",
       "  background-color: #ffeee7;\n",
       "  color: #000000;\n",
       "  font-family: Segoe UI;\n",
       "}\n",
       "#T_9ba9d_row0_col4 {\n",
       "  background-color: #fff4ee;\n",
       "  color: #000000;\n",
       "  font-family: Segoe UI;\n",
       "}\n",
       "#T_9ba9d_row2_col3, #T_9ba9d_row9_col3, #T_9ba9d_row9_col4, #T_9ba9d_row11_col3 {\n",
       "  background-color: #fff4ef;\n",
       "  color: #000000;\n",
       "  font-family: Segoe UI;\n",
       "}\n",
       "#T_9ba9d_row3_col3 {\n",
       "  background-color: #ffefe8;\n",
       "  color: #000000;\n",
       "  font-family: Segoe UI;\n",
       "}\n",
       "#T_9ba9d_row3_col4 {\n",
       "  background-color: #fff2ec;\n",
       "  color: #000000;\n",
       "  font-family: Segoe UI;\n",
       "}\n",
       "#T_9ba9d_row4_col3 {\n",
       "  background-color: #fcbba1;\n",
       "  color: #000000;\n",
       "  font-family: Segoe UI;\n",
       "}\n",
       "#T_9ba9d_row4_col4 {\n",
       "  background-color: #fee5d9;\n",
       "  color: #000000;\n",
       "  font-family: Segoe UI;\n",
       "}\n",
       "#T_9ba9d_row12_col3, #T_9ba9d_row12_col4 {\n",
       "  background-color: #67000d;\n",
       "  color: #f1f1f1;\n",
       "  font-family: Segoe UI;\n",
       "}\n",
       "</style>\n",
       "<table id=\"T_9ba9d\">\n",
       "  <thead>\n",
       "    <tr>\n",
       "      <th class=\"blank level0\" >&nbsp;</th>\n",
       "      <th id=\"T_9ba9d_level0_col0\" class=\"col_heading level0 col0\" >Data Type</th>\n",
       "      <th id=\"T_9ba9d_level0_col1\" class=\"col_heading level0 col1\" >Missing Values%</th>\n",
       "      <th id=\"T_9ba9d_level0_col2\" class=\"col_heading level0 col2\" >Unique Values%</th>\n",
       "      <th id=\"T_9ba9d_level0_col3\" class=\"col_heading level0 col3\" >Minimum Value</th>\n",
       "      <th id=\"T_9ba9d_level0_col4\" class=\"col_heading level0 col4\" >Maximum Value</th>\n",
       "      <th id=\"T_9ba9d_level0_col5\" class=\"col_heading level0 col5\" >DQ Issue</th>\n",
       "    </tr>\n",
       "  </thead>\n",
       "  <tbody>\n",
       "    <tr>\n",
       "      <th id=\"T_9ba9d_level0_row0\" class=\"row_heading level0 row0\" >alcohol</th>\n",
       "      <td id=\"T_9ba9d_row0_col0\" class=\"data row0 col0\" >float64</td>\n",
       "      <td id=\"T_9ba9d_row0_col1\" class=\"data row0 col1\" >0.000000</td>\n",
       "      <td id=\"T_9ba9d_row0_col2\" class=\"data row0 col2\" >NA</td>\n",
       "      <td id=\"T_9ba9d_row0_col3\" class=\"data row0 col3\" >11.030000</td>\n",
       "      <td id=\"T_9ba9d_row0_col4\" class=\"data row0 col4\" >14.830000</td>\n",
       "      <td id=\"T_9ba9d_row0_col5\" class=\"data row0 col5\" >No issue</td>\n",
       "    </tr>\n",
       "    <tr>\n",
       "      <th id=\"T_9ba9d_level0_row1\" class=\"row_heading level0 row1\" >malic_acid</th>\n",
       "      <td id=\"T_9ba9d_row1_col0\" class=\"data row1 col0\" >float64</td>\n",
       "      <td id=\"T_9ba9d_row1_col1\" class=\"data row1 col1\" >0.000000</td>\n",
       "      <td id=\"T_9ba9d_row1_col2\" class=\"data row1 col2\" >NA</td>\n",
       "      <td id=\"T_9ba9d_row1_col3\" class=\"data row1 col3\" >0.740000</td>\n",
       "      <td id=\"T_9ba9d_row1_col4\" class=\"data row1 col4\" >5.800000</td>\n",
       "      <td id=\"T_9ba9d_row1_col5\" class=\"data row1 col5\" >Column has 3 outliers greater than upper bound (5.30) or lower than lower bound(-0.62). Cap them or remove them.</td>\n",
       "    </tr>\n",
       "    <tr>\n",
       "      <th id=\"T_9ba9d_level0_row2\" class=\"row_heading level0 row2\" >ash</th>\n",
       "      <td id=\"T_9ba9d_row2_col0\" class=\"data row2 col0\" >float64</td>\n",
       "      <td id=\"T_9ba9d_row2_col1\" class=\"data row2 col1\" >0.000000</td>\n",
       "      <td id=\"T_9ba9d_row2_col2\" class=\"data row2 col2\" >NA</td>\n",
       "      <td id=\"T_9ba9d_row2_col3\" class=\"data row2 col3\" >1.360000</td>\n",
       "      <td id=\"T_9ba9d_row2_col4\" class=\"data row2 col4\" >3.230000</td>\n",
       "      <td id=\"T_9ba9d_row2_col5\" class=\"data row2 col5\" >Column has 3 outliers greater than upper bound (3.08) or lower than lower bound(1.69). Cap them or remove them.</td>\n",
       "    </tr>\n",
       "    <tr>\n",
       "      <th id=\"T_9ba9d_level0_row3\" class=\"row_heading level0 row3\" >alcalinity_of_ash</th>\n",
       "      <td id=\"T_9ba9d_row3_col0\" class=\"data row3 col0\" >float64</td>\n",
       "      <td id=\"T_9ba9d_row3_col1\" class=\"data row3 col1\" >0.000000</td>\n",
       "      <td id=\"T_9ba9d_row3_col2\" class=\"data row3 col2\" >NA</td>\n",
       "      <td id=\"T_9ba9d_row3_col3\" class=\"data row3 col3\" >10.600000</td>\n",
       "      <td id=\"T_9ba9d_row3_col4\" class=\"data row3 col4\" >30.000000</td>\n",
       "      <td id=\"T_9ba9d_row3_col5\" class=\"data row3 col5\" >Column has 4 outliers greater than upper bound (27.95) or lower than lower bound(10.75). Cap them or remove them.</td>\n",
       "    </tr>\n",
       "    <tr>\n",
       "      <th id=\"T_9ba9d_level0_row4\" class=\"row_heading level0 row4\" >magnesium</th>\n",
       "      <td id=\"T_9ba9d_row4_col0\" class=\"data row4 col0\" >float64</td>\n",
       "      <td id=\"T_9ba9d_row4_col1\" class=\"data row4 col1\" >0.000000</td>\n",
       "      <td id=\"T_9ba9d_row4_col2\" class=\"data row4 col2\" >NA</td>\n",
       "      <td id=\"T_9ba9d_row4_col3\" class=\"data row4 col3\" >70.000000</td>\n",
       "      <td id=\"T_9ba9d_row4_col4\" class=\"data row4 col4\" >162.000000</td>\n",
       "      <td id=\"T_9ba9d_row4_col5\" class=\"data row4 col5\" >Column has 4 outliers greater than upper bound (135.50) or lower than lower bound(59.50). Cap them or remove them.</td>\n",
       "    </tr>\n",
       "    <tr>\n",
       "      <th id=\"T_9ba9d_level0_row5\" class=\"row_heading level0 row5\" >total_phenols</th>\n",
       "      <td id=\"T_9ba9d_row5_col0\" class=\"data row5 col0\" >float64</td>\n",
       "      <td id=\"T_9ba9d_row5_col1\" class=\"data row5 col1\" >0.000000</td>\n",
       "      <td id=\"T_9ba9d_row5_col2\" class=\"data row5 col2\" >NA</td>\n",
       "      <td id=\"T_9ba9d_row5_col3\" class=\"data row5 col3\" >0.980000</td>\n",
       "      <td id=\"T_9ba9d_row5_col4\" class=\"data row5 col4\" >3.880000</td>\n",
       "      <td id=\"T_9ba9d_row5_col5\" class=\"data row5 col5\" >No issue</td>\n",
       "    </tr>\n",
       "    <tr>\n",
       "      <th id=\"T_9ba9d_level0_row6\" class=\"row_heading level0 row6\" >flavanoids</th>\n",
       "      <td id=\"T_9ba9d_row6_col0\" class=\"data row6 col0\" >float64</td>\n",
       "      <td id=\"T_9ba9d_row6_col1\" class=\"data row6 col1\" >0.000000</td>\n",
       "      <td id=\"T_9ba9d_row6_col2\" class=\"data row6 col2\" >NA</td>\n",
       "      <td id=\"T_9ba9d_row6_col3\" class=\"data row6 col3\" >0.340000</td>\n",
       "      <td id=\"T_9ba9d_row6_col4\" class=\"data row6 col4\" >5.080000</td>\n",
       "      <td id=\"T_9ba9d_row6_col5\" class=\"data row6 col5\" >Column has a high correlation with ['total_phenols']. Consider dropping one of them.</td>\n",
       "    </tr>\n",
       "    <tr>\n",
       "      <th id=\"T_9ba9d_level0_row7\" class=\"row_heading level0 row7\" >nonflavanoid_phenols</th>\n",
       "      <td id=\"T_9ba9d_row7_col0\" class=\"data row7 col0\" >float64</td>\n",
       "      <td id=\"T_9ba9d_row7_col1\" class=\"data row7 col1\" >0.000000</td>\n",
       "      <td id=\"T_9ba9d_row7_col2\" class=\"data row7 col2\" >NA</td>\n",
       "      <td id=\"T_9ba9d_row7_col3\" class=\"data row7 col3\" >0.130000</td>\n",
       "      <td id=\"T_9ba9d_row7_col4\" class=\"data row7 col4\" >0.660000</td>\n",
       "      <td id=\"T_9ba9d_row7_col5\" class=\"data row7 col5\" >No issue</td>\n",
       "    </tr>\n",
       "    <tr>\n",
       "      <th id=\"T_9ba9d_level0_row8\" class=\"row_heading level0 row8\" >proanthocyanins</th>\n",
       "      <td id=\"T_9ba9d_row8_col0\" class=\"data row8 col0\" >float64</td>\n",
       "      <td id=\"T_9ba9d_row8_col1\" class=\"data row8 col1\" >0.000000</td>\n",
       "      <td id=\"T_9ba9d_row8_col2\" class=\"data row8 col2\" >NA</td>\n",
       "      <td id=\"T_9ba9d_row8_col3\" class=\"data row8 col3\" >0.410000</td>\n",
       "      <td id=\"T_9ba9d_row8_col4\" class=\"data row8 col4\" >3.580000</td>\n",
       "      <td id=\"T_9ba9d_row8_col5\" class=\"data row8 col5\" >Column has 2 outliers greater than upper bound (3.00) or lower than lower bound(0.20). Cap them or remove them.</td>\n",
       "    </tr>\n",
       "    <tr>\n",
       "      <th id=\"T_9ba9d_level0_row9\" class=\"row_heading level0 row9\" >color_intensity</th>\n",
       "      <td id=\"T_9ba9d_row9_col0\" class=\"data row9 col0\" >float64</td>\n",
       "      <td id=\"T_9ba9d_row9_col1\" class=\"data row9 col1\" >0.000000</td>\n",
       "      <td id=\"T_9ba9d_row9_col2\" class=\"data row9 col2\" >NA</td>\n",
       "      <td id=\"T_9ba9d_row9_col3\" class=\"data row9 col3\" >1.280000</td>\n",
       "      <td id=\"T_9ba9d_row9_col4\" class=\"data row9 col4\" >13.000000</td>\n",
       "      <td id=\"T_9ba9d_row9_col5\" class=\"data row9 col5\" >Column has 4 outliers greater than upper bound (10.67) or lower than lower bound(-1.25). Cap them or remove them.</td>\n",
       "    </tr>\n",
       "    <tr>\n",
       "      <th id=\"T_9ba9d_level0_row10\" class=\"row_heading level0 row10\" >hue</th>\n",
       "      <td id=\"T_9ba9d_row10_col0\" class=\"data row10 col0\" >float64</td>\n",
       "      <td id=\"T_9ba9d_row10_col1\" class=\"data row10 col1\" >0.000000</td>\n",
       "      <td id=\"T_9ba9d_row10_col2\" class=\"data row10 col2\" >NA</td>\n",
       "      <td id=\"T_9ba9d_row10_col3\" class=\"data row10 col3\" >0.480000</td>\n",
       "      <td id=\"T_9ba9d_row10_col4\" class=\"data row10 col4\" >1.710000</td>\n",
       "      <td id=\"T_9ba9d_row10_col5\" class=\"data row10 col5\" >Column has 1 outliers greater than upper bound (1.63) or lower than lower bound(0.28). Cap them or remove them.</td>\n",
       "    </tr>\n",
       "    <tr>\n",
       "      <th id=\"T_9ba9d_level0_row11\" class=\"row_heading level0 row11\" >od280/od315_of_diluted_wines</th>\n",
       "      <td id=\"T_9ba9d_row11_col0\" class=\"data row11 col0\" >float64</td>\n",
       "      <td id=\"T_9ba9d_row11_col1\" class=\"data row11 col1\" >0.000000</td>\n",
       "      <td id=\"T_9ba9d_row11_col2\" class=\"data row11 col2\" >NA</td>\n",
       "      <td id=\"T_9ba9d_row11_col3\" class=\"data row11 col3\" >1.270000</td>\n",
       "      <td id=\"T_9ba9d_row11_col4\" class=\"data row11 col4\" >4.000000</td>\n",
       "      <td id=\"T_9ba9d_row11_col5\" class=\"data row11 col5\" >No issue</td>\n",
       "    </tr>\n",
       "    <tr>\n",
       "      <th id=\"T_9ba9d_level0_row12\" class=\"row_heading level0 row12\" >proline</th>\n",
       "      <td id=\"T_9ba9d_row12_col0\" class=\"data row12 col0\" >float64</td>\n",
       "      <td id=\"T_9ba9d_row12_col1\" class=\"data row12 col1\" >0.000000</td>\n",
       "      <td id=\"T_9ba9d_row12_col2\" class=\"data row12 col2\" >NA</td>\n",
       "      <td id=\"T_9ba9d_row12_col3\" class=\"data row12 col3\" >278.000000</td>\n",
       "      <td id=\"T_9ba9d_row12_col4\" class=\"data row12 col4\" >1680.000000</td>\n",
       "      <td id=\"T_9ba9d_row12_col5\" class=\"data row12 col5\" >No issue</td>\n",
       "    </tr>\n",
       "    <tr>\n",
       "      <th id=\"T_9ba9d_level0_row13\" class=\"row_heading level0 row13\" >Class</th>\n",
       "      <td id=\"T_9ba9d_row13_col0\" class=\"data row13 col0\" >int64</td>\n",
       "      <td id=\"T_9ba9d_row13_col1\" class=\"data row13 col1\" >0.000000</td>\n",
       "      <td id=\"T_9ba9d_row13_col2\" class=\"data row13 col2\" >1</td>\n",
       "      <td id=\"T_9ba9d_row13_col3\" class=\"data row13 col3\" >0.000000</td>\n",
       "      <td id=\"T_9ba9d_row13_col4\" class=\"data row13 col4\" >2.000000</td>\n",
       "      <td id=\"T_9ba9d_row13_col5\" class=\"data row13 col5\" >Target column</td>\n",
       "    </tr>\n",
       "  </tbody>\n",
       "</table>\n"
      ],
      "text/plain": [
       "<pandas.io.formats.style.Styler at 0x3128709e0>"
      ]
     },
     "metadata": {},
     "output_type": "display_data"
    },
    {
     "name": "stderr",
     "output_type": "stream",
     "text": [
      "2025-06-08 22:57:22,763 - INFO     - Using categorical units to plot a list of strings that are all parsable as floats or dates. If these strings should be plotted as numbers, cast to the appropriate data type before plotting.\n",
      "2025-06-08 22:57:22,766 - INFO     - Using categorical units to plot a list of strings that are all parsable as floats or dates. If these strings should be plotted as numbers, cast to the appropriate data type before plotting.\n",
      "2025-06-08 22:57:22,797 - INFO     - Using categorical units to plot a list of strings that are all parsable as floats or dates. If these strings should be plotted as numbers, cast to the appropriate data type before plotting.\n",
      "2025-06-08 22:57:22,811 - INFO     - Using categorical units to plot a list of strings that are all parsable as floats or dates. If these strings should be plotted as numbers, cast to the appropriate data type before plotting.\n",
      "2025-06-08 22:57:22,870 - INFO     - Using categorical units to plot a list of strings that are all parsable as floats or dates. If these strings should be plotted as numbers, cast to the appropriate data type before plotting.\n",
      "2025-06-08 22:57:22,876 - INFO     - Using categorical units to plot a list of strings that are all parsable as floats or dates. If these strings should be plotted as numbers, cast to the appropriate data type before plotting.\n",
      "2025-06-08 22:57:22,924 - INFO     - Using categorical units to plot a list of strings that are all parsable as floats or dates. If these strings should be plotted as numbers, cast to the appropriate data type before plotting.\n",
      "2025-06-08 22:57:22,930 - INFO     - Using categorical units to plot a list of strings that are all parsable as floats or dates. If these strings should be plotted as numbers, cast to the appropriate data type before plotting.\n",
      "2025-06-08 22:57:22,981 - INFO     - Using categorical units to plot a list of strings that are all parsable as floats or dates. If these strings should be plotted as numbers, cast to the appropriate data type before plotting.\n",
      "2025-06-08 22:57:22,990 - INFO     - Using categorical units to plot a list of strings that are all parsable as floats or dates. If these strings should be plotted as numbers, cast to the appropriate data type before plotting.\n",
      "2025-06-08 22:57:23,034 - INFO     - Using categorical units to plot a list of strings that are all parsable as floats or dates. If these strings should be plotted as numbers, cast to the appropriate data type before plotting.\n",
      "2025-06-08 22:57:23,042 - INFO     - Using categorical units to plot a list of strings that are all parsable as floats or dates. If these strings should be plotted as numbers, cast to the appropriate data type before plotting.\n",
      "2025-06-08 22:57:23,069 - INFO     - Using categorical units to plot a list of strings that are all parsable as floats or dates. If these strings should be plotted as numbers, cast to the appropriate data type before plotting.\n",
      "2025-06-08 22:57:23,071 - INFO     - Using categorical units to plot a list of strings that are all parsable as floats or dates. If these strings should be plotted as numbers, cast to the appropriate data type before plotting.\n",
      "2025-06-08 22:57:23,086 - INFO     - Using categorical units to plot a list of strings that are all parsable as floats or dates. If these strings should be plotted as numbers, cast to the appropriate data type before plotting.\n",
      "2025-06-08 22:57:23,088 - INFO     - Using categorical units to plot a list of strings that are all parsable as floats or dates. If these strings should be plotted as numbers, cast to the appropriate data type before plotting.\n",
      "2025-06-08 22:57:23,104 - INFO     - Using categorical units to plot a list of strings that are all parsable as floats or dates. If these strings should be plotted as numbers, cast to the appropriate data type before plotting.\n",
      "2025-06-08 22:57:23,107 - INFO     - Using categorical units to plot a list of strings that are all parsable as floats or dates. If these strings should be plotted as numbers, cast to the appropriate data type before plotting.\n",
      "2025-06-08 22:57:23,124 - INFO     - Using categorical units to plot a list of strings that are all parsable as floats or dates. If these strings should be plotted as numbers, cast to the appropriate data type before plotting.\n",
      "2025-06-08 22:57:23,126 - INFO     - Using categorical units to plot a list of strings that are all parsable as floats or dates. If these strings should be plotted as numbers, cast to the appropriate data type before plotting.\n",
      "2025-06-08 22:57:23,143 - INFO     - Using categorical units to plot a list of strings that are all parsable as floats or dates. If these strings should be plotted as numbers, cast to the appropriate data type before plotting.\n",
      "2025-06-08 22:57:23,145 - INFO     - Using categorical units to plot a list of strings that are all parsable as floats or dates. If these strings should be plotted as numbers, cast to the appropriate data type before plotting.\n",
      "2025-06-08 22:57:23,161 - INFO     - Using categorical units to plot a list of strings that are all parsable as floats or dates. If these strings should be plotted as numbers, cast to the appropriate data type before plotting.\n",
      "2025-06-08 22:57:23,163 - INFO     - Using categorical units to plot a list of strings that are all parsable as floats or dates. If these strings should be plotted as numbers, cast to the appropriate data type before plotting.\n",
      "2025-06-08 22:57:23,180 - INFO     - Using categorical units to plot a list of strings that are all parsable as floats or dates. If these strings should be plotted as numbers, cast to the appropriate data type before plotting.\n",
      "2025-06-08 22:57:23,182 - INFO     - Using categorical units to plot a list of strings that are all parsable as floats or dates. If these strings should be plotted as numbers, cast to the appropriate data type before plotting.\n"
     ]
    },
    {
     "name": "stdout",
     "output_type": "stream",
     "text": [
      "Total Number of Scatter Plots = 91\n"
     ]
    },
    {
     "name": "stderr",
     "output_type": "stream",
     "text": [
      "2025-06-08 22:57:24,502 - INFO     - Using categorical units to plot a list of strings that are all parsable as floats or dates. If these strings should be plotted as numbers, cast to the appropriate data type before plotting.\n",
      "2025-06-08 22:57:24,511 - INFO     - Using categorical units to plot a list of strings that are all parsable as floats or dates. If these strings should be plotted as numbers, cast to the appropriate data type before plotting.\n",
      "2025-06-08 22:57:24,543 - INFO     - Using categorical units to plot a list of strings that are all parsable as floats or dates. If these strings should be plotted as numbers, cast to the appropriate data type before plotting.\n",
      "2025-06-08 22:57:24,546 - INFO     - Using categorical units to plot a list of strings that are all parsable as floats or dates. If these strings should be plotted as numbers, cast to the appropriate data type before plotting.\n",
      "2025-06-08 22:57:24,563 - INFO     - Using categorical units to plot a list of strings that are all parsable as floats or dates. If these strings should be plotted as numbers, cast to the appropriate data type before plotting.\n",
      "2025-06-08 22:57:24,565 - INFO     - Using categorical units to plot a list of strings that are all parsable as floats or dates. If these strings should be plotted as numbers, cast to the appropriate data type before plotting.\n",
      "2025-06-08 22:57:24,581 - INFO     - Using categorical units to plot a list of strings that are all parsable as floats or dates. If these strings should be plotted as numbers, cast to the appropriate data type before plotting.\n",
      "2025-06-08 22:57:24,583 - INFO     - Using categorical units to plot a list of strings that are all parsable as floats or dates. If these strings should be plotted as numbers, cast to the appropriate data type before plotting.\n",
      "2025-06-08 22:57:25,136 - INFO     - Using categorical units to plot a list of strings that are all parsable as floats or dates. If these strings should be plotted as numbers, cast to the appropriate data type before plotting.\n",
      "2025-06-08 22:57:25,139 - INFO     - Using categorical units to plot a list of strings that are all parsable as floats or dates. If these strings should be plotted as numbers, cast to the appropriate data type before plotting.\n",
      "2025-06-08 22:57:25,153 - INFO     - Using categorical units to plot a list of strings that are all parsable as floats or dates. If these strings should be plotted as numbers, cast to the appropriate data type before plotting.\n",
      "2025-06-08 22:57:25,155 - INFO     - Using categorical units to plot a list of strings that are all parsable as floats or dates. If these strings should be plotted as numbers, cast to the appropriate data type before plotting.\n",
      "2025-06-08 22:57:25,172 - INFO     - Using categorical units to plot a list of strings that are all parsable as floats or dates. If these strings should be plotted as numbers, cast to the appropriate data type before plotting.\n",
      "2025-06-08 22:57:25,174 - INFO     - Using categorical units to plot a list of strings that are all parsable as floats or dates. If these strings should be plotted as numbers, cast to the appropriate data type before plotting.\n",
      "2025-06-08 22:57:25,190 - INFO     - Using categorical units to plot a list of strings that are all parsable as floats or dates. If these strings should be plotted as numbers, cast to the appropriate data type before plotting.\n",
      "2025-06-08 22:57:25,192 - INFO     - Using categorical units to plot a list of strings that are all parsable as floats or dates. If these strings should be plotted as numbers, cast to the appropriate data type before plotting.\n",
      "2025-06-08 22:57:25,208 - INFO     - Using categorical units to plot a list of strings that are all parsable as floats or dates. If these strings should be plotted as numbers, cast to the appropriate data type before plotting.\n",
      "2025-06-08 22:57:25,210 - INFO     - Using categorical units to plot a list of strings that are all parsable as floats or dates. If these strings should be plotted as numbers, cast to the appropriate data type before plotting.\n",
      "2025-06-08 22:57:25,227 - INFO     - Using categorical units to plot a list of strings that are all parsable as floats or dates. If these strings should be plotted as numbers, cast to the appropriate data type before plotting.\n",
      "2025-06-08 22:57:25,229 - INFO     - Using categorical units to plot a list of strings that are all parsable as floats or dates. If these strings should be plotted as numbers, cast to the appropriate data type before plotting.\n",
      "2025-06-08 22:57:25,245 - INFO     - Using categorical units to plot a list of strings that are all parsable as floats or dates. If these strings should be plotted as numbers, cast to the appropriate data type before plotting.\n",
      "2025-06-08 22:57:25,247 - INFO     - Using categorical units to plot a list of strings that are all parsable as floats or dates. If these strings should be plotted as numbers, cast to the appropriate data type before plotting.\n",
      "2025-06-08 22:57:25,262 - INFO     - Using categorical units to plot a list of strings that are all parsable as floats or dates. If these strings should be plotted as numbers, cast to the appropriate data type before plotting.\n",
      "2025-06-08 22:57:25,264 - INFO     - Using categorical units to plot a list of strings that are all parsable as floats or dates. If these strings should be plotted as numbers, cast to the appropriate data type before plotting.\n",
      "2025-06-08 22:57:25,279 - INFO     - Using categorical units to plot a list of strings that are all parsable as floats or dates. If these strings should be plotted as numbers, cast to the appropriate data type before plotting.\n",
      "2025-06-08 22:57:25,282 - INFO     - Using categorical units to plot a list of strings that are all parsable as floats or dates. If these strings should be plotted as numbers, cast to the appropriate data type before plotting.\n"
     ]
    },
    {
     "name": "stdout",
     "output_type": "stream",
     "text": [
      "All Plots done\n",
      "Time to run AutoViz = 3 seconds \n",
      "\n",
      " ###################### AUTO VISUALIZATION Completed ########################\n"
     ]
    }
   ],
   "source": [
    "from autoviz.AutoViz_Class import AutoViz_Class\n",
    "from sklearn.datasets import load_wine\n",
    "import pandas as pd\n",
    "\n",
    "# Load the dataset and convert to DataFrame\n",
    "wine = load_wine()\n",
    "wine_df = pd.DataFrame(wine.data, columns=wine.feature_names)\n",
    "wine_df[\"Class\"] = wine.target\n",
    "\n",
    "# Initialize AutoViz\n",
    "AV = AutoViz_Class()\n",
    "\n",
    "# Provide dummy filename (required) + actual DataFrame\n",
    "dftc = AV.AutoViz(\n",
    "    filename=\"dummy.csv\",        # just a dummy string, won't be used\n",
    "    sep=\",\",\n",
    "    depVar=\"Class\",\n",
    "    dfte=wine_df,                # actual DataFrame to analyze\n",
    "    header=0,\n",
    "    verbose=1,\n",
    "    lowess=False,\n",
    "    chart_format=\"png\",\n",
    "    max_rows_analyzed=300000,\n",
    "    max_cols_analyzed=30\n",
    ")\n"
   ]
  },
  {
   "cell_type": "code",
   "execution_count": null,
   "id": "8f7be464-6d90-44d1-98ae-852d76915a2c",
   "metadata": {},
   "outputs": [],
   "source": []
  }
 ],
 "metadata": {
  "kernelspec": {
   "display_name": "Python 3 (ipykernel)",
   "language": "python",
   "name": "python3"
  },
  "language_info": {
   "codemirror_mode": {
    "name": "ipython",
    "version": 3
   },
   "file_extension": ".py",
   "mimetype": "text/x-python",
   "name": "python",
   "nbconvert_exporter": "python",
   "pygments_lexer": "ipython3",
   "version": "3.12.2"
  }
 },
 "nbformat": 4,
 "nbformat_minor": 5
}
