{
 "cells": [
  {
   "cell_type": "markdown",
   "id": "4c453868-c6a1-4356-8c2e-9e2f61387c23",
   "metadata": {},
   "source": [
    "# Functional Arguments"
   ]
  },
  {
   "cell_type": "markdown",
   "id": "9ac73aa6-831c-4ae2-8906-76b7f882ea74",
   "metadata": {},
   "source": [
    "**Question 1: Positional Arguments**\n",
    "Write a function called `add` that takes two positional arguments `a` and `b`, and returns their sum.\n",
    "\n",
    "Expected Output:\n",
    "\n",
    "```python\n",
    "result = add(5, 10)\n",
    "print(result)  # Output: 15\n",
    "```"
   ]
  },
  {
   "cell_type": "code",
   "execution_count": 3,
   "id": "f9a0d8a5-edb0-4c2e-85fe-c3e9d2f129f8",
   "metadata": {},
   "outputs": [
    {
     "name": "stdout",
     "output_type": "stream",
     "text": [
      "15\n"
     ]
    }
   ],
   "source": [
    "def add(a,b):\n",
    "    sum = a + b\n",
    "    return sum\n",
    "result = add(5,10)\n",
    "print(result)"
   ]
  },
  {
   "cell_type": "markdown",
   "id": "2d09fe96-15a6-4a40-a293-d81bff278a51",
   "metadata": {},
   "source": [
    "**Question 2: Keyword Arguments**\n",
    "Write a function called `greet` that takes two keyword arguments `name` and `age`, and prints a greeting message with the provided values.\n",
    "\n",
    "Expected Output:\n",
    "\n",
    "```python\n",
    "greet(name=\"Alice\", age=25)  # Output: Hello, Alice! You are 25 years old.\n",
    "\n",
    "```"
   ]
  },
  {
   "cell_type": "code",
   "execution_count": 6,
   "id": "c8d1aa09-0789-4d80-8fc1-77de9ceaae93",
   "metadata": {},
   "outputs": [
    {
     "name": "stdout",
     "output_type": "stream",
     "text": [
      "Hello, Alice! You are 25 years old.\n"
     ]
    }
   ],
   "source": [
    "def greet(name,age):\n",
    "    print(f\"Hello, {name}! You are {age} years old.\")\n",
    "\n",
    "greet(name = \"Alice\", age = 25)"
   ]
  },
  {
   "cell_type": "markdown",
   "id": "57543b9a-f632-4b2c-a8f2-5555368f57e7",
   "metadata": {},
   "source": [
    "**Question 3: Default Values**\n",
    "Write a function called `multiply` that takes two arguments `a` and `b`, with `b` having a default value of 2. The function should return the product of `a` and `b`.\n",
    "\n",
    "Expected Output:\n",
    "\n",
    "```python\n",
    "result = multiply(5)\n",
    "print(result)  # Output: 10\n"
   ]
  },
  {
   "cell_type": "code",
   "execution_count": 9,
   "id": "6d2a289a-289e-48d9-bb6e-a9044cf49f9f",
   "metadata": {},
   "outputs": [
    {
     "name": "stdout",
     "output_type": "stream",
     "text": [
      "10\n"
     ]
    }
   ],
   "source": [
    "def multiply(a,b=2):\n",
    "    return a*b\n",
    "\n",
    "result = multiply(5)\n",
    "print(result)\n",
    "    "
   ]
  },
  {
   "cell_type": "markdown",
   "id": "50878213-d9fc-438c-b432-208251697138",
   "metadata": {},
   "source": [
    "**Question 4: Mixing Positional and Keyword Arguments**\n",
    "Write a function called `print_info` that takes three positional arguments `name`, `age`, and `country`, and prints the information in a formatted message.\n",
    "\n",
    "Expected Output:\n",
    "\n",
    "```python\n",
    "print_info(\"Alice\", 25, \"USA\")  # Output: Name: Alice, Age: 25, Country: USA\n",
    "\n",
    "```"
   ]
  },
  {
   "cell_type": "code",
   "execution_count": 12,
   "id": "70efda0c-7619-4501-9918-11d0b5fe805f",
   "metadata": {},
   "outputs": [
    {
     "name": "stdout",
     "output_type": "stream",
     "text": [
      "Name: Alice, Age: 25, Country: USA\n"
     ]
    }
   ],
   "source": [
    "def print_info(name,age,country):\n",
    "    print(f\"Name: {name}, Age: {age}, Country: {country}\")\n",
    "    \n",
    "print_info(\"Alice\", 25, \"USA\")"
   ]
  },
  {
   "cell_type": "markdown",
   "id": "0cebb2be-55dc-4779-b6ad-ca6bd44078ad",
   "metadata": {},
   "source": [
    "1. Create a variable `name` and assign your name to it. Print a greeting message using the variable."
   ]
  },
  {
   "cell_type": "code",
   "execution_count": 14,
   "id": "d08b03bf-ca92-4a0a-bb13-22fbb95d999f",
   "metadata": {},
   "outputs": [
    {
     "name": "stdout",
     "output_type": "stream",
     "text": [
      "Hi, This is nithin\n"
     ]
    }
   ],
   "source": [
    "def greeting(name):\n",
    "    print(f\"Hi, This is {name}\")\n",
    "greeting(\"nithin\")"
   ]
  },
  {
   "cell_type": "markdown",
   "id": "4a91b6bc-9025-4e08-b1ca-f3e065101b46",
   "metadata": {},
   "source": [
    "2. Convert the string `\"42\"` to an integer and assign it to a variable `num`. Print the value and type of `num`."
   ]
  },
  {
   "cell_type": "code",
   "execution_count": 17,
   "id": "11b277e5-5c65-4de7-87a8-0bdbd4522be0",
   "metadata": {},
   "outputs": [
    {
     "data": {
      "text/plain": [
       "42"
      ]
     },
     "execution_count": 17,
     "metadata": {},
     "output_type": "execute_result"
    }
   ],
   "source": [
    "def value(a):\n",
    "    num = int(a)\n",
    "    return num\n",
    "value(\"42\")"
   ]
  },
  {
   "cell_type": "markdown",
   "id": "f03f69c5-5060-43bf-b27b-d5ffbe69aee8",
   "metadata": {},
   "source": [
    "3. Define a tuple with three elements: `\"cat\"`, `\"dog\"`, and `\"rabbit\"`. Print the third element."
   ]
  },
  {
   "cell_type": "code",
   "execution_count": 20,
   "id": "38c6a03b-8bc7-4f13-828a-3f45a5e8e686",
   "metadata": {},
   "outputs": [
    {
     "data": {
      "text/plain": [
       "'rabbit'"
      ]
     },
     "execution_count": 20,
     "metadata": {},
     "output_type": "execute_result"
    }
   ],
   "source": [
    "def three(t):\n",
    "    return t[-1]\n",
    "three((\"cat\",\"dog\",\"rabbit\"))"
   ]
  },
  {
   "cell_type": "markdown",
   "id": "1de50079-af2b-4744-bae4-cb06c2076f8b",
   "metadata": {},
   "source": [
    "4. Swap the values of two variables, `a` and `b`, without using a temporary variable."
   ]
  },
  {
   "cell_type": "code",
   "execution_count": 23,
   "id": "da7db03f-a0fe-4afd-9b60-318a3fb6508e",
   "metadata": {},
   "outputs": [
    {
     "data": {
      "text/plain": [
       "(20, 10)"
      ]
     },
     "execution_count": 23,
     "metadata": {},
     "output_type": "execute_result"
    }
   ],
   "source": [
    "def swap_values(a,b):\n",
    "    a = a+b\n",
    "    b = a-b\n",
    "    a = a-b\n",
    "    \n",
    "    return a,b\n",
    "swap_values(10,20)"
   ]
  },
  {
   "cell_type": "markdown",
   "id": "e6966611-128f-43b5-ae38-2d784eb04d6c",
   "metadata": {},
   "source": [
    "5. Write a program that takes your age as input and prints a message: `\"You are [age] years old.\"`"
   ]
  },
  {
   "cell_type": "code",
   "execution_count": 26,
   "id": "a0ecebdf-d30c-49ad-bfd0-03a6e33ee2b1",
   "metadata": {},
   "outputs": [
    {
     "name": "stdin",
     "output_type": "stream",
     "text": [
      "Enter your age:  23\n"
     ]
    },
    {
     "name": "stdout",
     "output_type": "stream",
     "text": [
      "You are 23 years old\n"
     ]
    }
   ],
   "source": [
    "def Your_age(age):\n",
    "    print(f\"You are {age} years old\")\n",
    "age = int(input(\"Enter your age: \"))\n",
    "Your_age(age)"
   ]
  },
  {
   "cell_type": "markdown",
   "id": "9501f8ae-60b4-428e-b75d-c536c8b2d035",
   "metadata": {},
   "source": [
    "6. Calculate the product of two numbers entered by the user and print the result."
   ]
  },
  {
   "cell_type": "code",
   "execution_count": 28,
   "id": "0f6d18de-8850-4887-b6d1-de12d2194c4c",
   "metadata": {},
   "outputs": [
    {
     "name": "stdin",
     "output_type": "stream",
     "text": [
      "Enter a value:  2\n",
      "Enter b value:  3\n"
     ]
    },
    {
     "data": {
      "text/plain": [
       "6"
      ]
     },
     "execution_count": 28,
     "metadata": {},
     "output_type": "execute_result"
    }
   ],
   "source": [
    "def multiplication(a,b):\n",
    "    return a*b\n",
    "a=int(input(\"Enter a value: \"))\n",
    "b=int(input(\"Enter b value: \"))\n",
    "multiplication(a,b)\n",
    "      "
   ]
  },
  {
   "cell_type": "markdown",
   "id": "12cb698f-35ff-4b06-b11f-5587bbd2102f",
   "metadata": {},
   "source": [
    "7. Format the variables `item = \"book\"` and `price = 25.99` into a sentence."
   ]
  },
  {
   "cell_type": "code",
   "execution_count": 30,
   "id": "15b9f5a2-ac28-4f9f-8995-3f0909974451",
   "metadata": {},
   "outputs": [
    {
     "name": "stdout",
     "output_type": "stream",
     "text": [
      "The book price is 25.99\n"
     ]
    }
   ],
   "source": [
    "def format(item,price):\n",
    "    print(f\"The {item} price is {price}\")\n",
    "format(item = \"book\", price = 25.99)"
   ]
  },
  {
   "cell_type": "markdown",
   "id": "8f4ccb88-d003-4424-a4eb-bc8a58133dc1",
   "metadata": {},
   "source": [
    "8. Write a function that takes an integer as input and returns `\"Positive\"`, `\"Negative\"`, or `\"Zero\"`."
   ]
  },
  {
   "cell_type": "code",
   "execution_count": 32,
   "id": "48b3f803-d064-49e3-8be3-5e0b3c2c05cb",
   "metadata": {},
   "outputs": [
    {
     "name": "stdin",
     "output_type": "stream",
     "text": [
      "Enter integer:  -1\n"
     ]
    },
    {
     "data": {
      "text/plain": [
       "'negative'"
      ]
     },
     "execution_count": 32,
     "metadata": {},
     "output_type": "execute_result"
    }
   ],
   "source": [
    "def integer_check(n):\n",
    "    if n > 0:\n",
    "        return \"Positive\"\n",
    "    elif n < 0:\n",
    "        return \"negative\"\n",
    "    else:\n",
    "        return \"Zero\"\n",
    "a = int(input(\"Enter integer: \"))\n",
    "integer_check(a)"
   ]
  },
  {
   "cell_type": "markdown",
   "id": "94af2118-48ce-4104-9b4f-9013b8497d9c",
   "metadata": {},
   "source": [
    "9. Create a program that checks if a user-input number is even or odd."
   ]
  },
  {
   "cell_type": "code",
   "execution_count": 34,
   "id": "cd8cc76a-4f54-4c64-a4ad-5bf885e26f1c",
   "metadata": {},
   "outputs": [
    {
     "name": "stdin",
     "output_type": "stream",
     "text": [
      "Enter a number:  2\n"
     ]
    },
    {
     "data": {
      "text/plain": [
       "'Even'"
      ]
     },
     "execution_count": 34,
     "metadata": {},
     "output_type": "execute_result"
    }
   ],
   "source": [
    "def check_even_odd(n):\n",
    "    if n%2==0:\n",
    "        return \"Even\"\n",
    "    else:\n",
    "        return \"Odd\"\n",
    "\n",
    "b=int(input(\"Enter a number: \"))\n",
    "check_even_odd(b)"
   ]
  },
  {
   "cell_type": "markdown",
   "id": "092c4fde-994e-4dc1-806d-16aa2bf6e15e",
   "metadata": {},
   "source": [
    "10. Write a program that determines if a year entered by the user is a leap year."
   ]
  },
  {
   "cell_type": "code",
   "execution_count": 36,
   "id": "d59b72ed-e71e-49ea-989b-2c3e6c806f92",
   "metadata": {},
   "outputs": [
    {
     "name": "stdin",
     "output_type": "stream",
     "text": [
      "Enter Year :  2023\n"
     ]
    },
    {
     "data": {
      "text/plain": [
       "'Not Leap Year'"
      ]
     },
     "execution_count": 36,
     "metadata": {},
     "output_type": "execute_result"
    }
   ],
   "source": [
    "def leap_year_check(year):\n",
    "    if (year%4==0 and year%100!=0) or year%400==0:\n",
    "        return \"Leap Year\"\n",
    "    else:\n",
    "        return \"Not Leap Year\"\n",
    "year = int(input(\"Enter Year : \"))\n",
    "leap_year_check(year)"
   ]
  },
  {
   "cell_type": "markdown",
   "id": "0db8ccf6-c0d4-4549-9f78-77d6596dc1fb",
   "metadata": {},
   "source": [
    "11. Print the numbers from 1 to 5 using a `for` loop."
   ]
  },
  {
   "cell_type": "code",
   "execution_count": 38,
   "id": "fec3c2f1-2435-43da-a558-fbe6e6e0f4be",
   "metadata": {},
   "outputs": [
    {
     "name": "stdout",
     "output_type": "stream",
     "text": [
      "1 2 3 4 5 "
     ]
    }
   ],
   "source": [
    "for i in range(1,6):\n",
    "    print(i, end = \" \")"
   ]
  },
  {
   "cell_type": "markdown",
   "id": "563ed387-1ff0-43cf-95b5-78d6594d4b44",
   "metadata": {},
   "source": [
    "12. Write a `while` loop that calculates the sum of numbers from 1 to 20."
   ]
  },
  {
   "cell_type": "code",
   "execution_count": 40,
   "id": "717a8f76-11ff-4d23-9c24-0cb80a685da0",
   "metadata": {},
   "outputs": [
    {
     "name": "stdout",
     "output_type": "stream",
     "text": [
      "210\n"
     ]
    }
   ],
   "source": [
    "i=1\n",
    "sum = 0\n",
    "while i<=20:\n",
    "    sum = sum+i\n",
    "    i = i+1\n",
    "print(sum)"
   ]
  },
  {
   "cell_type": "markdown",
   "id": "552161a5-6885-4923-8e56-3cefffcff903",
   "metadata": {},
   "source": [
    "13. Print each character of the string `\"Hello\"` using a loop."
   ]
  },
  {
   "cell_type": "code",
   "execution_count": 42,
   "id": "9a2a5ccc-e969-49aa-a567-85bf15b33316",
   "metadata": {},
   "outputs": [
    {
     "name": "stdout",
     "output_type": "stream",
     "text": [
      "H e l l o "
     ]
    }
   ],
   "source": [
    "s = \"Hello\"\n",
    "for i in s:\n",
    "    print(i , end=\" \")"
   ]
  },
  {
   "cell_type": "markdown",
   "id": "7dad4919-5e2f-4f1c-a444-51e5c6568869",
   "metadata": {},
   "source": [
    "14. Create a list of your favorite fruits and print the second fruit on the list."
   ]
  },
  {
   "cell_type": "code",
   "execution_count": 52,
   "id": "565af5ea-355c-41db-adee-33e2a2081d9e",
   "metadata": {},
   "outputs": [
    {
     "data": {
      "text/plain": [
       "'pineapple'"
      ]
     },
     "execution_count": 52,
     "metadata": {},
     "output_type": "execute_result"
    }
   ],
   "source": [
    "list1 = [\"apple\", \"pineapple\", \"orange\" , \"grapes\"]\n",
    "list1[1]"
   ]
  },
  {
   "cell_type": "markdown",
   "id": "9bc96b97-79a1-4d48-9bbc-0ecea9e1c6ec",
   "metadata": {},
   "source": [
    "15. Add the number 7 to a set. Add the number 7 again and observe the set's behavior."
   ]
  },
  {
   "cell_type": "code",
   "execution_count": 46,
   "id": "705f217a-14d1-4eea-a1cf-498eaff16c33",
   "metadata": {},
   "outputs": [
    {
     "data": {
      "text/plain": [
       "{1, 2, 3, 4, 5, 6, 7}"
      ]
     },
     "execution_count": 46,
     "metadata": {},
     "output_type": "execute_result"
    }
   ],
   "source": [
    "se = {1,2,3,4,5,6}\n",
    "se.add(7)\n",
    "se"
   ]
  },
  {
   "cell_type": "code",
   "execution_count": 48,
   "id": "15152516-5c09-448d-b0d4-64e54898b8c6",
   "metadata": {},
   "outputs": [
    {
     "data": {
      "text/plain": [
       "{1, 2, 3, 4, 5, 6, 7}"
      ]
     },
     "execution_count": 48,
     "metadata": {},
     "output_type": "execute_result"
    }
   ],
   "source": [
    "se.add(7)\n",
    "se"
   ]
  },
  {
   "cell_type": "markdown",
   "id": "fbdb5a9c-c1f0-46f5-9070-594ffba27789",
   "metadata": {},
   "source": [
    "16. Write a function that takes a list as input and returns a new list without duplicate elements."
   ]
  },
  {
   "cell_type": "code",
   "execution_count": 1,
   "id": "c4e37cc1-03e2-499d-9db2-636d09afb74b",
   "metadata": {},
   "outputs": [
    {
     "name": "stdout",
     "output_type": "stream",
     "text": [
      "[1, 2, 3, 4, 5, 'nithin', 'balu']\n"
     ]
    }
   ],
   "source": [
    "def fun(li):\n",
    "    l = set(li)\n",
    "    li = list(l)\n",
    "    return li\n",
    "li = [1,2,3,4,5,\"nithin\",\"balu\", 2 ,\"nithin\"]\n",
    "res = fun(li)\n",
    "print(res)"
   ]
  },
  {
   "cell_type": "markdown",
   "id": "9c09462b-49bf-49be-a2d6-d96e6a1c09e0",
   "metadata": {},
   "source": [
    "17. Create a tuple containing your birth year, birth month, and birth day."
   ]
  },
  {
   "cell_type": "code",
   "execution_count": 5,
   "id": "62b46de4-12e2-446a-b64c-cf8878a09860",
   "metadata": {},
   "outputs": [
    {
     "data": {
      "text/plain": [
       "(2002, 'March', 10)"
      ]
     },
     "execution_count": 5,
     "metadata": {},
     "output_type": "execute_result"
    }
   ],
   "source": [
    "t = (2002, \"March\" , 10)\n",
    "t"
   ]
  },
  {
   "cell_type": "markdown",
   "id": "5fc22ed4-1c8f-4358-8729-aff03412ecf5",
   "metadata": {},
   "source": [
    "18. Define a function `calculate_average` that takes a list of numbers as input and returns their average."
   ]
  },
  {
   "cell_type": "code",
   "execution_count": 11,
   "id": "37eddba5-0959-4ecc-8d60-c49b115f151d",
   "metadata": {},
   "outputs": [
    {
     "data": {
      "text/plain": [
       "2.0"
      ]
     },
     "execution_count": 11,
     "metadata": {},
     "output_type": "execute_result"
    }
   ],
   "source": [
    "def calculate_average(a,b,c):\n",
    "    return (a+b+c)/3\n",
    "calculate_average(1,2,3)"
   ]
  },
  {
   "cell_type": "markdown",
   "id": "d19c4e1c-4ca6-44b9-b269-4a363942f125",
   "metadata": {},
   "source": [
    "19. Write a function `power` that takes two arguments, `base` and `exponent`, and calculates `base` raised to the power of `exponent`."
   ]
  },
  {
   "cell_type": "code",
   "execution_count": 14,
   "id": "90337bb5-3fca-4206-bf80-8c3980f193c9",
   "metadata": {},
   "outputs": [
    {
     "data": {
      "text/plain": [
       "8"
      ]
     },
     "execution_count": 14,
     "metadata": {},
     "output_type": "execute_result"
    }
   ],
   "source": [
    "def power(base,exponent):\n",
    "    return base ** exponent\n",
    "power(2,3)"
   ]
  },
  {
   "cell_type": "markdown",
   "id": "51073a7c-f511-439e-a8c1-d19365c26054",
   "metadata": {},
   "source": [
    "20. Define a function that takes any number of strings as arguments and returns them concatenated."
   ]
  },
  {
   "cell_type": "code",
   "execution_count": 17,
   "id": "15c7e410-a644-4dc0-acec-38c5fef74cf4",
   "metadata": {},
   "outputs": [
    {
     "data": {
      "text/plain": [
       "'nithin'"
      ]
     },
     "execution_count": 17,
     "metadata": {},
     "output_type": "execute_result"
    }
   ],
   "source": [
    "def concat(a,b,c):\n",
    "    return a+b+c\n",
    "concat(\"ni\",\"th\",\"in\")"
   ]
  },
  {
   "cell_type": "markdown",
   "id": "5ee3418c-1236-4fe1-bc1c-db1d3b7f01d9",
   "metadata": {},
   "source": [
    "21. Check if the word \"apple\" is present in the string \"I like apples and oranges\"."
   ]
  },
  {
   "cell_type": "code",
   "execution_count": 29,
   "id": "f6206d84-e5d8-4df5-bf11-5fa8044f5831",
   "metadata": {},
   "outputs": [
    {
     "name": "stdout",
     "output_type": "stream",
     "text": [
      "True\n"
     ]
    }
   ],
   "source": [
    "str = \"I like apples and oranges\"\n",
    "if \"apple\" in str:\n",
    "    print(\"True\")\n",
    "else:\n",
    "    print(\"False\")"
   ]
  },
  {
   "cell_type": "markdown",
   "id": "cfe50a75-8a50-4ebb-be3f-c700d6be3105",
   "metadata": {},
   "source": [
    "22. Count the occurrences of the letter \"i\" in the string \"Mississippi\"."
   ]
  },
  {
   "cell_type": "code",
   "execution_count": 44,
   "id": "00ad64a4-3c8d-4559-8e46-93ec26a42c4b",
   "metadata": {},
   "outputs": [
    {
     "data": {
      "text/plain": [
       "4"
      ]
     },
     "execution_count": 44,
     "metadata": {},
     "output_type": "execute_result"
    }
   ],
   "source": [
    "def occurences(s):\n",
    "    c = 0\n",
    "    for i in s:\n",
    "        if i == 'i':\n",
    "            c = c+1\n",
    "    return c\n",
    "str = \"Mississippi\"\n",
    "occurences(str)"
   ]
  },
  {
   "cell_type": "markdown",
   "id": "2656c8b7-b068-4196-8d60-1523ea68f418",
   "metadata": {},
   "source": [
    "23. Reverse the string `\"Python\"` using slicing."
   ]
  },
  {
   "cell_type": "code",
   "execution_count": 47,
   "id": "e2654f47-1c3f-4b5b-a0ce-dc5ca308a4c7",
   "metadata": {},
   "outputs": [
    {
     "data": {
      "text/plain": [
       "'nohtyP'"
      ]
     },
     "execution_count": 47,
     "metadata": {},
     "output_type": "execute_result"
    }
   ],
   "source": [
    "p = \"Python\"\n",
    "p[::-1]"
   ]
  },
  {
   "cell_type": "markdown",
   "id": "47948962-012e-4c3f-9f1c-b5a4011214c9",
   "metadata": {},
   "source": [
    "24. Create a dictionary representing a car with keys `\"make\"`, `\"model\"`, and `\"year\"`. Print the car's model."
   ]
  },
  {
   "cell_type": "code",
   "execution_count": 58,
   "id": "faf230e6-8445-417a-ac85-9ce1b1292d7a",
   "metadata": {},
   "outputs": [],
   "source": [
    "d = { \"make\" : \"Audi\" , \"model\" : \"Q5\" , \"year\" : 2024}"
   ]
  },
  {
   "cell_type": "code",
   "execution_count": 70,
   "id": "028f473a-917e-4456-8209-3de3228aa60f",
   "metadata": {},
   "outputs": [
    {
     "data": {
      "text/plain": [
       "'Q5'"
      ]
     },
     "execution_count": 70,
     "metadata": {},
     "output_type": "execute_result"
    }
   ],
   "source": [
    "d[\"model\"]"
   ]
  },
  {
   "cell_type": "markdown",
   "id": "30558482-6891-44c1-aa0d-4ce8b97410fe",
   "metadata": {},
   "source": [
    "25. Add a new car to the dictionary, modify the year of an existing car, and retrieve the make of a specific car."
   ]
  },
  {
   "cell_type": "code",
   "execution_count": 77,
   "id": "857c328b-8c3a-4a1e-9b0f-ab2307b6c6e9",
   "metadata": {},
   "outputs": [],
   "source": [
    "cars = {\n",
    "    \"car1\": {\"make\": \"Audi\", \"model\": \"Q5\", \"year\": 2024}\n",
    "}\n",
    "\n",
    "cars[\"car2\"] = {\"make\": \"BMW\", \"model\": \"X5\", \"year\": 2023}\n"
   ]
  },
  {
   "cell_type": "code",
   "execution_count": 83,
   "id": "6611cff0-44a2-4318-90a0-8c591313cdb7",
   "metadata": {},
   "outputs": [
    {
     "name": "stdout",
     "output_type": "stream",
     "text": [
      "X5\n"
     ]
    }
   ],
   "source": [
    "print(cars[\"car2\"][\"model\"])"
   ]
  },
  {
   "cell_type": "code",
   "execution_count": null,
   "id": "9009169b-1bef-4b87-b9eb-9bd29576c920",
   "metadata": {},
   "outputs": [],
   "source": []
  }
 ],
 "metadata": {
  "kernelspec": {
   "display_name": "Python 3 (ipykernel)",
   "language": "python",
   "name": "python3"
  },
  "language_info": {
   "codemirror_mode": {
    "name": "ipython",
    "version": 3
   },
   "file_extension": ".py",
   "mimetype": "text/x-python",
   "name": "python",
   "nbconvert_exporter": "python",
   "pygments_lexer": "ipython3",
   "version": "3.12.2"
  }
 },
 "nbformat": 4,
 "nbformat_minor": 5
}
