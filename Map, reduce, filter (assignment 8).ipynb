{
 "cells": [
  {
   "cell_type": "markdown",
   "id": "ff8cf8d4-35ac-43b3-8c19-5f8d84cd64bf",
   "metadata": {},
   "source": [
    "# Practical Questions on map()\n"
   ]
  },
  {
   "cell_type": "markdown",
   "id": "c24ad692-e46f-4f39-8f83-fdd438c05e7e",
   "metadata": {},
   "source": [
    "1. Convert a list of strings to uppercase\n",
    "\n",
    "words = ['python', 'is', 'awesome']\n",
    "\n",
    "Output: ['PYTHON', 'IS', 'AWESOME']\n"
   ]
  },
  {
   "cell_type": "code",
   "execution_count": 15,
   "id": "58717596-3301-4b3b-8091-b6bf89f9eb6a",
   "metadata": {},
   "outputs": [],
   "source": [
    "words = ['python','is','awesome']\n",
    "l = list(map(str.upper, words))"
   ]
  },
  {
   "cell_type": "code",
   "execution_count": 17,
   "id": "4d1cc7c4-662a-4371-a6de-441bb0e136ee",
   "metadata": {},
   "outputs": [
    {
     "data": {
      "text/plain": [
       "['PYTHON', 'IS', 'AWESOME']"
      ]
     },
     "execution_count": 17,
     "metadata": {},
     "output_type": "execute_result"
    }
   ],
   "source": [
    "l"
   ]
  },
  {
   "cell_type": "markdown",
   "id": "a2fb502d-fb7b-4c2b-af44-12153d26da44",
   "metadata": {},
   "source": [
    "2. Square all numbers in a list\n",
    "\n",
    "numbers = [1, 2, 3, 4]\n",
    "\n",
    "Output: [1, 4, 9, 16]"
   ]
  },
  {
   "cell_type": "code",
   "execution_count": 20,
   "id": "9254375e-7942-440c-8fc4-287e0ecf9a0e",
   "metadata": {},
   "outputs": [],
   "source": [
    "numbers = [1,2,3,4]\n",
    "squares = list(map(lambda i : i**2, numbers))"
   ]
  },
  {
   "cell_type": "code",
   "execution_count": 22,
   "id": "7c058569-253e-4515-97e3-cf028c365e75",
   "metadata": {},
   "outputs": [
    {
     "data": {
      "text/plain": [
       "[1, 4, 9, 16]"
      ]
     },
     "execution_count": 22,
     "metadata": {},
     "output_type": "execute_result"
    }
   ],
   "source": [
    "squares"
   ]
  },
  {
   "cell_type": "markdown",
   "id": "59d78f3c-5809-4956-bef2-7f937af69026",
   "metadata": {},
   "source": [
    "3. Convert a list of integers to strings\n",
    "\n",
    "nums = [1, 2, 3]\n",
    "\n",
    "Output: ['1', '2', '3']"
   ]
  },
  {
   "cell_type": "code",
   "execution_count": 39,
   "id": "26f36615-b4d9-4f3f-a5bb-fc0432cab92b",
   "metadata": {},
   "outputs": [
    {
     "data": {
      "text/plain": [
       "['1', '2', '3']"
      ]
     },
     "execution_count": 39,
     "metadata": {},
     "output_type": "execute_result"
    }
   ],
   "source": [
    "nums = [1,2,3]\n",
    "[str(i) for i in nums]"
   ]
  },
  {
   "cell_type": "markdown",
   "id": "99f2727f-0bd2-4904-a0ad-a928ab70ad6b",
   "metadata": {},
   "source": [
    "4. Add 5 to each element in a list\n",
    "\n",
    "marks = [50, 60, 70]\n",
    "\n",
    "Output: [55, 65, 75]\n"
   ]
  },
  {
   "cell_type": "code",
   "execution_count": 56,
   "id": "ec572ea7-7a06-49d7-a00e-1095d8503343",
   "metadata": {},
   "outputs": [],
   "source": [
    "marks = [50,60,70]\n",
    "m = list(map(lambda a: a+5, marks))"
   ]
  },
  {
   "cell_type": "code",
   "execution_count": 52,
   "id": "a776b640-a49b-40ad-8699-9473a0d1c7d8",
   "metadata": {},
   "outputs": [
    {
     "data": {
      "text/plain": [
       "[55, 65, 75]"
      ]
     },
     "execution_count": 52,
     "metadata": {},
     "output_type": "execute_result"
    }
   ],
   "source": [
    "m"
   ]
  },
  {
   "cell_type": "markdown",
   "id": "f07960e0-aa07-46c2-9843-759f59923bed",
   "metadata": {},
   "source": [
    "5. Get lengths of all strings in a list\n",
    "\n",
    "names = ['apple', 'banana', 'kiwi']\n",
    "\n",
    "Output: [5, 6, 4]"
   ]
  },
  {
   "cell_type": "code",
   "execution_count": 59,
   "id": "227cd794-bd2e-4e18-a558-be90a9819947",
   "metadata": {},
   "outputs": [],
   "source": [
    "names = ['apple', 'banana', 'kiwi']\n",
    "o = list(map(lambda x : len(x), names))"
   ]
  },
  {
   "cell_type": "code",
   "execution_count": 61,
   "id": "c572ac39-0973-4d54-a2eb-610f426a449a",
   "metadata": {},
   "outputs": [
    {
     "data": {
      "text/plain": [
       "[5, 6, 4]"
      ]
     },
     "execution_count": 61,
     "metadata": {},
     "output_type": "execute_result"
    }
   ],
   "source": [
    "o"
   ]
  },
  {
   "cell_type": "markdown",
   "id": "60d1d1fd-b5ed-49d3-a872-6c9baa32b607",
   "metadata": {},
   "source": [
    "# Filter()"
   ]
  },
  {
   "cell_type": "markdown",
   "id": "066939a7-b30d-4023-b680-1328ca75df87",
   "metadata": {},
   "source": [
    "1. Filter out even numbers\n",
    "\n",
    "nums = [1, 2, 3, 4, 5, 6]\n",
    "\n",
    "Output: [2, 4, 6]\n"
   ]
  },
  {
   "cell_type": "code",
   "execution_count": 64,
   "id": "bf007a45-ccc4-49e6-9f63-6edf7b9ef6cb",
   "metadata": {},
   "outputs": [],
   "source": [
    "nums = [1,2,3,4,5,6]\n",
    "even = list(filter(lambda x : x%2==0, nums))"
   ]
  },
  {
   "cell_type": "code",
   "execution_count": 66,
   "id": "2d1cccde-47db-4bfa-8d82-068e21f64be7",
   "metadata": {},
   "outputs": [
    {
     "data": {
      "text/plain": [
       "[2, 4, 6]"
      ]
     },
     "execution_count": 66,
     "metadata": {},
     "output_type": "execute_result"
    }
   ],
   "source": [
    "even"
   ]
  },
  {
   "cell_type": "markdown",
   "id": "8eca2127-652b-4415-b062-35fe1aaac1e2",
   "metadata": {},
   "source": [
    "2. Keep only strings with more than 3 characters\n",
    "\n",
    "words = ['hi', 'hello', 'hey', 'sun']\n",
    "\n",
    "Output: ['hello']\n"
   ]
  },
  {
   "cell_type": "code",
   "execution_count": 70,
   "id": "a18d8fd8-66d7-473a-b769-994334d557c4",
   "metadata": {},
   "outputs": [],
   "source": [
    "words = ['hi', 'hello', 'hey', 'sun']\n",
    "characters = list(filter(lambda x : len(x)>3, words))"
   ]
  },
  {
   "cell_type": "code",
   "execution_count": 72,
   "id": "01247dae-b33c-4c1a-9dbe-2f1099e9b2ca",
   "metadata": {},
   "outputs": [
    {
     "data": {
      "text/plain": [
       "['hello']"
      ]
     },
     "execution_count": 72,
     "metadata": {},
     "output_type": "execute_result"
    }
   ],
   "source": [
    "characters"
   ]
  },
  {
   "cell_type": "markdown",
   "id": "0690a011-a268-485a-8696-6b764bcde510",
   "metadata": {},
   "source": [
    "3. Remove empty strings from a list\n",
    "\n",
    "data = ['Python', '', 'Java', '', 'C++']\n",
    "\n",
    "Output: ['Python', 'Java', 'C++']\n"
   ]
  },
  {
   "cell_type": "code",
   "execution_count": 90,
   "id": "88192ebb-abbc-4f94-ba70-a90c672c14ae",
   "metadata": {},
   "outputs": [],
   "source": [
    "data = ['Python','','Java','','C++']\n",
    "empty = list(filter(bool,data))"
   ]
  },
  {
   "cell_type": "code",
   "execution_count": 92,
   "id": "e67b2d0e-783a-435f-a5c2-46b81e1ddaca",
   "metadata": {},
   "outputs": [
    {
     "data": {
      "text/plain": [
       "['Python', 'Java', 'C++']"
      ]
     },
     "execution_count": 92,
     "metadata": {},
     "output_type": "execute_result"
    }
   ],
   "source": [
    "empty"
   ]
  },
  {
   "cell_type": "markdown",
   "id": "7e3ba599-0440-4df7-8078-681c916f5c8b",
   "metadata": {},
   "source": [
    "4. Get names that start with 'A'\n",
    "\n",
    "names = ['Alice', 'Bob', 'Angela', 'Tom']\n",
    "\n",
    "Output: ['Alice', 'Angela']"
   ]
  },
  {
   "cell_type": "code",
   "execution_count": 85,
   "id": "8c74b785-ca97-4e55-ad4b-b1f66fdd0f54",
   "metadata": {},
   "outputs": [],
   "source": [
    "names = ['Alice', 'Bob', 'Angela', 'Tom']\n",
    "start = list(filter(lambda x: x.startswith('A'), names))"
   ]
  },
  {
   "cell_type": "code",
   "execution_count": 87,
   "id": "6b4acc47-b3ca-4cad-a5b3-f4cf8b7a232b",
   "metadata": {},
   "outputs": [
    {
     "data": {
      "text/plain": [
       "['Alice', 'Angela']"
      ]
     },
     "execution_count": 87,
     "metadata": {},
     "output_type": "execute_result"
    }
   ],
   "source": [
    "start"
   ]
  },
  {
   "cell_type": "markdown",
   "id": "be278242-cdcd-411e-abaa-e80a51d1764f",
   "metadata": {},
   "source": [
    "5. Keep truthy values only\n",
    "\n",
    "items = [0, None, 'hello', False, 42, '']\n",
    "\n",
    "Output: ['hello', 42]"
   ]
  },
  {
   "cell_type": "code",
   "execution_count": 94,
   "id": "b0a61cce-21ac-4aef-8935-dabb7176b608",
   "metadata": {},
   "outputs": [],
   "source": [
    "items = [0, None, 'hello', False, 42, '']\n",
    "truthy = list(filter(bool,items))"
   ]
  },
  {
   "cell_type": "code",
   "execution_count": 96,
   "id": "9e487f76-6fb5-4a13-8172-262d6bf9fe3c",
   "metadata": {},
   "outputs": [
    {
     "data": {
      "text/plain": [
       "['hello', 42]"
      ]
     },
     "execution_count": 96,
     "metadata": {},
     "output_type": "execute_result"
    }
   ],
   "source": [
    "truthy"
   ]
  },
  {
   "cell_type": "markdown",
   "id": "7eb8b098-9194-4a3f-9196-41cd004a8b6d",
   "metadata": {},
   "source": [
    "# Reduce()"
   ]
  },
  {
   "cell_type": "code",
   "execution_count": 108,
   "id": "6bdb233c-72b8-46d9-8d96-070ae810316b",
   "metadata": {},
   "outputs": [],
   "source": [
    "from functools import reduce"
   ]
  },
  {
   "cell_type": "markdown",
   "id": "6026f714-18e6-481c-b122-7fa24b906c00",
   "metadata": {},
   "source": [
    "1. Sum of all numbers\n",
    "\n",
    "nums = [1, 2, 3, 4]\n",
    "\n",
    "Output: 10"
   ]
  },
  {
   "cell_type": "code",
   "execution_count": 110,
   "id": "3c8f6eb3-a386-4291-b6c7-1efd049b6289",
   "metadata": {},
   "outputs": [],
   "source": [
    "nums = [1, 2, 3, 4]\n",
    "s = reduce(lambda x,y: x+y, nums)"
   ]
  },
  {
   "cell_type": "code",
   "execution_count": 112,
   "id": "01ac9f74-2242-43f2-8c28-2902c16ccede",
   "metadata": {},
   "outputs": [
    {
     "data": {
      "text/plain": [
       "10"
      ]
     },
     "execution_count": 112,
     "metadata": {},
     "output_type": "execute_result"
    }
   ],
   "source": [
    "s"
   ]
  },
  {
   "cell_type": "markdown",
   "id": "92c51b13-9e6d-4ad4-9a8e-317fd0459a62",
   "metadata": {},
   "source": [
    "2. Product of all even numbers\n",
    "\n",
    "nums = [1, 2, 3, 4, 5]\n",
    "\n",
    "Filter even → [2, 4]\n",
    "\n",
    "Reduce → 8\n"
   ]
  },
  {
   "cell_type": "code",
   "execution_count": 126,
   "id": "87f66a68-3a3d-471a-8e68-430e2fe9edee",
   "metadata": {},
   "outputs": [],
   "source": [
    "nums = [1, 2, 3, 4, 5]\n",
    "even = list(filter(lambda x: x%2==0 , nums))\n",
    "o = reduce(lambda x,y: x*y , even)"
   ]
  },
  {
   "cell_type": "code",
   "execution_count": 128,
   "id": "5f82358b-29f4-45f3-877e-ecfda45c14d6",
   "metadata": {},
   "outputs": [
    {
     "data": {
      "text/plain": [
       "8"
      ]
     },
     "execution_count": 128,
     "metadata": {},
     "output_type": "execute_result"
    }
   ],
   "source": [
    "o"
   ]
  },
  {
   "cell_type": "markdown",
   "id": "579ed8e4-c9f0-4c75-87fe-b210df903904",
   "metadata": {},
   "source": [
    "3. Find the longest word\n",
    "\n",
    "words = ['apple', 'banana', 'kiwi']\n",
    "\n",
    "Output: 'banana'"
   ]
  },
  {
   "cell_type": "code",
   "execution_count": 140,
   "id": "1b95476d-b7c0-44f8-a554-5287714f2c38",
   "metadata": {},
   "outputs": [],
   "source": [
    "words = ['apple', 'banana', 'kiwi']\n",
    "l = reduce(lambda x, y: x if len(x)>=len(y) else y, words)"
   ]
  },
  {
   "cell_type": "code",
   "execution_count": 142,
   "id": "2968cd02-4e45-4802-8280-33728c2553b0",
   "metadata": {},
   "outputs": [
    {
     "data": {
      "text/plain": [
       "'banana'"
      ]
     },
     "execution_count": 142,
     "metadata": {},
     "output_type": "execute_result"
    }
   ],
   "source": [
    "l"
   ]
  },
  {
   "cell_type": "markdown",
   "id": "d3d7490a-c80e-41a3-b6f9-05714238b7ef",
   "metadata": {},
   "source": [
    "4. Join list of strings into one sentence\n",
    "\n",
    "words = ['Python', 'is', 'fun']\n",
    "\n",
    "Output: 'Python is fun'"
   ]
  },
  {
   "cell_type": "code",
   "execution_count": 145,
   "id": "059fbb9b-4790-499b-8419-6a045d10d65d",
   "metadata": {},
   "outputs": [],
   "source": [
    "words = ['Python', 'is', 'fun']\n",
    "l = reduce(lambda x,y: x+\" \"+y, words)"
   ]
  },
  {
   "cell_type": "code",
   "execution_count": 147,
   "id": "d99fae48-e2aa-4482-9fdf-ca584d05c3ff",
   "metadata": {},
   "outputs": [
    {
     "data": {
      "text/plain": [
       "'Python is fun'"
      ]
     },
     "execution_count": 147,
     "metadata": {},
     "output_type": "execute_result"
    }
   ],
   "source": [
    "l"
   ]
  },
  {
   "cell_type": "markdown",
   "id": "93acc78d-2e59-4fc2-8f29-3af1794d9180",
   "metadata": {},
   "source": [
    "5. Create number from digits\n",
    "\n",
    "digits = [1, 2, 3, 4]\n",
    "\n",
    "Output: 1234"
   ]
  },
  {
   "cell_type": "code",
   "execution_count": null,
   "id": "3ae7550c-7fbc-41e3-ac7f-49fe3725a3c0",
   "metadata": {},
   "outputs": [],
   "source": [
    "digits = [1, 2, 3, 4]\n",
    "digit = reduce(lambda"
   ]
  }
 ],
 "metadata": {
  "kernelspec": {
   "display_name": "Python 3 (ipykernel)",
   "language": "python",
   "name": "python3"
  },
  "language_info": {
   "codemirror_mode": {
    "name": "ipython",
    "version": 3
   },
   "file_extension": ".py",
   "mimetype": "text/x-python",
   "name": "python",
   "nbconvert_exporter": "python",
   "pygments_lexer": "ipython3",
   "version": "3.12.2"
  }
 },
 "nbformat": 4,
 "nbformat_minor": 5
}
