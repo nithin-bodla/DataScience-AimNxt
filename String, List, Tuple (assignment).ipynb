{
 "cells": [
  {
   "cell_type": "markdown",
   "id": "5f398fe5-eb56-4895-a4cc-d245188196d5",
   "metadata": {},
   "source": [
    "1. Create a string variable and print its length."
   ]
  },
  {
   "cell_type": "code",
   "execution_count": 3,
   "id": "8b29d052-43fa-4599-91f1-b959872227eb",
   "metadata": {},
   "outputs": [
    {
     "name": "stdout",
     "output_type": "stream",
     "text": [
      "6\n"
     ]
    }
   ],
   "source": [
    "str = \"nithin\"\n",
    "l = len(str)\n",
    "print(l)"
   ]
  },
  {
   "cell_type": "markdown",
   "id": "7122bea6-d978-4824-b3d7-0dea50d91954",
   "metadata": {},
   "source": [
    "2. Take a string input from the user and print it in reverse."
   ]
  },
  {
   "cell_type": "code",
   "execution_count": 8,
   "id": "fa3a0fda-fe78-4a74-a0b3-e234b1c2f7ad",
   "metadata": {},
   "outputs": [
    {
     "name": "stdin",
     "output_type": "stream",
     "text": [
      "Enter a String:  nitin\n"
     ]
    },
    {
     "name": "stdout",
     "output_type": "stream",
     "text": [
      "Reversed String:  nitin\n"
     ]
    }
   ],
   "source": [
    "user = input(\"Enter a String: \")\n",
    "print(\"Reversed String: \", user[::-1])"
   ]
  },
  {
   "cell_type": "markdown",
   "id": "00d5f703-a01c-48b2-8b1c-de02d9fc4aee",
   "metadata": {},
   "source": [
    "3. Replace all occurrences of \"a\" with \"@\" in a given string."
   ]
  },
  {
   "cell_type": "code",
   "execution_count": 11,
   "id": "730b0683-39bb-4a1f-88f3-bc3d5993f097",
   "metadata": {},
   "outputs": [
    {
     "data": {
      "text/plain": [
       "'This is @lph@@ m@n'"
      ]
     },
     "execution_count": 11,
     "metadata": {},
     "output_type": "execute_result"
    }
   ],
   "source": [
    "a = \"This is alphaa man\"\n",
    "a.replace('a', '@')"
   ]
  },
  {
   "cell_type": "markdown",
   "id": "dabf06fa-55fd-46ba-a8b6-787cd33cac62",
   "metadata": {},
   "source": [
    "4. Convert a string to all uppercase letters using a loop (without .upper())."
   ]
  },
  {
   "cell_type": "code",
   "execution_count": 14,
   "id": "8362672d-dcbc-49ab-bc11-43906122c318",
   "metadata": {},
   "outputs": [
    {
     "name": "stdin",
     "output_type": "stream",
     "text": [
      "Enter a String:  Data Science course in Aimnxt\n"
     ]
    },
    {
     "name": "stdout",
     "output_type": "stream",
     "text": [
      "DATA SCIENCE COURSE IN AIMNXT\n"
     ]
    }
   ],
   "source": [
    "user = input(\"Enter a String: \")\n",
    "uppercase = \"\"\n",
    "\n",
    "for char in user:\n",
    "    if 'a'<= char <='z':\n",
    "        uppercase += chr(ord(char) - 32)\n",
    "    else:\n",
    "        uppercase += char\n",
    "print(uppercase)"
   ]
  },
  {
   "cell_type": "markdown",
   "id": "54105f1b-19dc-4d2d-a28e-394c2e509d33",
   "metadata": {},
   "source": [
    "5. Count how many times the letter \"e\" appears in a string."
   ]
  },
  {
   "cell_type": "code",
   "execution_count": 17,
   "id": "2378c333-b899-4823-9137-fbc08e523663",
   "metadata": {},
   "outputs": [
    {
     "data": {
      "text/plain": [
       "3"
      ]
     },
     "execution_count": 17,
     "metadata": {},
     "output_type": "execute_result"
    }
   ],
   "source": [
    "user.count('e')"
   ]
  },
  {
   "cell_type": "markdown",
   "id": "7ce65b38-4e4f-4251-ab09-58359e21947a",
   "metadata": {},
   "source": [
    "6. Print the first and last character of a given string.\r\n"
   ]
  },
  {
   "cell_type": "markdown",
   "id": "532ef760-96a7-412e-bb96-1fc6bd813c7b",
   "metadata": {},
   "source": [
    "ss = \"DataScience\"\n",
    "firstchar = ss[0]\n",
    "lastchar = ss[-1]\n",
    "print(\"firstcharacter: \", firstchar)\n",
    "print(\"LastCharacter: \", lastchar)"
   ]
  },
  {
   "cell_type": "markdown",
   "id": "035e9fe8-6e37-4257-89d9-ab9007b1808c",
   "metadata": {},
   "source": [
    "7. Concatenate two strings and print the result."
   ]
  },
  {
   "cell_type": "code",
   "execution_count": 25,
   "id": "d950e6b8-3b76-4de7-8864-4010e3faf5cb",
   "metadata": {},
   "outputs": [
    {
     "name": "stdout",
     "output_type": "stream",
     "text": [
      "AimNxt\n"
     ]
    }
   ],
   "source": [
    "str1= 'Aim'\n",
    "str2= 'Nxt'\n",
    "print(str1+str2)"
   ]
  },
  {
   "cell_type": "markdown",
   "id": "bb4b570f-1f94-4691-ae97-42805c6f6555",
   "metadata": {},
   "source": [
    "8. Check if a given string contains the word \"Python\"."
   ]
  },
  {
   "cell_type": "code",
   "execution_count": 30,
   "id": "70228aa2-7311-4e5a-91ae-6215d0178a60",
   "metadata": {},
   "outputs": [
    {
     "name": "stdout",
     "output_type": "stream",
     "text": [
      "string contains Python\n"
     ]
    }
   ],
   "source": [
    "str = \"Python is versatile\"\n",
    "if \"Python\" in str:\n",
    "    print(\"string contains Python\")\n",
    "else:\n",
    "    print(\"Python is not their in the string\")"
   ]
  },
  {
   "cell_type": "markdown",
   "id": "64d2e153-8c30-4de9-bf4a-c69eac0b8712",
   "metadata": {},
   "source": [
    "9. Remove all spaces from a string and print the new string."
   ]
  },
  {
   "cell_type": "code",
   "execution_count": 33,
   "id": "4ea52bc1-62bd-4888-92a9-fd3c05dfc11d",
   "metadata": {},
   "outputs": [
    {
     "data": {
      "text/plain": [
       "'Pythonisversatile'"
      ]
     },
     "execution_count": 33,
     "metadata": {},
     "output_type": "execute_result"
    }
   ],
   "source": [
    "str.replace(\" \",\"\")"
   ]
  },
  {
   "cell_type": "markdown",
   "id": "16966569-ee9e-41e0-bd4a-20f3fb051975",
   "metadata": {},
   "source": [
    "10. Extract and print the first five characters of a string.\r\n"
   ]
  },
  {
   "cell_type": "code",
   "execution_count": 38,
   "id": "3e940b55-ef3a-4842-b6c9-cce77ba4a0c3",
   "metadata": {},
   "outputs": [
    {
     "data": {
      "text/plain": [
       "'Pnvt'"
      ]
     },
     "execution_count": 38,
     "metadata": {},
     "output_type": "execute_result"
    }
   ],
   "source": [
    "str[::5]"
   ]
  },
  {
   "cell_type": "markdown",
   "id": "edde5f41-069c-4654-a9fd-f396e806b98f",
   "metadata": {},
   "source": [
    "11. Create a list of five numbers and print the list."
   ]
  },
  {
   "cell_type": "code",
   "execution_count": 42,
   "id": "68205e3f-3b37-43be-8a2d-97a521db8dd6",
   "metadata": {},
   "outputs": [
    {
     "data": {
      "text/plain": [
       "[1, 2, 3, 4, 5]"
      ]
     },
     "execution_count": 42,
     "metadata": {},
     "output_type": "execute_result"
    }
   ],
   "source": [
    "l = [1,2,3,4,5]\n",
    "l[0:5]"
   ]
  },
  {
   "cell_type": "markdown",
   "id": "da1b4f43-96ee-49ac-af58-9086de1793b9",
   "metadata": {},
   "source": [
    "12. Print the third element of a given list.\n"
   ]
  },
  {
   "cell_type": "code",
   "execution_count": 48,
   "id": "3045fa0a-4cb8-4288-97f2-3c8d14523b78",
   "metadata": {},
   "outputs": [
    {
     "data": {
      "text/plain": [
       "3"
      ]
     },
     "execution_count": 48,
     "metadata": {},
     "output_type": "execute_result"
    }
   ],
   "source": [
    "l[2]"
   ]
  },
  {
   "cell_type": "markdown",
   "id": "66ff7af7-3058-4fb5-9606-dbfed4263911",
   "metadata": {},
   "source": [
    "13. Replace the second element of a list with \"hello\".\r\n"
   ]
  },
  {
   "cell_type": "code",
   "execution_count": 56,
   "id": "1082acc9-2909-4f4a-a398-f1ff94e7ed76",
   "metadata": {},
   "outputs": [
    {
     "data": {
      "text/plain": [
       "[1, 'hello', 3, 4, 5]"
      ]
     },
     "execution_count": 56,
     "metadata": {},
     "output_type": "execute_result"
    }
   ],
   "source": [
    "l[1] = \"hello\"\n",
    "l"
   ]
  },
  {
   "cell_type": "markdown",
   "id": "02475d84-56c8-490f-8733-9c99fee007ce",
   "metadata": {},
   "source": [
    "14. Add a new element to the end of a list.\r\n"
   ]
  },
  {
   "cell_type": "code",
   "execution_count": 61,
   "id": "060909b2-eb5a-468f-884e-88069a2de28e",
   "metadata": {},
   "outputs": [
    {
     "data": {
      "text/plain": [
       "[1, 'hello', 3, 4, 5, 6, 6]"
      ]
     },
     "execution_count": 61,
     "metadata": {},
     "output_type": "execute_result"
    }
   ],
   "source": [
    "l.append(6)\n",
    "l"
   ]
  },
  {
   "cell_type": "markdown",
   "id": "34490d50-2aac-4095-b89d-5bbf1db85573",
   "metadata": {},
   "source": [
    "15. Remove the last element from a list and print the modified list."
   ]
  },
  {
   "cell_type": "code",
   "execution_count": 64,
   "id": "d2bcc7ff-6efa-468b-937e-31836e8c42ae",
   "metadata": {},
   "outputs": [
    {
     "data": {
      "text/plain": [
       "[1, 'hello', 3, 4, 5, 6]"
      ]
     },
     "execution_count": 64,
     "metadata": {},
     "output_type": "execute_result"
    }
   ],
   "source": [
    "l.pop()\n",
    "l"
   ]
  },
  {
   "cell_type": "markdown",
   "id": "6b36c6b2-c57c-4026-9408-a445478fb888",
   "metadata": {},
   "source": [
    "16. Print each element of a list one by one using a loop."
   ]
  },
  {
   "cell_type": "code",
   "execution_count": 71,
   "id": "2d8c0b6d-c456-4c3f-b581-1c759667e844",
   "metadata": {},
   "outputs": [
    {
     "name": "stdout",
     "output_type": "stream",
     "text": [
      "1\n",
      "hello\n",
      "3\n",
      "4\n",
      "5\n",
      "6\n"
     ]
    }
   ],
   "source": [
    "for i in l:\n",
    "    print(i)"
   ]
  },
  {
   "cell_type": "markdown",
   "id": "b09cac0b-3f22-436b-b243-e87add84ffe6",
   "metadata": {},
   "source": [
    "17. Check if the number 10 is in a given list."
   ]
  },
  {
   "cell_type": "code",
   "execution_count": 76,
   "id": "c370bc54-fd07-4f4b-8dc1-992ae746f9ed",
   "metadata": {},
   "outputs": [
    {
     "name": "stdout",
     "output_type": "stream",
     "text": [
      "10 is not in the list\n"
     ]
    }
   ],
   "source": [
    "if (i==10):\n",
    "    print(\"10 is in the list\")\n",
    "else:\n",
    "    print(\"10 is not in the list\")"
   ]
  },
  {
   "cell_type": "markdown",
   "id": "1642a29b-018e-4321-a13f-a8f32f857b72",
   "metadata": {},
   "source": [
    "18. Create two lists and join them into one."
   ]
  },
  {
   "cell_type": "code",
   "execution_count": 87,
   "id": "22751776-2e0d-46b6-92df-93ff8cb1d8ad",
   "metadata": {},
   "outputs": [
    {
     "name": "stdout",
     "output_type": "stream",
     "text": [
      "[[1, 'hello', 3, 4, 5, 6, [10, 20, 30, 40, 50], [10, 20, 30, 40, 50], [10, 20, 30, 40, 50]], [10, 20, 30, 40, 50]]\n"
     ]
    }
   ],
   "source": [
    "l1 = [10,20,30,40,50]\n",
    "ss=[l,l1]\n",
    "print(ss)"
   ]
  },
  {
   "cell_type": "markdown",
   "id": "d13cfdc7-85b8-4fce-aefe-ff4a6b63b93e",
   "metadata": {},
   "source": [
    "19. Print a list in reverse order without using slicing ([::-1])."
   ]
  },
  {
   "cell_type": "code",
   "execution_count": 112,
   "id": "ee2fa4b1-0b9e-4175-8c1f-f5955edb4fa2",
   "metadata": {},
   "outputs": [
    {
     "data": {
      "text/plain": [
       "[50, 40, 30, 20, 10]"
      ]
     },
     "execution_count": 112,
     "metadata": {},
     "output_type": "execute_result"
    }
   ],
   "source": [
    "l1.reverse()\n",
    "l1"
   ]
  },
  {
   "cell_type": "markdown",
   "id": "dd76ccac-9650-4ed5-b207-67595edf6de8",
   "metadata": {},
   "source": [
    "20. Sort a list in ascending order without using .sort()."
   ]
  },
  {
   "cell_type": "code",
   "execution_count": null,
   "id": "51dc87a1-8bf6-4eb6-b61e-f333d9e744f2",
   "metadata": {},
   "outputs": [],
   "source": []
  },
  {
   "cell_type": "markdown",
   "id": "f21eedd2-1b88-4472-8ef5-4701ca2fee01",
   "metadata": {},
   "source": [
    "21. Create a tuple of three colors and print it."
   ]
  },
  {
   "cell_type": "code",
   "execution_count": 116,
   "id": "74dda821-e8df-453c-8eb5-ff0d41134228",
   "metadata": {},
   "outputs": [
    {
     "data": {
      "text/plain": [
       "('blue', 'red', 'green')"
      ]
     },
     "execution_count": 116,
     "metadata": {},
     "output_type": "execute_result"
    }
   ],
   "source": [
    "colors= ('blue', 'red', 'green')\n",
    "colors"
   ]
  },
  {
   "cell_type": "markdown",
   "id": "be421cf2-7969-4b28-aebc-2ed86bb8abc8",
   "metadata": {},
   "source": [
    "22. Print the second element of a given tuple."
   ]
  },
  {
   "cell_type": "code",
   "execution_count": 119,
   "id": "8a48807a-a45e-4f19-b392-23946a674674",
   "metadata": {},
   "outputs": [
    {
     "data": {
      "text/plain": [
       "'red'"
      ]
     },
     "execution_count": 119,
     "metadata": {},
     "output_type": "execute_result"
    }
   ],
   "source": [
    "colors[1]"
   ]
  },
  {
   "cell_type": "markdown",
   "id": "5953a6e6-d3a9-4d6c-a4ed-9471b9941aec",
   "metadata": {},
   "source": [
    "23. Try changing an element in a tuple (observe the error)."
   ]
  },
  {
   "cell_type": "code",
   "execution_count": 122,
   "id": "16554993-d73d-40be-8634-af7b7f734a26",
   "metadata": {},
   "outputs": [
    {
     "ename": "TypeError",
     "evalue": "'tuple' object does not support item assignment",
     "output_type": "error",
     "traceback": [
      "\u001b[0;31m---------------------------------------------------------------------------\u001b[0m",
      "\u001b[0;31mTypeError\u001b[0m                                 Traceback (most recent call last)",
      "Cell \u001b[0;32mIn[122], line 1\u001b[0m\n\u001b[0;32m----> 1\u001b[0m colors[\u001b[38;5;241m2\u001b[39m] \u001b[38;5;241m=\u001b[39m \u001b[38;5;124m'\u001b[39m\u001b[38;5;124myellow\u001b[39m\u001b[38;5;124m'\u001b[39m\n",
      "\u001b[0;31mTypeError\u001b[0m: 'tuple' object does not support item assignment"
     ]
    }
   ],
   "source": [
    "colors[2] = 'yellow'"
   ]
  },
  {
   "cell_type": "markdown",
   "id": "27031183-d7cb-4c9d-b5d3-c046a76c2e89",
   "metadata": {},
   "source": [
    "24. Convert a tuple to a list and print it."
   ]
  },
  {
   "cell_type": "code",
   "execution_count": 127,
   "id": "cb61b2dc-a7e8-4483-a2ee-cb71b99adc3f",
   "metadata": {},
   "outputs": [
    {
     "data": {
      "text/plain": [
       "list"
      ]
     },
     "execution_count": 127,
     "metadata": {},
     "output_type": "execute_result"
    }
   ],
   "source": [
    "convert = list(colors)\n",
    "type(convert)"
   ]
  },
  {
   "cell_type": "markdown",
   "id": "c0c7bf8d-55cb-4ebc-9698-c38f229dbb73",
   "metadata": {},
   "source": [
    "25. Check if \"blue\" exists in a given tuple.\r\n"
   ]
  },
  {
   "cell_type": "code",
   "execution_count": 134,
   "id": "e16bb057-4ef5-4222-a350-c017897424cb",
   "metadata": {},
   "outputs": [
    {
     "name": "stdout",
     "output_type": "stream",
     "text": [
      "Present in tuple\n"
     ]
    }
   ],
   "source": [
    "if \"blue\" in colors:\n",
    "    print(\"Present in tuple\")\n",
    "else:\n",
    "    print(\"Not\")"
   ]
  },
  {
   "cell_type": "markdown",
   "id": "b3708b92-d42c-4bba-b7f3-e364a44dadef",
   "metadata": {},
   "source": [
    "26. Print each element of a tuple using a loop."
   ]
  },
  {
   "cell_type": "code",
   "execution_count": 137,
   "id": "5d23035d-bad1-48cf-aa94-cda664797cf7",
   "metadata": {},
   "outputs": [
    {
     "name": "stdout",
     "output_type": "stream",
     "text": [
      "blue\n",
      "red\n",
      "green\n"
     ]
    }
   ],
   "source": [
    "for i in colors:\n",
    "    print(i)"
   ]
  },
  {
   "cell_type": "markdown",
   "id": "169641dc-95b4-425b-a8be-ac17f6d1db65",
   "metadata": {},
   "source": [
    "27. Merge two tuples and print the result.\n"
   ]
  },
  {
   "cell_type": "code",
   "execution_count": 140,
   "id": "fb193c76-f283-4496-9bdf-db66b78e2373",
   "metadata": {},
   "outputs": [
    {
     "data": {
      "text/plain": [
       "(('blue', 'red', 'green'), ('pink', 'orange'))"
      ]
     },
     "execution_count": 140,
     "metadata": {},
     "output_type": "execute_result"
    }
   ],
   "source": [
    "color  = ('pink' , 'orange')\n",
    "two = (colors, color)\n",
    "two"
   ]
  },
  {
   "cell_type": "markdown",
   "id": "efd07cb9-c58e-47fe-8bc5-4536715c054d",
   "metadata": {},
   "source": [
    "28. Print a tuple in reverse order."
   ]
  },
  {
   "cell_type": "code",
   "execution_count": 147,
   "id": "b715c835-0f0e-4dd7-9a06-fe040bcf4ec6",
   "metadata": {},
   "outputs": [
    {
     "data": {
      "text/plain": [
       "('green', 'red', 'blue')"
      ]
     },
     "execution_count": 147,
     "metadata": {},
     "output_type": "execute_result"
    }
   ],
   "source": [
    "colors[::-1]"
   ]
  },
  {
   "cell_type": "markdown",
   "id": "b8753813-5972-4fa4-959a-c54d0d378393",
   "metadata": {},
   "source": [
    "29. Find the length of a tuple without using len()."
   ]
  },
  {
   "cell_type": "code",
   "execution_count": 150,
   "id": "f11b84d6-c468-42b1-a310-44e2d4ece27a",
   "metadata": {},
   "outputs": [
    {
     "data": {
      "text/plain": [
       "3"
      ]
     },
     "execution_count": 150,
     "metadata": {},
     "output_type": "execute_result"
    }
   ],
   "source": [
    "len(colors)"
   ]
  },
  {
   "cell_type": "markdown",
   "id": "49654c9f-9528-4cf0-842d-c70b02a44af9",
   "metadata": {},
   "source": [
    "30. Create a tuple with a single element and print its type."
   ]
  },
  {
   "cell_type": "code",
   "execution_count": 155,
   "id": "b304babd-a56d-4f9f-9df2-645a12c57338",
   "metadata": {},
   "outputs": [
    {
     "data": {
      "text/plain": [
       "int"
      ]
     },
     "execution_count": 155,
     "metadata": {},
     "output_type": "execute_result"
    }
   ],
   "source": [
    "t = (1)\n",
    "type(t)"
   ]
  },
  {
   "cell_type": "markdown",
   "id": "dbb74cd7-672a-4b7d-baed-067b8251c4b0",
   "metadata": {},
   "source": [
    "31. Create a string \"Hello, World!\" and print only \"World!\"."
   ]
  },
  {
   "cell_type": "code",
   "execution_count": 162,
   "id": "b9968446-032b-4b0f-b2df-52c4b29588d1",
   "metadata": {},
   "outputs": [
    {
     "data": {
      "text/plain": [
       "'World!'"
      ]
     },
     "execution_count": 162,
     "metadata": {},
     "output_type": "execute_result"
    }
   ],
   "source": [
    "str = \"Hello, World!\"\n",
    "str[7:]"
   ]
  },
  {
   "cell_type": "markdown",
   "id": "a2670355-7f4c-4dab-9d29-0da4b8ec0c0b",
   "metadata": {},
   "source": [
    "32. Convert \"Python is fun\" to \"PYTHON IS FUN\" without using .upper()."
   ]
  },
  {
   "cell_type": "code",
   "execution_count": 169,
   "id": "abfece44-ba3f-4feb-9749-8a819637794d",
   "metadata": {},
   "outputs": [
    {
     "name": "stdout",
     "output_type": "stream",
     "text": [
      "PYTHON IS FUN\n"
     ]
    }
   ],
   "source": [
    "str = \"Python is fun\"\n",
    "upper=\"\"\n",
    "for i in str:\n",
    "    if 'a'<=i<='z':\n",
    "        upper+=chr(ord(i)-32)\n",
    "    else:\n",
    "        upper+=i\n",
    "print(upper)\n",
    "    "
   ]
  },
  {
   "cell_type": "markdown",
   "id": "f87d6c9c-e7ee-4ecc-8edf-5aa78c9fcf9b",
   "metadata": {},
   "source": [
    "33. Count how many words are in \"I love learning Python\" (without using .split())."
   ]
  },
  {
   "cell_type": "code",
   "execution_count": 185,
   "id": "30238b23-50b7-457f-b0fc-3e944e980fce",
   "metadata": {},
   "outputs": [
    {
     "name": "stdout",
     "output_type": "stream",
     "text": [
      "4\n"
     ]
    }
   ],
   "source": [
    "mystring = \"I Love Learning Python\"\n",
    "wordcount = 1\n",
    "for i in mystring :\n",
    "    if i == \" \":\n",
    "        wordcount+=1\n",
    "print(wordcount)"
   ]
  },
  {
   "cell_type": "markdown",
   "id": "11c46dbe-5888-4637-8109-e7395bd50e69",
   "metadata": {},
   "source": [
    "34. Take a string input from the user and check if it starts with \"Hello\"."
   ]
  },
  {
   "cell_type": "code",
   "execution_count": 175,
   "id": "636b885d-5283-4f70-b7b1-29e841a1fb90",
   "metadata": {},
   "outputs": [
    {
     "data": {
      "text/plain": [
       "True"
      ]
     },
     "execution_count": 175,
     "metadata": {},
     "output_type": "execute_result"
    }
   ],
   "source": [
    "str = \"Hello, World!\"\n",
    "str.startswith(\"Hello\")"
   ]
  },
  {
   "cell_type": "markdown",
   "id": "9d057f4b-8ef6-4cfe-bebb-708c6cec7dc3",
   "metadata": {},
   "source": [
    "35. Print every second character of a string."
   ]
  },
  {
   "cell_type": "code",
   "execution_count": 180,
   "id": "f0b5c45b-9cba-4bbe-9d38-34fed39ca994",
   "metadata": {},
   "outputs": [
    {
     "data": {
      "text/plain": [
       "'el,Wrd'"
      ]
     },
     "execution_count": 180,
     "metadata": {},
     "output_type": "execute_result"
    }
   ],
   "source": [
    "str[1::2]"
   ]
  },
  {
   "cell_type": "markdown",
   "id": "f3cb238f-04a0-432f-b780-fa147aeafc6c",
   "metadata": {},
   "source": [
    "36. Replace all vowels in a string with \"*\"."
   ]
  },
  {
   "cell_type": "code",
   "execution_count": 183,
   "id": "d0208957-9a52-42b5-a7f0-88d56cc9eff0",
   "metadata": {},
   "outputs": [
    {
     "name": "stdout",
     "output_type": "stream",
     "text": [
      "H*ll*, W*rld!\n"
     ]
    }
   ],
   "source": [
    "str = \"Hello, World!\"\n",
    "vowels = \"aeiouAEIOU\"\n",
    "modified=\"\"\n",
    "for char in str:\n",
    "    if char in vowels:\n",
    "        modified+='*'\n",
    "    else:\n",
    "        modified+=char\n",
    "print(modified)"
   ]
  },
  {
   "cell_type": "markdown",
   "id": "19550039-3670-406f-a952-d73f5a242644",
   "metadata": {},
   "source": [
    "37. Swap the first and last character of a string."
   ]
  },
  {
   "cell_type": "code",
   "execution_count": 192,
   "id": "12f0b25e-78f5-4f1b-94ff-990f7b9abb47",
   "metadata": {},
   "outputs": [
    {
     "name": "stdout",
     "output_type": "stream",
     "text": [
      "false\n"
     ]
    }
   ],
   "source": [
    "if s == swapping:\n",
    "    print(\"true\")\n",
    "else:\n",
    "    print(\"false\")"
   ]
  },
  {
   "cell_type": "markdown",
   "id": "c76f5a18-8b32-44ee-bec0-84cfea7c36c5",
   "metadata": {},
   "source": [
    "38. Check if two given strings are the same (case-sensitive)."
   ]
  },
  {
   "cell_type": "code",
   "execution_count": 188,
   "id": "4dc0fe85-99b5-4b58-9a8e-476e39b036eb",
   "metadata": {},
   "outputs": [
    {
     "data": {
      "text/plain": [
       "'nythop'"
      ]
     },
     "execution_count": 188,
     "metadata": {},
     "output_type": "execute_result"
    }
   ],
   "source": [
    "s = \"python\"\n",
    "swapping = s[-1] + s[1:-1] + s[0]\n",
    "swapping"
   ]
  },
  {
   "cell_type": "markdown",
   "id": "847a263e-ca65-48cb-998e-15da457dc55d",
   "metadata": {},
   "source": [
    "39. Print a string without the first and last character."
   ]
  },
  {
   "cell_type": "code",
   "execution_count": 200,
   "id": "e723b723-5a91-4c1f-a972-d19dc41ee9e9",
   "metadata": {},
   "outputs": [
    {
     "name": "stdout",
     "output_type": "stream",
     "text": [
      "python\n",
      "nythop\n",
      "ytho\n"
     ]
    }
   ],
   "source": [
    "print(s)\n",
    "print(swapping)\n",
    "wfl = s[1:-1]\n",
    "print(wfl)"
   ]
  },
  {
   "cell_type": "markdown",
   "id": "47ba632b-9002-4fc5-81d3-f162d69ace5f",
   "metadata": {},
   "source": [
    "40. Convert a string \"12345\" into a list of individual characters.\r\n"
   ]
  },
  {
   "cell_type": "code",
   "execution_count": 208,
   "id": "7e33a97d-142d-4ae2-8ac7-46c3749ebc0c",
   "metadata": {},
   "outputs": [
    {
     "data": {
      "text/plain": [
       "['1', '2', '3', '4', '5']"
      ]
     },
     "execution_count": 208,
     "metadata": {},
     "output_type": "execute_result"
    }
   ],
   "source": [
    "str=\"12345\"\n",
    "l = list(str)\n",
    "l"
   ]
  },
  {
   "cell_type": "markdown",
   "id": "d24adc9c-4c75-4ca6-952b-5705db3f1001",
   "metadata": {},
   "source": [
    "41. Create a list of five cities and print only the last three."
   ]
  },
  {
   "cell_type": "code",
   "execution_count": 217,
   "id": "3648fffa-ab25-49a1-8d1e-58e00c004312",
   "metadata": {},
   "outputs": [
    {
     "data": {
      "text/plain": [
       "['Mumbai', 'banglore', 'pune']"
      ]
     },
     "execution_count": 217,
     "metadata": {},
     "output_type": "execute_result"
    }
   ],
   "source": [
    "cities = ['Hyderabad', 'Karimnagar', 'Mumbai', 'banglore', 'pune']\n",
    "cities[-3:]"
   ]
  },
  {
   "cell_type": "markdown",
   "id": "95fc6b85-9ad8-409f-94b5-7a434a8b091b",
   "metadata": {},
   "source": [
    "42. Remove the middle element from a list of five elements.\r\n"
   ]
  },
  {
   "cell_type": "code",
   "execution_count": 222,
   "id": "62abefe1-a2b1-4bae-9d24-f3d7ec3c75e7",
   "metadata": {},
   "outputs": [
    {
     "ename": "ValueError",
     "evalue": "list.remove(x): x not in list",
     "output_type": "error",
     "traceback": [
      "\u001b[0;31m---------------------------------------------------------------------------\u001b[0m",
      "\u001b[0;31mValueError\u001b[0m                                Traceback (most recent call last)",
      "Cell \u001b[0;32mIn[222], line 1\u001b[0m\n\u001b[0;32m----> 1\u001b[0m cities\u001b[38;5;241m.\u001b[39mremove(\u001b[38;5;124m'\u001b[39m\u001b[38;5;124mMumbai\u001b[39m\u001b[38;5;124m'\u001b[39m)\n\u001b[1;32m      2\u001b[0m cities\n",
      "\u001b[0;31mValueError\u001b[0m: list.remove(x): x not in list"
     ]
    }
   ],
   "source": [
    "cities.remove('Mumbai')"
   ]
  },
  {
   "cell_type": "code",
   "execution_count": 224,
   "id": "c6d78f3c-343a-4213-80a2-a1a1fb79c415",
   "metadata": {},
   "outputs": [
    {
     "name": "stdout",
     "output_type": "stream",
     "text": [
      "['Hyderabad', 'Karimnagar', 'banglore', 'pune']\n"
     ]
    }
   ],
   "source": [
    "print(cities)"
   ]
  },
  {
   "cell_type": "markdown",
   "id": "6792544d-4eee-4d06-903d-02b4e5424637",
   "metadata": {},
   "source": [
    "43. Take five numbers from the user and store them in a list."
   ]
  },
  {
   "cell_type": "code",
   "execution_count": 229,
   "id": "6ea355a6-5850-4bf3-b5c4-541f1823ea48",
   "metadata": {},
   "outputs": [
    {
     "name": "stdin",
     "output_type": "stream",
     "text": [
      " 1\n",
      " 2\n",
      " 3\n",
      " 4\n",
      " 5\n"
     ]
    },
    {
     "name": "stdout",
     "output_type": "stream",
     "text": [
      "[1.0, 2.0, 3.0, 4.0, 5.0]\n"
     ]
    }
   ],
   "source": [
    "num=[]\n",
    "for i in range(5):\n",
    "    user=float(input())\n",
    "    num.append(user)\n",
    "print(num)"
   ]
  },
  {
   "cell_type": "markdown",
   "id": "d3479ba4-6c15-4e28-b030-61734c9ed3f4",
   "metadata": {},
   "source": [
    "44. Find the index of \"apple\" in the list [\"banana\", \"orange\", \"apple\", \"grape\"]."
   ]
  },
  {
   "cell_type": "code",
   "execution_count": 232,
   "id": "bd6243e7-4d21-43e1-b431-05116a339833",
   "metadata": {},
   "outputs": [
    {
     "data": {
      "text/plain": [
       "2"
      ]
     },
     "execution_count": 232,
     "metadata": {},
     "output_type": "execute_result"
    }
   ],
   "source": [
    "l = [\"banana\", \"orange\", \"apple\", \"grape\"]\n",
    "l.index(\"apple\")"
   ]
  },
  {
   "cell_type": "markdown",
   "id": "f744b00e-7220-4c4b-976a-706cce8a1277",
   "metadata": {},
   "source": [
    "45. Print only the even numbers from a given list."
   ]
  },
  {
   "cell_type": "code",
   "execution_count": 237,
   "id": "1c119e13-c302-47db-a7ea-188a1deef483",
   "metadata": {},
   "outputs": [
    {
     "name": "stdout",
     "output_type": "stream",
     "text": [
      "2\n",
      "4\n",
      "6\n"
     ]
    }
   ],
   "source": [
    "l = [1,2,3,4,5,6]\n",
    "for i in l:\n",
    "    if i%2==0:\n",
    "        print(i)"
   ]
  },
  {
   "cell_type": "markdown",
   "id": "3259e494-f989-42d3-b5df-0c9359549033",
   "metadata": {},
   "source": [
    "46. Reverse a list by swapping elements (without [::-1])."
   ]
  },
  {
   "cell_type": "code",
   "execution_count": null,
   "id": "79d9aca9-51ad-4cac-8339-9d0131781971",
   "metadata": {},
   "outputs": [],
   "source": []
  },
  {
   "cell_type": "markdown",
   "id": "d89ca297-2d4f-4d8d-bca1-f411e6b08f1f",
   "metadata": {},
   "source": [
    "47. Create a list of ten numbers and print only the unique elements.\r\n"
   ]
  },
  {
   "cell_type": "code",
   "execution_count": 244,
   "id": "b521ee56-a783-49b8-8804-8c1bf4f2a799",
   "metadata": {},
   "outputs": [
    {
     "data": {
      "text/plain": [
       "{1, 2, 3, 4, 5, 6}"
      ]
     },
     "execution_count": 244,
     "metadata": {},
     "output_type": "execute_result"
    }
   ],
   "source": [
    "l = [1,2,2,3,3,4,4,5,5,6,6]\n",
    "s =set(l)\n",
    "s"
   ]
  },
  {
   "cell_type": "markdown",
   "id": "6322c3b3-4532-4388-8919-1acec4302134",
   "metadata": {},
   "source": [
    "48. Print the sum of all elements in a list (without using sum())."
   ]
  },
  {
   "cell_type": "code",
   "execution_count": 247,
   "id": "47e98536-33e1-4909-98e2-4bb8fc080193",
   "metadata": {},
   "outputs": [
    {
     "name": "stdout",
     "output_type": "stream",
     "text": [
      "[1, 2, 2, 3, 3, 4, 4, 5, 5, 6, 6]\n",
      "41\n"
     ]
    }
   ],
   "source": [
    "print(l)\n",
    "sum=0\n",
    "for i in l:\n",
    "    sum+=i\n",
    "print(sum)\n",
    "    "
   ]
  },
  {
   "cell_type": "markdown",
   "id": "e09133f3-90fd-4f14-b4ad-d5b7c73da647",
   "metadata": {},
   "source": [
    "49. Move the first element of a list to the last position."
   ]
  },
  {
   "cell_type": "code",
   "execution_count": 252,
   "id": "d10b3c53-df74-4a5e-91ae-edf2a97bf1df",
   "metadata": {},
   "outputs": [
    {
     "data": {
      "text/plain": [
       "[6, 2, 3, 4, 5, 1]"
      ]
     },
     "execution_count": 252,
     "metadata": {},
     "output_type": "execute_result"
    }
   ],
   "source": [
    "l = [1,2,3,4,5,6]\n",
    "s = l[0]\n",
    "l[0] = l[-1]\n",
    "l[-1] = s\n",
    "l"
   ]
  },
  {
   "cell_type": "markdown",
   "id": "0cdc0dcb-3c82-4459-9ce7-0022dbfbe8ea",
   "metadata": {},
   "source": [
    "50. Create a list with mixed data types (int, float, string) and print each element with its type.\r\n"
   ]
  },
  {
   "cell_type": "code",
   "execution_count": 259,
   "id": "58ed9c97-5d2f-40a8-b6cd-8d245f580d5c",
   "metadata": {},
   "outputs": [
    {
     "name": "stdout",
     "output_type": "stream",
     "text": [
      "<class 'float'>\n",
      "<class 'int'>\n",
      "<class 'str'>\n"
     ]
    }
   ],
   "source": [
    "l = [10.5,204,\"nithin\"]\n",
    "for e in l:\n",
    "    print(type(e))"
   ]
  },
  {
   "cell_type": "markdown",
   "id": "42f71bb4-01a5-4a69-a3f5-182b7b36df02",
   "metadata": {},
   "source": [
    "51. Create a tuple of five numbers and print only the first three.\r\n"
   ]
  },
  {
   "cell_type": "code",
   "execution_count": 264,
   "id": "d900b63b-c66e-4d04-a4ad-370b11b34a0b",
   "metadata": {},
   "outputs": [
    {
     "data": {
      "text/plain": [
       "(1, 2, 3)"
      ]
     },
     "execution_count": 264,
     "metadata": {},
     "output_type": "execute_result"
    }
   ],
   "source": [
    "t = (1,2,3,4,5)\n",
    "t[0:3]"
   ]
  },
  {
   "cell_type": "markdown",
   "id": "4eefb42f-9d4f-45cd-89f9-1ede33576720",
   "metadata": {},
   "source": [
    "52. Print the last element of a tuple without using negative indexing."
   ]
  },
  {
   "cell_type": "code",
   "execution_count": 270,
   "id": "ca8a7e68-0f88-4b37-aff7-9c6948b0b12e",
   "metadata": {},
   "outputs": [
    {
     "data": {
      "text/plain": [
       "5"
      ]
     },
     "execution_count": 270,
     "metadata": {},
     "output_type": "execute_result"
    }
   ],
   "source": [
    "c = len(t)\n",
    "t[c-1]"
   ]
  },
  {
   "cell_type": "markdown",
   "id": "e6f04b90-9291-4c62-9313-84ab7d51f9ee",
   "metadata": {},
   "source": [
    "53. Convert a tuple (1, 2, 3, 4, 5) into a list and add a new number."
   ]
  },
  {
   "cell_type": "code",
   "execution_count": 275,
   "id": "2086f353-d25f-42eb-a3a0-425271ac0c35",
   "metadata": {},
   "outputs": [
    {
     "name": "stdout",
     "output_type": "stream",
     "text": [
      "(1, 2, 3, 4, 5)\n"
     ]
    },
    {
     "data": {
      "text/plain": [
       "[1, 2, 3, 4, 5, 7]"
      ]
     },
     "execution_count": 275,
     "metadata": {},
     "output_type": "execute_result"
    }
   ],
   "source": [
    "print(t)\n",
    "l = list(t)\n",
    "l.append(7)\n",
    "l"
   ]
  },
  {
   "cell_type": "markdown",
   "id": "8f7d9500-1fde-4e34-a4bd-d025153cbcfc",
   "metadata": {},
   "source": [
    "54. Try deleting an element from a tuple and observe the error."
   ]
  },
  {
   "cell_type": "code",
   "execution_count": 278,
   "id": "356e7062-280d-414c-b655-7eff5cc80934",
   "metadata": {},
   "outputs": [
    {
     "name": "stdout",
     "output_type": "stream",
     "text": [
      "(1, 2, 3, 4, 5)\n"
     ]
    },
    {
     "ename": "AttributeError",
     "evalue": "'tuple' object has no attribute 'pop'",
     "output_type": "error",
     "traceback": [
      "\u001b[0;31m---------------------------------------------------------------------------\u001b[0m",
      "\u001b[0;31mAttributeError\u001b[0m                            Traceback (most recent call last)",
      "Cell \u001b[0;32mIn[278], line 2\u001b[0m\n\u001b[1;32m      1\u001b[0m \u001b[38;5;28mprint\u001b[39m(t)\n\u001b[0;32m----> 2\u001b[0m t\u001b[38;5;241m.\u001b[39mpop()\n",
      "\u001b[0;31mAttributeError\u001b[0m: 'tuple' object has no attribute 'pop'"
     ]
    }
   ],
   "source": [
    "print(t)\n",
    "t.pop()"
   ]
  },
  {
   "cell_type": "markdown",
   "id": "78e2087a-b0c8-479f-874a-121481d0e361",
   "metadata": {},
   "source": [
    "55. Extract the middle element from a tuple with an odd number of elements."
   ]
  },
  {
   "cell_type": "code",
   "execution_count": 282,
   "id": "ccc12765-26b9-4268-9d4d-ecc380c1cf35",
   "metadata": {},
   "outputs": [
    {
     "name": "stdout",
     "output_type": "stream",
     "text": [
      "(1, 2, 3, 4, 5)\n"
     ]
    },
    {
     "data": {
      "text/plain": [
       "3"
      ]
     },
     "execution_count": 282,
     "metadata": {},
     "output_type": "execute_result"
    }
   ],
   "source": [
    "print(t)\n",
    "first = 0\n",
    "last = len(t)-1\n",
    "middle = (first + last)//2\n",
    "t[middle]"
   ]
  },
  {
   "cell_type": "markdown",
   "id": "75328d62-14d4-4bab-a3cd-7d93608fd81c",
   "metadata": {},
   "source": [
    "56. Check if two tuples (1, 2, 3) and (3, 2, 1) are the same."
   ]
  },
  {
   "cell_type": "code",
   "execution_count": 285,
   "id": "411ed0a9-b710-4494-baa1-430fd39410e6",
   "metadata": {},
   "outputs": [
    {
     "name": "stdout",
     "output_type": "stream",
     "text": [
      "lists are not same\n"
     ]
    }
   ],
   "source": [
    "t1 =  (1, 2, 3)\n",
    "t2 =  (3, 2, 1)\n",
    "if (t1==t2):\n",
    "    print(\"lists are same\")\n",
    "else:\n",
    "    print(\"lists are not same\")"
   ]
  },
  {
   "cell_type": "markdown",
   "id": "0787987e-a488-4ce3-a1be-6caac369d347",
   "metadata": {},
   "source": [
    "57. Create a nested tuple and print an inner element."
   ]
  },
  {
   "cell_type": "code",
   "execution_count": 291,
   "id": "574a1e4b-efaa-44a3-9c61-7888502121c7",
   "metadata": {},
   "outputs": [
    {
     "data": {
      "text/plain": [
       "4"
      ]
     },
     "execution_count": 291,
     "metadata": {},
     "output_type": "execute_result"
    }
   ],
   "source": [
    "t1 = (1,2,(3,4),(5,6,7))\n",
    "t1[2][1]"
   ]
  },
  {
   "cell_type": "markdown",
   "id": "e260c6aa-fd38-44bf-b169-5f831c42bd4f",
   "metadata": {},
   "source": [
    "58. Merge three tuples into one."
   ]
  },
  {
   "cell_type": "code",
   "execution_count": 296,
   "id": "3a8dc544-9042-4476-8cdf-7b51c417939a",
   "metadata": {},
   "outputs": [
    {
     "data": {
      "text/plain": [
       "(1, 2, 3, 4, 5, 6, 7, 8, 9)"
      ]
     },
     "execution_count": 296,
     "metadata": {},
     "output_type": "execute_result"
    }
   ],
   "source": [
    "t1 = (1,2,3)\n",
    "t2 = (4,5,6)\n",
    "t3 = (7,8,9)\n",
    "tup = t1+t2+t3\n",
    "tup"
   ]
  },
  {
   "cell_type": "markdown",
   "id": "5f951876-3bf6-4e13-b3d0-9c47a2073979",
   "metadata": {},
   "source": [
    "59. Find the index of 5 in the tuple (1, 3, 5, 7, 9)."
   ]
  },
  {
   "cell_type": "code",
   "execution_count": 299,
   "id": "bffe2a4d-f705-428a-83c3-6b076206adbc",
   "metadata": {},
   "outputs": [
    {
     "data": {
      "text/plain": [
       "2"
      ]
     },
     "execution_count": 299,
     "metadata": {},
     "output_type": "execute_result"
    }
   ],
   "source": [
    "t = (1,3,5,7,9)\n",
    "t.index(5)"
   ]
  },
  {
   "cell_type": "code",
   "execution_count": null,
   "id": "8be16b06-f028-4176-97d5-37f94551e1d1",
   "metadata": {},
   "outputs": [],
   "source": [
    "60. Unpack a tuple into separate variables."
   ]
  }
 ],
 "metadata": {
  "kernelspec": {
   "display_name": "Python 3 (ipykernel)",
   "language": "python",
   "name": "python3"
  },
  "language_info": {
   "codemirror_mode": {
    "name": "ipython",
    "version": 3
   },
   "file_extension": ".py",
   "mimetype": "text/x-python",
   "name": "python",
   "nbconvert_exporter": "python",
   "pygments_lexer": "ipython3",
   "version": "3.12.2"
  }
 },
 "nbformat": 4,
 "nbformat_minor": 5
}
