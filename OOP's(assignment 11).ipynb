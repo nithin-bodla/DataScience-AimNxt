{
 "cells": [
  {
   "cell_type": "markdown",
   "id": "e4a6d5d8-1d06-4d69-bf23-06bb7fcdcf28",
   "metadata": {},
   "source": [
    "# OOP's Practicals"
   ]
  },
  {
   "cell_type": "markdown",
   "id": "60c58908-0151-4c73-a6f9-7a0a89ab8bc0",
   "metadata": {},
   "source": [
    "1. Create a class Person with attributes name and age. Write a method to display these attributes."
   ]
  },
  {
   "cell_type": "code",
   "execution_count": 18,
   "id": "0556be83-4878-4de2-8948-e36780ef7b10",
   "metadata": {},
   "outputs": [],
   "source": [
    "class Person:\n",
    "    def __init__(self,name,age):\n",
    "        self.name=name\n",
    "        self.age = age\n",
    "    def get_attributes(self):\n",
    "        return self.name,self.age"
   ]
  },
  {
   "cell_type": "code",
   "execution_count": 20,
   "id": "d2d7f32a-6cf4-4875-b5ce-6715293b4696",
   "metadata": {},
   "outputs": [],
   "source": [
    "p = Person(\"Nithin\",23)"
   ]
  },
  {
   "cell_type": "code",
   "execution_count": 22,
   "id": "fe0c777e-5176-44c3-8ce2-9f6e5de38528",
   "metadata": {},
   "outputs": [
    {
     "data": {
      "text/plain": [
       "('Nithin', 23)"
      ]
     },
     "execution_count": 22,
     "metadata": {},
     "output_type": "execute_result"
    }
   ],
   "source": [
    "p.get_attributes()"
   ]
  },
  {
   "cell_type": "markdown",
   "id": "7df99ca0-b23b-4a29-9c3e-2e8eb9192cba",
   "metadata": {},
   "source": [
    "2. Create two instances of the Person class and display their information."
   ]
  },
  {
   "cell_type": "code",
   "execution_count": 25,
   "id": "e4d6c6e5-dc4f-4408-9ae0-4d91dd6bac28",
   "metadata": {},
   "outputs": [],
   "source": [
    "p1 = Person(\"balu\",23)"
   ]
  },
  {
   "cell_type": "code",
   "execution_count": 27,
   "id": "42b8e333-a9ca-4d31-aa2e-2c31dfbf6e9d",
   "metadata": {},
   "outputs": [
    {
     "data": {
      "text/plain": [
       "('Nithin', 23)"
      ]
     },
     "execution_count": 27,
     "metadata": {},
     "output_type": "execute_result"
    }
   ],
   "source": [
    "p.get_attributes()"
   ]
  },
  {
   "cell_type": "code",
   "execution_count": 29,
   "id": "c7b1d06e-4a69-4cc1-8cb3-314c8ba5d4e0",
   "metadata": {},
   "outputs": [
    {
     "data": {
      "text/plain": [
       "('balu', 23)"
      ]
     },
     "execution_count": 29,
     "metadata": {},
     "output_type": "execute_result"
    }
   ],
   "source": [
    "p1.get_attributes()"
   ]
  },
  {
   "cell_type": "markdown",
   "id": "572835fc-366f-422e-ac41-7f15dd111c5b",
   "metadata": {},
   "source": [
    "\n",
    "3. Add a constructor (__init__) method to initialize attributes while creating the object."
   ]
  },
  {
   "cell_type": "code",
   "execution_count": 32,
   "id": "47c1ee39-b030-4d12-bb38-cdc432364204",
   "metadata": {},
   "outputs": [],
   "source": [
    "class Person:\n",
    "    def __init__(self,name,age):\n",
    "        self.name=name\n",
    "        self.age = age\n",
    "    def get_attributes(self):\n",
    "        return self.name,self.age\n",
    "p2 = Person(\"harsha\",20)"
   ]
  },
  {
   "cell_type": "code",
   "execution_count": 34,
   "id": "280fd082-22bf-4060-88d5-6beb9bb656cd",
   "metadata": {},
   "outputs": [
    {
     "data": {
      "text/plain": [
       "('harsha', 20)"
      ]
     },
     "execution_count": 34,
     "metadata": {},
     "output_type": "execute_result"
    }
   ],
   "source": [
    "p2.get_attributes()"
   ]
  },
  {
   "cell_type": "markdown",
   "id": "ed4ff71c-f67b-4863-a43e-cd40b9701bdc",
   "metadata": {},
   "source": [
    "4. Write a class Rectangle with attributes length and width. Add a method to compute area."
   ]
  },
  {
   "cell_type": "code",
   "execution_count": 37,
   "id": "bba3b27b-1d3d-4fe9-9648-70f141f11605",
   "metadata": {},
   "outputs": [
    {
     "data": {
      "text/plain": [
       "200"
      ]
     },
     "execution_count": 37,
     "metadata": {},
     "output_type": "execute_result"
    }
   ],
   "source": [
    "class Rectangle:\n",
    "    def __init__(self,length,width):\n",
    "        self.length = length\n",
    "        self.width = width\n",
    "    def rec_area(self):\n",
    "        return self.length*self.width\n",
    "r = Rectangle(10,20)\n",
    "r.rec_area()"
   ]
  },
  {
   "cell_type": "markdown",
   "id": "d98d267e-4335-49bf-99fd-0c3b39f7f03e",
   "metadata": {},
   "source": [
    "5. Create a class Car with methods to start the car, stop the car, and display car status."
   ]
  },
  {
   "cell_type": "code",
   "execution_count": 40,
   "id": "8208ce13-fd0c-4812-ac11-24b17fb27307",
   "metadata": {},
   "outputs": [],
   "source": [
    "class Car:\n",
    "    def __init__(self,company,model):\n",
    "        self.company=company\n",
    "        self.model=model\n",
    "        self.is_running = False\n",
    "    def start(self):\n",
    "        if not self.is_running:\n",
    "            self.is_running = True\n",
    "            print(f\"{self.company} {self.model} Car is ready to start\")\n",
    "        else:\n",
    "            print(f\"{self.company} {self.model} is already in start position\")            \n",
    "    def stop(self):\n",
    "        if self.is_running:\n",
    "            self.is_running = False\n",
    "            print(f\"{self.company} {self.model} Car is ready to stop\")\n",
    "        else:\n",
    "            print(f\"{self.company} {self.model} Car is already stopped\")\n",
    "    def display_status(self):\n",
    "        status = \"running\" if self.is_running else \"stopped\"\n",
    "        print(f\"{self.company} {self.model} is currently {status}.\")\n",
    "        "
   ]
  },
  {
   "cell_type": "code",
   "execution_count": 42,
   "id": "41331a53-205c-4230-b2d0-b4ef58aaf714",
   "metadata": {},
   "outputs": [
    {
     "name": "stdout",
     "output_type": "stream",
     "text": [
      "Hyundai Creta is currently stopped.\n",
      "Hyundai Creta Car is ready to start\n",
      "Hyundai Creta is currently running.\n",
      "Hyundai Creta Car is ready to stop\n"
     ]
    }
   ],
   "source": [
    "c = Car(\"Hyundai\",\"Creta\")\n",
    "c.display_status()\n",
    "c.start()\n",
    "c.display_status()\n",
    "c.stop()"
   ]
  },
  {
   "cell_type": "markdown",
   "id": "85bb4655-3cf4-4252-b98d-a10ad64437c4",
   "metadata": {},
   "source": [
    "6. Modify the Person class to make age a private variable. Add getter and setter methods."
   ]
  },
  {
   "cell_type": "code",
   "execution_count": 1,
   "id": "faacfee6-b0cc-4094-96c5-3b1beb56e8ff",
   "metadata": {},
   "outputs": [],
   "source": [
    "class Person:\n",
    "    def __init__(self,name,age):\n",
    "        self.name=name\n",
    "        self.__age=age\n",
    "\n",
    "    def get_age(self):\n",
    "        return self.__age\n",
    "\n",
    "    def set_age(self,age):\n",
    "        if age>0:\n",
    "            self.__age=age\n",
    "        else:\n",
    "            print(\"Age cannot be negative\")\n",
    "            \n",
    "    def get_attributes(self):\n",
    "        return self.name,self.__age\n",
    "\n"
   ]
  },
  {
   "cell_type": "code",
   "execution_count": 69,
   "id": "b0e68681-bdd1-4cf5-ad63-e75f6dbe7991",
   "metadata": {},
   "outputs": [
    {
     "name": "stdout",
     "output_type": "stream",
     "text": [
      "Age cannot be negative\n"
     ]
    },
    {
     "data": {
      "text/plain": [
       "('Nithin', 23)"
      ]
     },
     "execution_count": 69,
     "metadata": {},
     "output_type": "execute_result"
    }
   ],
   "source": [
    "p = Person(\"Nithin\",23)\n",
    "p.get_age()\n",
    "p.set_age(-2)\n",
    "p.get_attributes()"
   ]
  },
  {
   "cell_type": "markdown",
   "id": "21980af9-721a-4c32-9639-e98141e1ede9",
   "metadata": {},
   "source": [
    "7. Create a base class Animal with a method speak(). Derive classes Dog and Cat that override this method.\n"
   ]
  },
  {
   "cell_type": "code",
   "execution_count": 72,
   "id": "0ca75d9b-eda2-45a0-aaf3-caac0abc0fab",
   "metadata": {},
   "outputs": [
    {
     "name": "stdout",
     "output_type": "stream",
     "text": [
      "BOWBOW\n",
      "Meow Meow\n"
     ]
    }
   ],
   "source": [
    "class Animal:\n",
    "    def speak(self):\n",
    "        print(\"animal makes sound\")\n",
    "class Dog(Animal):\n",
    "    def speak(self):\n",
    "        print(\"BOWBOW\")\n",
    "class Cat(Animal):\n",
    "    def speak(self):\n",
    "        print(\"Meow Meow\")\n",
    "d = Dog()\n",
    "c = Cat()\n",
    "d.speak()\n",
    "c.speak()\n"
   ]
  },
  {
   "cell_type": "markdown",
   "id": "fca8ec89-e5ff-4c03-9dcb-34fb3bd20818",
   "metadata": {},
   "source": [
    "8. Create a class BankAccount with deposit and withdraw methods. Make the balance private."
   ]
  },
  {
   "cell_type": "code",
   "execution_count": 81,
   "id": "92b4bf62-568b-4fe5-bdad-67c2fa742938",
   "metadata": {},
   "outputs": [
    {
     "name": "stdout",
     "output_type": "stream",
     "text": [
      "Amount deposited is 10000 Present Balance 30000\n",
      "Amount withdraw is 5000 Available balance 25000\n"
     ]
    }
   ],
   "source": [
    "class BankAccount:\n",
    "    def __init__(self,name,balance):\n",
    "        self.name=name\n",
    "        self.__balance= balance\n",
    "    def deposit(self,amount):\n",
    "        self.__balance = self.__balance + amount\n",
    "        print(f\"Amount deposited is {amount} Present Balance {self.__balance}\")\n",
    "    def withdrawal(self,amount):\n",
    "        self.__balance-=amount\n",
    "        print(f\"Amount withdraw is {amount} Available balance {self.__balance}\")\n",
    "b = BankAccount(\"HDFC\",20000)\n",
    "b.deposit(10000)\n",
    "b.withdrawal(5000)"
   ]
  },
  {
   "cell_type": "markdown",
   "id": "5326b3c1-9a86-46d4-a9d7-10678af3999a",
   "metadata": {},
   "source": [
    "9. Create a class Employee with subclasses Manager and Engineer. Each should have its own method to display the job role."
   ]
  },
  {
   "cell_type": "code",
   "execution_count": 111,
   "id": "c7d6b4ee-d089-4e59-b68e-4c39684dcca7",
   "metadata": {},
   "outputs": [
    {
     "data": {
      "text/plain": [
       "'datascientist'"
      ]
     },
     "execution_count": 111,
     "metadata": {},
     "output_type": "execute_result"
    }
   ],
   "source": [
    "class Employee:\n",
    "    def __init__(self,name,role):\n",
    "        self.name=name\n",
    "        self.role=role\n",
    "    def own_method(self):\n",
    "        return self.role\n",
    "class Manager(Employee):\n",
    "    def own_method(self):\n",
    "        print(\"manager\")\n",
    "class Engineer(Employee):\n",
    "    def own_method(self):\n",
    "        print(\"engineer\")\n",
    "e=Employee(\"Nithin\",\"datascientist\")\n",
    "e.own_method()\n"
   ]
  },
  {
   "cell_type": "code",
   "execution_count": 113,
   "id": "320cba06-bd4f-4305-8b9c-95cbe430af15",
   "metadata": {},
   "outputs": [
    {
     "name": "stdout",
     "output_type": "stream",
     "text": [
      "manager\n",
      "engineer\n"
     ]
    }
   ],
   "source": [
    "m = Manager(\"Harsha\",\"manager\")\n",
    "e1 = Engineer(\"Balachandu\",\"Engineer\")\n",
    "m.own_method()\n",
    "e1.own_method()"
   ]
  },
  {
   "cell_type": "markdown",
   "id": "d92f5b03-4540-4374-b3c5-24a47097bf11",
   "metadata": {},
   "source": [
    "10. Demonstrate the use of super() to call a parent class method in a child class."
   ]
  },
  {
   "cell_type": "code",
   "execution_count": 130,
   "id": "43573e96-b7d3-4527-9346-d725f8722847",
   "metadata": {},
   "outputs": [],
   "source": [
    "class Student:\n",
    "    def __init__(self,name):\n",
    "        self.name=name\n",
    "class junior(Student):\n",
    "    def __init__(self,name,roll_no):\n",
    "        super().__init__(name)\n",
    "        self.roll_no=roll_no\n",
    "    def att(self):\n",
    "        return self.name,self.roll_no"
   ]
  },
  {
   "cell_type": "code",
   "execution_count": 134,
   "id": "05f20276-ded0-457c-af44-f9dd957a09c0",
   "metadata": {},
   "outputs": [
    {
     "data": {
      "text/plain": [
       "('Nithin', 204)"
      ]
     },
     "execution_count": 134,
     "metadata": {},
     "output_type": "execute_result"
    }
   ],
   "source": [
    "j = junior(\"Nithin\",204)\n",
    "j.att()"
   ]
  },
  {
   "cell_type": "markdown",
   "id": "60ed5594-5b99-4f3f-bdeb-f3acf7ec3fcc",
   "metadata": {},
   "source": [
    "11. Contact Manager App: Class for storing contact details (name, phone, email) and methods to add, delete, and search contacts."
   ]
  },
  {
   "cell_type": "code",
   "execution_count": 29,
   "id": "4e8ef4c1-28e9-43c6-b27d-8d9b83ada3c0",
   "metadata": {},
   "outputs": [],
   "source": [
    "class Contact :\n",
    "    def __init__(self,name,phone,email):\n",
    "        self.name = name\n",
    "        self.phone=phone\n",
    "        self.email=email\n",
    "    def __str__(self):\n",
    "        return f\"Name: {self.name}, Phone: {self.phone}, Email: {self.email}\"\n",
    "        \n",
    "class ContactManager:\n",
    "    def __init__(self):\n",
    "        self.contacts=[]\n",
    "    def add_contact(self,name,phone,email):\n",
    "        contact = Contact(name,phone,email)\n",
    "        self.contacts.append(contact)\n",
    "        print(f\"Name: {name} contact added successfully\")\n",
    "        \n",
    "    def delete_contact(self,name):\n",
    "        for contact in self.contacts:\n",
    "            if contact.name.lower() == name.lower():\n",
    "                self.contacts.remove(contact)\n",
    "                print(f\"Name: {name} removed successfully\")\n",
    "                return\n",
    "        print(f\"Contact: {name} not found\")\n",
    "        \n",
    "    def search_contact(self,name):\n",
    "        found = False\n",
    "        for contact in self.contacts:\n",
    "            if name.lower() in contact.name.lower():\n",
    "                print(contact)\n",
    "                found = True\n",
    "        if not found:\n",
    "            print(f\"Name: {name} not found\")\n",
    "            \n",
    "    def display_all(self):\n",
    "        if not self.contacts:\n",
    "            print(\"No contacts to be displayed\")\n",
    "        else:\n",
    "            for contact in self.contacts:\n",
    "                print(contact)\n",
    "\n",
    "            "
   ]
  },
  {
   "cell_type": "code",
   "execution_count": 31,
   "id": "bc20cb40-55af-48f9-9238-a5fe4f614f7c",
   "metadata": {},
   "outputs": [
    {
     "name": "stdout",
     "output_type": "stream",
     "text": [
      "Name: Alice contact added successfully\n",
      "Name: Bob contact added successfully\n",
      "Name: Alice, Phone: 1234567890, Email: alice@example.com\n",
      "Name: Bob removed successfully\n",
      "Name: Alice, Phone: 1234567890, Email: alice@example.com\n"
     ]
    }
   ],
   "source": [
    "cm = ContactManager()\n",
    "cm.add_contact(\"Alice\", \"1234567890\", \"alice@example.com\")\n",
    "cm.add_contact(\"Bob\", \"0987654321\", \"bob@example.com\")\n",
    "\n",
    "cm.search_contact(\"Alice\")   # Finds and prints Alice's contact\n",
    "cm.delete_contact(\"Bob\")     # Deletes Bob\n",
    "cm.display_all()   "
   ]
  },
  {
   "cell_type": "markdown",
   "id": "2c2d4a8f-d459-40d8-8dc0-68a0ca33af1c",
   "metadata": {},
   "source": [
    "12. Library Management: Class Book, class Library to store books, methods to borrow and return.\n"
   ]
  },
  {
   "cell_type": "code",
   "execution_count": null,
   "id": "934eae5b-ac5d-40ed-8cc5-d9aab95d345b",
   "metadata": {},
   "outputs": [],
   "source": []
  },
  {
   "cell_type": "markdown",
   "id": "f57e6bf5-d84b-40e5-bafb-089ac881ba58",
   "metadata": {},
   "source": [
    "13. Simple Banking System: Class Account with balance, methods to deposit, withdraw, and check balance."
   ]
  },
  {
   "cell_type": "code",
   "execution_count": 141,
   "id": "43f396e1-abb0-4681-a64d-57e986cce717",
   "metadata": {},
   "outputs": [],
   "source": [
    "class Account:\n",
    "    def __init__(self, account_holder, initial_balance=0):\n",
    "        self.account_holder = account_holder\n",
    "        self.balance = initial_balance\n",
    "\n",
    "    def deposit(self, amount):\n",
    "        if amount > 0:\n",
    "            self.balance += amount\n",
    "            print(f\"₹{amount} deposited. New balance: ₹{self.balance}\")\n",
    "        else:\n",
    "            print(\"Deposit amount must be positive.\")\n",
    "\n",
    "    def withdraw(self, amount):\n",
    "        if amount <= self.balance:\n",
    "            self.balance -= amount\n",
    "            print(f\"₹{amount} withdrawn. New balance: ₹{self.balance}\")\n",
    "        else:\n",
    "            print(\"Insufficient balance.\")\n",
    "\n",
    "    def check_balance(self):\n",
    "        print(f\"{self.account_holder}, your current balance is: ₹{self.balance}\")"
   ]
  },
  {
   "cell_type": "code",
   "execution_count": 143,
   "id": "15d05671-4adb-4c68-a6de-7f34f2e6a7e9",
   "metadata": {},
   "outputs": [],
   "source": [
    "a = Account(\"nithin\")"
   ]
  },
  {
   "cell_type": "code",
   "execution_count": 145,
   "id": "2a1d9df7-7c22-4254-a324-dfbd2b5f5920",
   "metadata": {},
   "outputs": [
    {
     "name": "stdout",
     "output_type": "stream",
     "text": [
      "nithin, your current balance is: ₹0\n"
     ]
    }
   ],
   "source": [
    "a.check_balance()"
   ]
  },
  {
   "cell_type": "code",
   "execution_count": 147,
   "id": "b8f29b80-212c-43c1-b4d6-5d72175e87d0",
   "metadata": {},
   "outputs": [
    {
     "name": "stdout",
     "output_type": "stream",
     "text": [
      "₹10000 deposited. New balance: ₹10000\n",
      "₹5000 withdrawn. New balance: ₹5000\n"
     ]
    }
   ],
   "source": [
    "a.deposit(10000)\n",
    "a.withdraw(5000)"
   ]
  },
  {
   "cell_type": "markdown",
   "id": "f2bc7c3b-8c61-48bd-bf3d-8f069357b19f",
   "metadata": {},
   "source": [
    "14. Create a class Laptop with attributes: brand, processor, and ram. Write a method to display laptop details."
   ]
  },
  {
   "cell_type": "code",
   "execution_count": 152,
   "id": "5e27bef7-0948-450e-9f93-8bfe0c22ef19",
   "metadata": {},
   "outputs": [],
   "source": [
    "class Laptop:\n",
    "    def __init__(self,brand,processor,ram):\n",
    "        self.brand=brand\n",
    "        self.processor = processor\n",
    "        self.ram = ram\n",
    "    def details(self):\n",
    "        return self.brand,self.processor,self.ram"
   ]
  },
  {
   "cell_type": "code",
   "execution_count": 154,
   "id": "674d8d8c-66b7-4d78-bc2f-2f7d28a703d7",
   "metadata": {},
   "outputs": [],
   "source": [
    "l = Laptop(\"DELL\",\"I7\",\"16GB\")"
   ]
  },
  {
   "cell_type": "code",
   "execution_count": 156,
   "id": "65db8dcf-ce62-4b7e-8789-4d5818a94447",
   "metadata": {},
   "outputs": [
    {
     "data": {
      "text/plain": [
       "('DELL', 'I7', '16GB')"
      ]
     },
     "execution_count": 156,
     "metadata": {},
     "output_type": "execute_result"
    }
   ],
   "source": [
    "l.details()"
   ]
  },
  {
   "cell_type": "markdown",
   "id": "e55e588f-668a-4116-b34c-177953aa0601",
   "metadata": {},
   "source": [
    "15. Write a class Student with attributes name, marks in three subjects. Add a method to calculate average marks."
   ]
  },
  {
   "cell_type": "code",
   "execution_count": 163,
   "id": "1a76c9a2-7c3f-41f8-a98a-dcbfe105e079",
   "metadata": {},
   "outputs": [
    {
     "data": {
      "text/plain": [
       "43"
      ]
     },
     "execution_count": 163,
     "metadata": {},
     "output_type": "execute_result"
    }
   ],
   "source": [
    "class Student:\n",
    "    def __init__(self,name,m1,m2,m3):\n",
    "        self.name=name\n",
    "        self.m1=m1\n",
    "        self.m2=m2\n",
    "        self.m3=m3\n",
    "    def avg(self):\n",
    "        return (self.m1+self.m2+self.m3)//3\n",
    "s = Student(\"nithin\",40,50,40)\n",
    "s.avg()"
   ]
  },
  {
   "cell_type": "markdown",
   "id": "633573fc-f8d1-4f01-8819-1d8bcfd16ec0",
   "metadata": {},
   "source": [
    "16. Define a class Movie with attributes: title, director, and year. Instantiate 3 movies and print their details."
   ]
  },
  {
   "cell_type": "code",
   "execution_count": 166,
   "id": "e9f038ac-33fc-4126-b9dd-01b71d215d14",
   "metadata": {},
   "outputs": [],
   "source": [
    "class Movie:\n",
    "    def __init__(self,title,director,year):\n",
    "        self.title=title\n",
    "        self.director=director\n",
    "        self.year=year\n",
    "    def value(self):\n",
    "        return self.title,self.director,self.year\n",
    "m = Movie(\"Khaleja\",\"Trivikram\",\"2011\")\n",
    "m1 = Movie(\"Puspha\",\"sukumar\",\"2023\")\n",
    "m2 = Movie(\"GunturKaram\",\"Trivikram\",\"2024\")"
   ]
  },
  {
   "cell_type": "code",
   "execution_count": 168,
   "id": "84fdb77e-9590-466f-9af4-7c540f9fd2a8",
   "metadata": {},
   "outputs": [
    {
     "data": {
      "text/plain": [
       "('Khaleja', 'Trivikram', '2011')"
      ]
     },
     "execution_count": 168,
     "metadata": {},
     "output_type": "execute_result"
    }
   ],
   "source": [
    "m.value()"
   ]
  },
  {
   "cell_type": "code",
   "execution_count": 170,
   "id": "8d008002-d36f-46e1-8361-411b6fa25814",
   "metadata": {},
   "outputs": [
    {
     "data": {
      "text/plain": [
       "('GunturKaram', 'Trivikram', '2024')"
      ]
     },
     "execution_count": 170,
     "metadata": {},
     "output_type": "execute_result"
    }
   ],
   "source": [
    "m1.value()\n",
    "m2.value()"
   ]
  },
  {
   "cell_type": "markdown",
   "id": "3d77ce9a-361c-4fac-aeb8-43c0669a1c86",
   "metadata": {},
   "source": [
    "17. Create a class Temperature that stores a temperature in Celsius and has methods to convert it to Fahrenheit and Kelvin.\n"
   ]
  },
  {
   "cell_type": "code",
   "execution_count": 267,
   "id": "43258cd2-71d1-4d25-84ef-9677981d0c4c",
   "metadata": {},
   "outputs": [
    {
     "data": {
      "text/plain": [
       "89.6"
      ]
     },
     "execution_count": 267,
     "metadata": {},
     "output_type": "execute_result"
    }
   ],
   "source": [
    "class Temperature:\n",
    "    def __init__(self,t):\n",
    "        self.t=t\n",
    "    def c_to_f(self):\n",
    "        return (self.t * 9/5) + 32\n",
    "    def c_to_k(self):\n",
    "        return (self.t +273.5)\n",
    "t = Temperature(32)\n",
    "t.c_to_f()"
   ]
  },
  {
   "cell_type": "markdown",
   "id": "8ef4c2e6-4557-43ba-9730-1244cb6853d4",
   "metadata": {},
   "source": [
    "18. Write a class Counter with a method to increment, decrement, and show the current count.\n"
   ]
  },
  {
   "cell_type": "code",
   "execution_count": 185,
   "id": "0c5ce04f-0e9e-4254-a859-37ec3e435e4c",
   "metadata": {},
   "outputs": [
    {
     "data": {
      "text/plain": [
       "1"
      ]
     },
     "execution_count": 185,
     "metadata": {},
     "output_type": "execute_result"
    }
   ],
   "source": [
    "class Counter:\n",
    "    def __init__(self,current_count=0):\n",
    "        self.current_count=current_count\n",
    "    def increment(self):\n",
    "        self.current_count = self.current_count + 1\n",
    "        return self.current_count\n",
    "    def decrement(self):\n",
    "        self.current_count = self.current_count - 1\n",
    "        return self.current_count\n",
    "c=Counter()\n",
    "c.increment()\n",
    "c.increment()\n",
    "c.decrement()\n",
    "        \n",
    "    "
   ]
  },
  {
   "cell_type": "markdown",
   "id": "111d62ef-852e-4693-bcab-888452e64699",
   "metadata": {},
   "source": [
    "19. Create a class Vehicle with a method move(). Inherit classes Car and Boat and override move() in each.\n"
   ]
  },
  {
   "cell_type": "code",
   "execution_count": 192,
   "id": "3fe48cbd-254d-412d-9c32-40597e313347",
   "metadata": {},
   "outputs": [
    {
     "name": "stdout",
     "output_type": "stream",
     "text": [
      "Boat is moving on water\n",
      "Car is moving on road\n"
     ]
    }
   ],
   "source": [
    "class Vechile:\n",
    "    def move(self):\n",
    "        print(\"Vechile is moving\")\n",
    "class Car(Vechile):\n",
    "    def move(self):\n",
    "        print(\"Car is moving on road\")\n",
    "class Boat(Vechile):\n",
    "    def move(self):\n",
    "        print(\"Boat is moving on water\")\n",
    "b = Boat()\n",
    "b.move()\n",
    "c = Car()\n",
    "c.move()"
   ]
  },
  {
   "cell_type": "markdown",
   "id": "3d5e3687-6ea0-43e9-857c-f4bc26ff1b5d",
   "metadata": {},
   "source": [
    "20. Write a class Book with private attributes title and author. Provide getter and setter methods."
   ]
  },
  {
   "cell_type": "code",
   "execution_count": 195,
   "id": "cc530e4f-e61e-415e-8b6d-544d84b09aa8",
   "metadata": {},
   "outputs": [
    {
     "data": {
      "text/plain": [
       "('science', 'nithin')"
      ]
     },
     "execution_count": 195,
     "metadata": {},
     "output_type": "execute_result"
    }
   ],
   "source": [
    "class Book:\n",
    "    def setter(self,title,author):\n",
    "        self.title = title\n",
    "        self.author = author\n",
    "    def getter(self):\n",
    "        return self.title,self.author\n",
    "b = Book()\n",
    "b.setter(\"science\",\"nithin\")\n",
    "b.getter()\n",
    "        "
   ]
  },
  {
   "cell_type": "markdown",
   "id": "b3a85f9e-da9f-431f-a7fc-bf3ccd2b7bf0",
   "metadata": {},
   "source": [
    "21. Create a class Calculator with methods for basic operations (+, -, , /). Demonstrate method overloading (using default args)."
   ]
  },
  {
   "cell_type": "code",
   "execution_count": 206,
   "id": "bf88df05-ecef-4f1f-92e8-b412ba5e9d93",
   "metadata": {},
   "outputs": [],
   "source": [
    "class Calculator:\n",
    "    def add(self,a,b=0):\n",
    "        return a+b\n",
    "    def sub(self,a,b=0):\n",
    "        return a-b\n",
    "    def multiple(self,a,b=1):\n",
    "        return a*b\n",
    "    def divide(self,a,b=1):\n",
    "        if b!=0:\n",
    "            return a/b\n",
    "        else:\n",
    "            return \"Cannot divide by zero\"\n",
    "c = Calculator()"
   ]
  },
  {
   "cell_type": "code",
   "execution_count": 210,
   "id": "f1027f4f-0dc9-4820-95d0-44b78e42b1a2",
   "metadata": {},
   "outputs": [
    {
     "data": {
      "text/plain": [
       "5"
      ]
     },
     "execution_count": 210,
     "metadata": {},
     "output_type": "execute_result"
    }
   ],
   "source": [
    "c.add(2,3)"
   ]
  },
  {
   "cell_type": "code",
   "execution_count": 212,
   "id": "2de0707c-9dbd-4bb8-9e45-c2f69ce45a81",
   "metadata": {},
   "outputs": [
    {
     "data": {
      "text/plain": [
       "2"
      ]
     },
     "execution_count": 212,
     "metadata": {},
     "output_type": "execute_result"
    }
   ],
   "source": [
    "c.add(2)"
   ]
  },
  {
   "cell_type": "code",
   "execution_count": 214,
   "id": "ac907f02-9229-43a9-ac50-6717bbf53e23",
   "metadata": {},
   "outputs": [
    {
     "data": {
      "text/plain": [
       "1"
      ]
     },
     "execution_count": 214,
     "metadata": {},
     "output_type": "execute_result"
    }
   ],
   "source": [
    "c.sub(3,2)"
   ]
  },
  {
   "cell_type": "code",
   "execution_count": 216,
   "id": "27f1f9f0-5c96-4af8-a13b-b0f3685a7bb4",
   "metadata": {},
   "outputs": [
    {
     "data": {
      "text/plain": [
       "9"
      ]
     },
     "execution_count": 216,
     "metadata": {},
     "output_type": "execute_result"
    }
   ],
   "source": [
    "c.multiple(3,3)"
   ]
  },
  {
   "cell_type": "code",
   "execution_count": 218,
   "id": "9d932efb-2b33-4ff4-a052-3f09c74a0f03",
   "metadata": {},
   "outputs": [
    {
     "data": {
      "text/plain": [
       "'Cannot divide by zero'"
      ]
     },
     "execution_count": 218,
     "metadata": {},
     "output_type": "execute_result"
    }
   ],
   "source": [
    "c.divide(3,0)"
   ]
  },
  {
   "cell_type": "code",
   "execution_count": 220,
   "id": "9b47e7f7-2493-4d79-8e24-e91b8ae4f7ec",
   "metadata": {},
   "outputs": [
    {
     "data": {
      "text/plain": [
       "1.0"
      ]
     },
     "execution_count": 220,
     "metadata": {},
     "output_type": "execute_result"
    }
   ],
   "source": [
    "c.divide(3,3)"
   ]
  },
  {
   "cell_type": "markdown",
   "id": "6f70a9f5-c19f-4709-81ff-8397394e7a50",
   "metadata": {},
   "source": [
    "22. Build a class Person with a class variable population that tracks how many people have been created.\n"
   ]
  },
  {
   "cell_type": "code",
   "execution_count": 229,
   "id": "ba9c5e5c-1a5a-4de9-9078-4545800de63b",
   "metadata": {},
   "outputs": [],
   "source": [
    "class person:\n",
    "    population = 0\n",
    "    def __init__(self,name,age):\n",
    "        self.name=name\n",
    "        self.age=age\n",
    "        person.population +=1\n",
    "    def display(self):\n",
    "        return self.name,self.age\n",
    "    @classmethod\n",
    "    def get_population(cls):\n",
    "        return cls.population\n",
    "p = person(\"Alice\",20)\n",
    "p1 = person(\"Bob\",21)"
   ]
  },
  {
   "cell_type": "code",
   "execution_count": 231,
   "id": "4757b653-011c-4ade-9b5f-8adc001674fa",
   "metadata": {},
   "outputs": [
    {
     "data": {
      "text/plain": [
       "2"
      ]
     },
     "execution_count": 231,
     "metadata": {},
     "output_type": "execute_result"
    }
   ],
   "source": [
    "person.get_population()"
   ]
  },
  {
   "cell_type": "markdown",
   "id": "13411756-6fa7-4828-b9bb-9a5275589cb9",
   "metadata": {},
   "source": [
    "23. Create a class Account with protected member _balance. Inherit it in a SavingsAccount class and override the withdraw() method to allow limited withdrawals.\n"
   ]
  },
  {
   "cell_type": "code",
   "execution_count": 256,
   "id": "31af92d1-3032-4b9b-8177-43f0e8b5074c",
   "metadata": {},
   "outputs": [],
   "source": [
    "class Account:\n",
    "    def __init__(self, initial_balance=0):\n",
    "        self._balance = initial_balance  # Protected member\n",
    "\n",
    "    def deposit(self, amount):\n",
    "        if amount > 0:\n",
    "            self._balance += amount\n",
    "            print(f\"Deposited ₹{amount}. Current balance: ₹{self._balance}\")\n",
    "        else:\n",
    "            print(\"Deposit amount must be positive.\")\n",
    "\n",
    "    def withdraw(self, amount):\n",
    "        if amount <= self._balance:\n",
    "            self._balance -= amount\n",
    "            print(f\"Withdrew ₹{amount}. Current balance: ₹{self._balance}\")\n",
    "        else:\n",
    "            print(\"Insufficient balance.\")\n",
    "\n",
    "    def check_balance(self):\n",
    "        print(f\"Current balance: ₹{self._balance}\")\n",
    "\n",
    "class SavingAccount(Account):\n",
    "    def __init__(self,initial_balance=0,withdrawallimit=3):\n",
    "        super().__init__(initial_balance)\n",
    "        self._withdrawallimit = withdrawallimit\n",
    "        self._withdrawalcount=0\n",
    "    def withdraw(self,amount):\n",
    "        if self._withdrawalcount>=self._withdrawallimit:\n",
    "            print(\"Limit Reached\")\n",
    "        elif amount <= self._balance:\n",
    "            self._balance -= amount\n",
    "            self._withdrawalcount+=1\n",
    "            print(f\"Withdrew ₹{amount}. Remaining balance: ₹{self._balance}. Withdrawals left: {self._withdrawallimit - self._withdrawalcount}\")\n",
    "        else:\n",
    "            print(\"Insufficinet balance\")\n",
    "        "
   ]
  },
  {
   "cell_type": "code",
   "execution_count": 258,
   "id": "cf045a75-278d-4fce-b273-ab8cb0a0c29e",
   "metadata": {},
   "outputs": [],
   "source": [
    "a = Account(1000)"
   ]
  },
  {
   "cell_type": "code",
   "execution_count": 260,
   "id": "d29ac4c5-4a7c-4f91-bc38-f5b29c4fe372",
   "metadata": {},
   "outputs": [],
   "source": [
    "s = SavingAccount(1000)"
   ]
  },
  {
   "cell_type": "code",
   "execution_count": 262,
   "id": "ca515c19-a38f-40fe-a0a4-0c7eee2b6a30",
   "metadata": {},
   "outputs": [
    {
     "name": "stdout",
     "output_type": "stream",
     "text": [
      "Withdrew ₹100. Remaining balance: ₹900. Withdrawals left: 2\n",
      "Withdrew ₹200. Remaining balance: ₹700. Withdrawals left: 1\n",
      "Withdrew ₹300. Remaining balance: ₹400. Withdrawals left: 0\n",
      "Limit Reached\n"
     ]
    }
   ],
   "source": [
    "s.withdraw(100)\n",
    "s.withdraw(200)\n",
    "s.withdraw(300)\n",
    "s.withdraw(5)"
   ]
  },
  {
   "cell_type": "markdown",
   "id": "98d3e71e-8263-4a7d-b044-ac4bbf221371",
   "metadata": {},
   "source": [
    "24. Create a class Robot with methods greet() and identify(). Inherit a class HumanoidRobot and override the greet() method."
   ]
  },
  {
   "cell_type": "code",
   "execution_count": 269,
   "id": "04d3c1cd-d744-4c1e-a192-5be44b1a80f0",
   "metadata": {},
   "outputs": [],
   "source": [
    "class Robot:\n",
    "    def greet(self):\n",
    "        print(\"Hello! I am a generic robot.\")\n",
    "\n",
    "    def identify(self):\n",
    "        print(\"I am a machine designed to assist with tasks.\")\n",
    "\n",
    "\n",
    "class HumanoidRobot(Robot):\n",
    "    def greet(self):\n",
    "        print(\"Hi there! I am a humanoid robot, designed to interact like a human.\")"
   ]
  },
  {
   "cell_type": "code",
   "execution_count": 271,
   "id": "a91d88ae-e5f1-49f5-a061-1225b4d1bf95",
   "metadata": {},
   "outputs": [
    {
     "name": "stdout",
     "output_type": "stream",
     "text": [
      "Hi there! I am a humanoid robot, designed to interact like a human.\n"
     ]
    }
   ],
   "source": [
    "h = HumanoidRobot()\n",
    "h.greet()"
   ]
  },
  {
   "cell_type": "markdown",
   "id": "0d9b9c04-0317-4daf-a18b-28239ab6ee42",
   "metadata": {},
   "source": [
    "25. Create a class Bank that stores customer accounts. Use a dictionary to map account numbers to balance. Add deposit and withdrawal methods."
   ]
  },
  {
   "cell_type": "code",
   "execution_count": null,
   "id": "feb3df4e-e5e6-4045-83b7-0491f80b6b07",
   "metadata": {},
   "outputs": [],
   "source": []
  },
  {
   "cell_type": "markdown",
   "id": "60348040-11bd-464e-aefd-37420a94d3b4",
   "metadata": {},
   "source": [
    "26. Make a Student class that includes a list of grades and provides methods to add a grade, calculate average, and determine letter grade.\n"
   ]
  },
  {
   "cell_type": "code",
   "execution_count": null,
   "id": "a330278b-cdc6-4f21-9a33-f66011b0b361",
   "metadata": {},
   "outputs": [],
   "source": []
  },
  {
   "cell_type": "markdown",
   "id": "9eee5cc6-ac03-49ea-8d33-8c179989d7b7",
   "metadata": {},
   "source": [
    "27. Create a class InvoiceItem that stores item name, quantity, and price. Add a method to calculate total cost.\n",
    " "
   ]
  },
  {
   "cell_type": "code",
   "execution_count": 278,
   "id": "72c44a54-8cc7-410d-90e7-c96d903028c0",
   "metadata": {},
   "outputs": [],
   "source": [
    "class InvoiceItem:\n",
    "    def __init__(self, item_name, quantity, price):\n",
    "        self.item_name = item_name\n",
    "        self.quantity = quantity\n",
    "        self.price = price\n",
    "\n",
    "    def calculate_total(self):\n",
    "        return self.quantity * self.price\n",
    "\n",
    "    def display_item(self):\n",
    "        print(f\"Item: {self.item_name}\")\n",
    "        print(f\"Quantity: {self.quantity}\")\n",
    "        print(f\"Unit Price: ₹{self.price}\")\n",
    "        print(f\"Total Cost: ₹{self.calculate_total()}\")"
   ]
  },
  {
   "cell_type": "code",
   "execution_count": 280,
   "id": "403d439f-4adc-418d-bc9a-c142efb1c070",
   "metadata": {},
   "outputs": [
    {
     "name": "stdout",
     "output_type": "stream",
     "text": [
      "Item: Notebook\n",
      "Quantity: 5\n",
      "Unit Price: ₹40\n",
      "Total Cost: ₹200\n"
     ]
    }
   ],
   "source": [
    "item1 = InvoiceItem(\"Notebook\", 5, 40)\n",
    "item1.display_item()"
   ]
  },
  {
   "cell_type": "code",
   "execution_count": null,
   "id": "8c0afa9e-6e5e-4ee8-a5d3-5c0350b0d820",
   "metadata": {},
   "outputs": [],
   "source": []
  }
 ],
 "metadata": {
  "kernelspec": {
   "display_name": "Python 3 (ipykernel)",
   "language": "python",
   "name": "python3"
  },
  "language_info": {
   "codemirror_mode": {
    "name": "ipython",
    "version": 3
   },
   "file_extension": ".py",
   "mimetype": "text/x-python",
   "name": "python",
   "nbconvert_exporter": "python",
   "pygments_lexer": "ipython3",
   "version": "3.12.2"
  }
 },
 "nbformat": 4,
 "nbformat_minor": 5
}
