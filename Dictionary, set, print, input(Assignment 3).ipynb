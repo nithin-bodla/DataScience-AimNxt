{
 "cells": [
  {
   "cell_type": "markdown",
   "id": "27dc041f-9652-471b-9cbc-e88651e2e0a9",
   "metadata": {},
   "source": [
    "#Questions \n",
    "\n",
    "l = [3,4,5,6,7 , [23,456,67,8,78,78] , [345,56,87,8,98,9] , (234,6657,6) , {\"key1\" :\"sudh\" , 234:[23,45,656]}]\n",
    "\n",
    "1. Try to reverse a list.\n",
    "2.  try to access 234 out of this list. \n",
    "3. try to access 456. \n",
    "4. Try to extract only a list collection form list l. \n",
    "5. Try to extract \"sudh\".\n",
    "6. Try to list all the key in dict element avaible in list. \n",
    "7. Try to extract all the value element form dict available in list. "
   ]
  },
  {
   "cell_type": "code",
   "execution_count": 22,
   "id": "57ad7889-59ce-48de-aa3e-31a0ed75838d",
   "metadata": {},
   "outputs": [],
   "source": [
    "l = [3,4,5,6,7 , [23,456,67,8,78,78] , [345,56,87,8,98,9] , (234,6657,6) , {\"key1\" :\"sudh\" , 234:[23,45,656]}]"
   ]
  },
  {
   "cell_type": "markdown",
   "id": "28b922ba-d7a5-48cf-85e0-6a43394140c0",
   "metadata": {},
   "source": [
    "1 . Try to reverse a list "
   ]
  },
  {
   "cell_type": "code",
   "execution_count": 24,
   "id": "e375ba26-5840-4229-a6a7-4225ef805f4f",
   "metadata": {},
   "outputs": [
    {
     "data": {
      "text/plain": [
       "[{'key1': 'sudh', 234: [23, 45, 656]},\n",
       " (234, 6657, 6),\n",
       " [345, 56, 87, 8, 98, 9],\n",
       " [23, 456, 67, 8, 78, 78],\n",
       " 7,\n",
       " 6,\n",
       " 5,\n",
       " 4,\n",
       " 3]"
      ]
     },
     "execution_count": 24,
     "metadata": {},
     "output_type": "execute_result"
    }
   ],
   "source": [
    "l[::-1]"
   ]
  },
  {
   "cell_type": "markdown",
   "id": "e5ba08e8-29cd-4fb6-bff2-885e0b801eba",
   "metadata": {},
   "source": [
    "2.  try to access 234 out of this list "
   ]
  },
  {
   "cell_type": "code",
   "execution_count": 29,
   "id": "b758f3d0-4688-4691-99f0-21adadcfdf28",
   "metadata": {},
   "outputs": [
    {
     "data": {
      "text/plain": [
       "234"
      ]
     },
     "execution_count": 29,
     "metadata": {},
     "output_type": "execute_result"
    }
   ],
   "source": [
    "l[7][0]"
   ]
  },
  {
   "cell_type": "markdown",
   "id": "a143920e-f107-43c1-852e-e0e9c32f2fad",
   "metadata": {},
   "source": [
    "3 . try to access 456"
   ]
  },
  {
   "cell_type": "code",
   "execution_count": 31,
   "id": "fa500bc2-5afa-4162-a268-e255af0f3913",
   "metadata": {},
   "outputs": [
    {
     "data": {
      "text/plain": [
       "456"
      ]
     },
     "execution_count": 31,
     "metadata": {},
     "output_type": "execute_result"
    }
   ],
   "source": [
    "l[5][1]"
   ]
  },
  {
   "cell_type": "markdown",
   "id": "50e7efc1-e529-4e88-9b8a-2f25ebaf7183",
   "metadata": {},
   "source": [
    "4 . Try to extract only a list collection form list l "
   ]
  },
  {
   "cell_type": "code",
   "execution_count": 36,
   "id": "56f0bbef-6f5a-4474-8a5e-159bb7e27158",
   "metadata": {},
   "outputs": [
    {
     "name": "stdout",
     "output_type": "stream",
     "text": [
      "[23, 456, 67, 8, 78, 78]\n",
      "[345, 56, 87, 8, 98, 9]\n"
     ]
    }
   ],
   "source": [
    "for x in l:\n",
    "    if type(x) == list:\n",
    "        print(x)"
   ]
  },
  {
   "cell_type": "markdown",
   "id": "13ddb0b9-af4f-4440-92ce-af845839a9d5",
   "metadata": {},
   "source": [
    "5 . Try to extract \"sudh\""
   ]
  },
  {
   "cell_type": "code",
   "execution_count": 41,
   "id": "b066e479-516f-4b0f-b0b5-33b1e5b7c515",
   "metadata": {},
   "outputs": [
    {
     "data": {
      "text/plain": [
       "'sudh'"
      ]
     },
     "execution_count": 41,
     "metadata": {},
     "output_type": "execute_result"
    }
   ],
   "source": [
    "l[8][\"key1\"]"
   ]
  },
  {
   "cell_type": "markdown",
   "id": "5da0abd1-a879-4d7b-a71b-0ba0d26403b8",
   "metadata": {},
   "source": [
    "6 . Try to list all the key in dict element avaible in list"
   ]
  },
  {
   "cell_type": "code",
   "execution_count": 44,
   "id": "b82ad002-a189-4314-a08b-5d4a93413c5d",
   "metadata": {},
   "outputs": [
    {
     "data": {
      "text/plain": [
       "dict_keys(['key1', 234])"
      ]
     },
     "execution_count": 44,
     "metadata": {},
     "output_type": "execute_result"
    }
   ],
   "source": [
    "l[8].keys()"
   ]
  },
  {
   "cell_type": "markdown",
   "id": "300ec159-a439-4708-8c6a-43f688f6db3a",
   "metadata": {},
   "source": [
    "7 . Try to extract all the value element form dict available in list "
   ]
  },
  {
   "cell_type": "code",
   "execution_count": 47,
   "id": "a99264d8-b07f-4b47-a42f-887c77115e0b",
   "metadata": {},
   "outputs": [
    {
     "data": {
      "text/plain": [
       "dict_values(['sudh', [23, 45, 656]])"
      ]
     },
     "execution_count": 47,
     "metadata": {},
     "output_type": "execute_result"
    }
   ],
   "source": [
    "l[8].values()"
   ]
  },
  {
   "cell_type": "markdown",
   "id": "64e6b5ee-0ed7-431a-bed4-441e6c21ee2c",
   "metadata": {},
   "source": [
    "Excercise:\n",
    "\n",
    "1. Declare two variables `a` and `b`, assign integer values to them, and print their sum.\n",
    "    - **Expected Output:** The sum of `a` and `b`.\n",
    "2. Create a variable `name` and assign your name to it. Print a greeting message using your name.\n",
    "    - **Expected Output:** Greeting message with your name, e.g., \"Hello, John!\"\n",
    "3. Define a variable `pi` and assign the value of π (pi) to it. Print the value of `pi`.\n",
    "    - **Expected Output:** The value of π (pi), e.g., 3.14159.\n",
    "4. Define a variable `is_raining` and ask the user to input either \"True\" or \"False\" (as a string). Convert the input to a boolean and print its type.\n",
    "    - **Expected Input:** \"True\" or \"False\"\n",
    "    - **Expected Output:** The data type of the converted boolean.\n",
    "5. Create a string variable `sentence` containing any sentence of your choice. Ask the user to input a number, convert it to an integer, and print the sentence repeated that number of times.\n",
    "    - **Expected Input:** A number (e.g., \"3\")\n",
    "    - **Expected Output:** The sentence repeated the specified number of times.\n",
    "6. Given two variables `x` and `y`, perform the following operations and print the results:\n",
    "    - Addition of `x` and `y`.\n",
    "    - Subtraction of `y` from `x`.\n",
    "    - Multiplication of `x` and `y`.\n",
    "    - Division of `x` by `y`.\n",
    "    - `x` raised to the power of `y`.\n",
    "    - The remainder when `x` is divided by `y`.\n",
    "    - The floor division of `x` by `y`.\n",
    "7. Define a variable `value` and assign any numerical value to it. Ask the user to input a new value. Update the variable `value` with the new input and print the updated value.\n",
    "- **Expected Input:** A numerical value (e.g., \"42\")\n",
    "- **Expected Output:** The updated value of the variable."
   ]
  },
  {
   "cell_type": "markdown",
   "id": "ee4aa363-812b-43dc-b292-ff576f074555",
   "metadata": {},
   "source": [
    "1. Declare two variables `a` and `b`, assign integer values to them, and print their sum.\n",
    "    - **Expected Output:** The sum of `a` and `b`."
   ]
  },
  {
   "cell_type": "code",
   "execution_count": 54,
   "id": "c0a2bc35-de25-419a-9a11-24d28621a097",
   "metadata": {},
   "outputs": [
    {
     "name": "stdout",
     "output_type": "stream",
     "text": [
      "16\n"
     ]
    }
   ],
   "source": [
    "a = 12\n",
    "b = 4\n",
    "sum = a + b \n",
    "print(sum)"
   ]
  },
  {
   "cell_type": "markdown",
   "id": "6191fa84-c37e-4630-8454-7b3789e9b2f6",
   "metadata": {},
   "source": [
    "2. Create a variable `name` and assign your name to it. Print a greeting message using your name.\n",
    "    - **Expected Output:** Greeting message with your name, e.g., \"Hello, John!\""
   ]
  },
  {
   "cell_type": "code",
   "execution_count": 65,
   "id": "14011b58-e6c5-412b-9bbc-37233b26886f",
   "metadata": {},
   "outputs": [
    {
     "name": "stdin",
     "output_type": "stream",
     "text": [
      "Enter Your Name:  Nithin\n"
     ]
    },
    {
     "name": "stdout",
     "output_type": "stream",
     "text": [
      "Hello, Nithin!\n"
     ]
    }
   ],
   "source": [
    "Name = input(\"Enter Your Name: \")\n",
    "print(\"Hello,\",Name+\"!\")\n"
   ]
  },
  {
   "cell_type": "markdown",
   "id": "1138845f-1c8e-4a13-9aad-77f67c615799",
   "metadata": {},
   "source": [
    "3. Define a variable `pi` and assign the value of π (pi) to it. Print the value of `pi`.\n",
    "    - **Expected Output:** The value of π (pi), e.g., 3.14159."
   ]
  },
  {
   "cell_type": "code",
   "execution_count": 73,
   "id": "dda3c028-7eb3-4f42-a3dd-ff25a5dcdcc1",
   "metadata": {},
   "outputs": [
    {
     "name": "stdout",
     "output_type": "stream",
     "text": [
      "3.14159\n"
     ]
    }
   ],
   "source": [
    "pi = 3.14159\n",
    "print(pi)"
   ]
  },
  {
   "cell_type": "markdown",
   "id": "12f7e75b-a2bc-459e-9ac7-243ac092d59a",
   "metadata": {},
   "source": [
    "4. Define a variable `is_raining` and ask the user to input either \"True\" or \"False\" (as a string). Convert the input to a boolean and print its type.\n",
    "    - **Expected Input:** \"True\" or \"False\"\n",
    "    - **Expected Output:** The data type of the converted boolean."
   ]
  },
  {
   "cell_type": "code",
   "execution_count": 95,
   "id": "33047148-5be7-4ff5-bc6c-40886d614380",
   "metadata": {},
   "outputs": [
    {
     "name": "stdin",
     "output_type": "stream",
     "text": [
      "Enter either True or False :  True\n"
     ]
    },
    {
     "data": {
      "text/plain": [
       "bool"
      ]
     },
     "execution_count": 95,
     "metadata": {},
     "output_type": "execute_result"
    }
   ],
   "source": [
    "is_raining = input(\"Enter either True or False : \")\n",
    "i = is_raining.strip().lower() == \"true\"\n",
    "type(i)"
   ]
  },
  {
   "cell_type": "markdown",
   "id": "bc8ac945-8a71-4b92-af7b-3968284b818c",
   "metadata": {},
   "source": [
    "5. Create a string variable `sentence` containing any sentence of your choice. Ask the user to input a number, convert it to an integer, and print the sentence repeated that number of times.\n",
    "    - **Expected Input:** A number (e.g., \"3\")\n",
    "    - **Expected Output:** The sentence repeated the specified number of times."
   ]
  },
  {
   "cell_type": "code",
   "execution_count": 103,
   "id": "e657eeaa-9e87-4fe4-a56b-a43adeb8a3b0",
   "metadata": {},
   "outputs": [
    {
     "name": "stdin",
     "output_type": "stream",
     "text": [
      "Enter a Number:  3\n"
     ]
    },
    {
     "data": {
      "text/plain": [
       "'This is Nithin This is Nithin This is Nithin '"
      ]
     },
     "execution_count": 103,
     "metadata": {},
     "output_type": "execute_result"
    }
   ],
   "source": [
    "str = \"This is Nithin \"\n",
    "n = int(input(\"Enter a Number: \"))\n",
    "str * 3"
   ]
  },
  {
   "cell_type": "markdown",
   "id": "d8302013-c263-4534-af39-0aa70005aa3f",
   "metadata": {},
   "source": [
    "6. Given two variables `x` and `y`, perform the following operations and print the results:\n",
    "    - Addition of `x` and `y`.\n",
    "    - Subtraction of `y` from `x`.\n",
    "    - Multiplication of `x` and `y`.\n",
    "    - Division of `x` by `y`.\n",
    "    - `x` raised to the power of `y`.\n",
    "    - The remainder when `x` is divided by `y`.\n",
    "    - The floor division of `x` by `y`."
   ]
  },
  {
   "cell_type": "code",
   "execution_count": 106,
   "id": "8d0ea3ba-beb6-40ae-acfa-5e9f2dc4b167",
   "metadata": {},
   "outputs": [
    {
     "name": "stdout",
     "output_type": "stream",
     "text": [
      "30\n",
      "10\n",
      "200\n",
      "10\n",
      "100000000000000000000\n",
      "0.5\n",
      "0\n"
     ]
    }
   ],
   "source": [
    "x = 10\n",
    "y = 20\n",
    "a = x+y\n",
    "print(a)\n",
    "s = y-x\n",
    "print(s)\n",
    "m = x*y\n",
    "print(m)\n",
    "d = x%y\n",
    "print(d)\n",
    "p = x ** y\n",
    "print(p)\n",
    "db = x/y\n",
    "print(db)\n",
    "fd = x//y\n",
    "print(fd)"
   ]
  },
  {
   "cell_type": "markdown",
   "id": "dae15f66-7d0e-4080-a350-7d7a8996327b",
   "metadata": {},
   "source": [
    "7. Define a variable `value` and assign any numerical value to it. Ask the user to input a new value. Update the variable `value` with the new input and print the updated value.\n",
    "- **Expected Input:** A numerical value (e.g., \"42\")\n",
    "- **Expected Output:** The updated value of the variable."
   ]
  },
  {
   "cell_type": "code",
   "execution_count": null,
   "id": "f1f464d7-cd08-4957-a550-5898a9c2caa6",
   "metadata": {},
   "outputs": [],
   "source": [
    "value = 10\n",
    "user = input(\"New Value: \")"
   ]
  }
 ],
 "metadata": {
  "kernelspec": {
   "display_name": "Python 3 (ipykernel)",
   "language": "python",
   "name": "python3"
  },
  "language_info": {
   "codemirror_mode": {
    "name": "ipython",
    "version": 3
   },
   "file_extension": ".py",
   "mimetype": "text/x-python",
   "name": "python",
   "nbconvert_exporter": "python",
   "pygments_lexer": "ipython3",
   "version": "3.12.2"
  }
 },
 "nbformat": 4,
 "nbformat_minor": 5
}
