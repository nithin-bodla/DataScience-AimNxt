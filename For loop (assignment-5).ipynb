{
 "cells": [
  {
   "cell_type": "markdown",
   "id": "0f0c38d3-d4eb-4d1d-8bf2-3e86f70cc1f8",
   "metadata": {},
   "source": [
    "q1 :\n",
    "ineruon \n",
    "ineruon ineruon \n",
    "ineruon ineruon ineruon\n",
    "ineruon ineruon ineruon ineruon\n",
    "\n",
    "q2 - \n",
    "\n",
    "          ineruon\n",
    "    ineruon      ineruon\n",
    "ineruon\t\tineruon \tineruon\n",
    "\tineruon\t\t ineruon\n",
    "\t\t  ineruon\n",
    "\n",
    "l = [[1,2,3,4] , (2,3,4,5,6) , (3,4,5,6,7) , set([23,4,5,45,4,4,5,45,45,4,5]) , {'k1' :\"sudh\" , \"k2\" : \"ineuron\",\"k3\":\n",
    "            \"kumar\" , 3:6 , 7:8} , [\"ineuron\" , \"data science \"]]\n",
    "\n",
    "q3 : Try to extract all the list entity \n",
    "q4 : Try to extract all the dict enteties\n",
    "q5 : Try to extract all the tuples entities\n",
    "q6 : Try to extract all the numerical data it may b a part of dict key and values \n",
    "q7 : Try to give summation of all the numeric data \n",
    "q8 : Try to filter out all the odd values out all numeric data which is a part of a list \n",
    "q9 : Try to extract \"ineruon\" out of this data\n",
    "q10 :Try to find out a number of occurances of all the data \n",
    "q11 : Try to find out number of keys in dict element\n",
    "q12 : Try to filter out all the string data \n",
    "q13 : Try to Find  out alphanum in data\n",
    "q14 : Try to find out multiplication of all numeric value in  the individual collection inside dataset \n",
    "q15 : Try to unwrape all the collection inside collection and create a flat list \n",
    "    "
   ]
  },
  {
   "cell_type": "markdown",
   "id": "e564380a-6b18-427a-ac9a-bd476529ed73",
   "metadata": {},
   "source": [
    "q1 :\n",
    "ineruon \n",
    "ineruon ineruon \n",
    "ineruon ineruon ineruon\n",
    "ineruon ineruon ineruon ineruon"
   ]
  },
  {
   "cell_type": "code",
   "execution_count": 24,
   "id": "feba93da-86bb-48b7-b4ae-0fdc619c8af6",
   "metadata": {},
   "outputs": [
    {
     "name": "stdout",
     "output_type": "stream",
     "text": [
      "ineruon \n",
      "\n",
      "ineruon ineruon \n",
      "\n",
      "ineruon ineruon ineruon \n",
      "\n",
      "ineruon ineruon ineruon ineruon \n",
      "\n"
     ]
    }
   ],
   "source": [
    "q = 4\n",
    "for i in range(4):\n",
    "    for j in range(0,i+1):\n",
    "        print(\"ineruon \", end= \"\")\n",
    "    print(\"\\n\")"
   ]
  },
  {
   "cell_type": "markdown",
   "id": "b28b0cd9-5da4-4d68-a3d1-d4d2eb9cf7f3",
   "metadata": {},
   "source": [
    "q2 - \n",
    "\n",
    "          ineruon\n",
    "    ineruon      ineruon\n",
    "ineruon\t\tineruon \tineruon\n",
    "\tineruon\t\t ineruon\n",
    "\t\t  ineruon"
   ]
  },
  {
   "cell_type": "code",
   "execution_count": null,
   "id": "8e5a36cf-9d83-4b04-931f-f8d348f227a9",
   "metadata": {},
   "outputs": [],
   "source": []
  },
  {
   "cell_type": "markdown",
   "id": "91b81280-424e-4bbc-8a55-a63754cbcf64",
   "metadata": {},
   "source": [
    "q3 : Try to extract all the list entity "
   ]
  },
  {
   "cell_type": "code",
   "execution_count": 66,
   "id": "cdcc2822-8536-47f4-9d60-46dbd83da7d8",
   "metadata": {},
   "outputs": [
    {
     "name": "stdout",
     "output_type": "stream",
     "text": [
      "[1, 2, 3, 4]\n",
      "(2, 3, 4, 5, 6)\n",
      "(3, 4, 5, 6, 7)\n",
      "{45, 4, 5, 23}\n",
      "{'k1': 'sudh', 'k2': 'ineuron', 'k3': 'kumar', 3: 6, 7: 8}\n",
      "['ineuron', 'data science ']\n"
     ]
    }
   ],
   "source": [
    "l = [[1,2,3,4] , (2,3,4,5,6) , (3,4,5,6,7) , set([23,4,5,45,4,4,5,45,45,4,5]) , {'k1' :\"sudh\" , \"k2\" : \"ineuron\",\"k3\":\n",
    "            \"kumar\" , 3:6 , 7:8} , [\"ineuron\" , \"data science \"]]\n",
    "for i in l:\n",
    "    print(i)"
   ]
  },
  {
   "cell_type": "markdown",
   "id": "16ebbcaf-27ed-43f3-8d92-97bb28f8768a",
   "metadata": {},
   "source": [
    "q4 : Try to extract all the dict enteties"
   ]
  },
  {
   "cell_type": "code",
   "execution_count": 68,
   "id": "1bca2e79-193c-4011-86e1-179a64620912",
   "metadata": {},
   "outputs": [
    {
     "name": "stdout",
     "output_type": "stream",
     "text": [
      "{'k1': 'sudh', 'k2': 'ineuron', 'k3': 'kumar', 3: 6, 7: 8}\n"
     ]
    }
   ],
   "source": [
    "for i in l:\n",
    "    if type(i) == dict:\n",
    "        print(i)\n",
    "    "
   ]
  },
  {
   "cell_type": "markdown",
   "id": "f69f7e14-9bd4-45ee-8c69-634538821f93",
   "metadata": {},
   "source": [
    "q5 : Try to extract all the tuples entities"
   ]
  },
  {
   "cell_type": "code",
   "execution_count": 73,
   "id": "671ca683-23bf-4d64-8ed0-3e4ae6e4efde",
   "metadata": {},
   "outputs": [
    {
     "name": "stdout",
     "output_type": "stream",
     "text": [
      "(2, 3, 4, 5, 6)\n",
      "(3, 4, 5, 6, 7)\n"
     ]
    }
   ],
   "source": [
    "for i in l :\n",
    "    if type(i) == tuple:\n",
    "        print(i)"
   ]
  },
  {
   "cell_type": "markdown",
   "id": "e5d48155-8863-4873-abd7-3a8566ac08b1",
   "metadata": {},
   "source": [
    "q6 : Try to extract all the numerical data it may b a part of dict key and values "
   ]
  },
  {
   "cell_type": "code",
   "execution_count": 106,
   "id": "f01c4a0e-2233-4d9a-ac36-b41c72e681bd",
   "metadata": {},
   "outputs": [
    {
     "name": "stdout",
     "output_type": "stream",
     "text": [
      "1\n",
      "2\n",
      "3\n",
      "4\n",
      "2\n",
      "3\n",
      "4\n",
      "5\n",
      "6\n",
      "3\n",
      "4\n",
      "5\n",
      "6\n",
      "7\n",
      "3 : 6\n",
      "7 : 8\n"
     ]
    }
   ],
   "source": [
    "for i in l:\n",
    "    if type(i) == list or type(i) == tuple :\n",
    "        for j in i:\n",
    "            if type(j) == int:\n",
    "                print(j)\n",
    "                \n",
    "    if type(i) == dict:\n",
    "        for k,v in i.items():\n",
    "            if type(k) == int or type(v) ==int:\n",
    "                print(k , \":\" ,v)"
   ]
  },
  {
   "cell_type": "markdown",
   "id": "eda76f07-1a27-4427-a218-dead08c01e7d",
   "metadata": {},
   "source": [
    "q7 : Try to give summation of all the numeric data "
   ]
  },
  {
   "cell_type": "code",
   "execution_count": 111,
   "id": "ea1623c2-9243-45cb-9256-7d417f299948",
   "metadata": {},
   "outputs": [
    {
     "name": "stdout",
     "output_type": "stream",
     "text": [
      "Summation:  156\n"
     ]
    }
   ],
   "source": [
    "sum=0\n",
    "for i in l:\n",
    "    if type(i) == list or type(i) == tuple or type(i) == set:\n",
    "        for j in i:\n",
    "            if type(j)==int:\n",
    "                sum=sum+j\n",
    "    if type(i) == dict:\n",
    "        for k,v in i.items():\n",
    "            if type(k) == int or type(v) == int:\n",
    "                sum=sum+k+v\n",
    "print(\"Summation: \" , sum)\n",
    "            "
   ]
  },
  {
   "cell_type": "markdown",
   "id": "83fdfc84-9caf-4b0f-8906-1aa1bb27acc2",
   "metadata": {},
   "source": [
    "q8 : Try to filter out all the odd values out all numeric data which is a part of a list "
   ]
  },
  {
   "cell_type": "code",
   "execution_count": 128,
   "id": "02453fda-89f6-42cd-93a2-682ad3fb14b3",
   "metadata": {},
   "outputs": [
    {
     "data": {
      "text/plain": [
       "[2, 4]"
      ]
     },
     "execution_count": 128,
     "metadata": {},
     "output_type": "execute_result"
    }
   ],
   "source": [
    "e = []\n",
    "for i in l:\n",
    "    if type(i) == list:\n",
    "        for j in i:\n",
    "            if type(j) == int:\n",
    "                if j%2==0:\n",
    "                    e.append(j)\n",
    "e"
   ]
  },
  {
   "cell_type": "markdown",
   "id": "065c1531-7deb-4f78-bc2e-98fddd08bf05",
   "metadata": {},
   "source": [
    "q9 : Try to extract \"ineruon\" out of this data"
   ]
  },
  {
   "cell_type": "code",
   "execution_count": 131,
   "id": "1fef0a0b-4964-4f1f-adc2-a76c0ff534c4",
   "metadata": {},
   "outputs": [
    {
     "data": {
      "text/plain": [
       "[[1, 2, 3, 4],\n",
       " (2, 3, 4, 5, 6),\n",
       " (3, 4, 5, 6, 7),\n",
       " {4, 5, 23, 45},\n",
       " {'k1': 'sudh', 'k2': 'ineuron', 'k3': 'kumar', 3: 6, 7: 8},\n",
       " ['ineuron', 'data science ']]"
      ]
     },
     "execution_count": 131,
     "metadata": {},
     "output_type": "execute_result"
    }
   ],
   "source": [
    "l"
   ]
  },
  {
   "cell_type": "code",
   "execution_count": 137,
   "id": "8dd89159-eaa1-4bd1-94b6-6e2bb6c1d7fe",
   "metadata": {},
   "outputs": [
    {
     "data": {
      "text/plain": [
       "'ineuron'"
      ]
     },
     "execution_count": 137,
     "metadata": {},
     "output_type": "execute_result"
    }
   ],
   "source": [
    "l[5][0]"
   ]
  },
  {
   "cell_type": "markdown",
   "id": "d3aee8fe-c67d-4437-9456-cb66f620c750",
   "metadata": {},
   "source": [
    "q10 :Try to find out a number of occurances of all the data "
   ]
  },
  {
   "cell_type": "code",
   "execution_count": 146,
   "id": "397aed7a-3994-4b6d-a52d-fa88d1e73a73",
   "metadata": {},
   "outputs": [
    {
     "name": "stdout",
     "output_type": "stream",
     "text": [
      "{1: 1, 2: 2, 3: 4, 4: 4, 5: 3, 6: 3, 7: 2, 45: 1, 23: 1, 'k1': 1, 'sudh': 1, 'k2': 1, 'ineuron': 2, 'k3': 1, 'kumar': 1, 8: 1, 'data science ': 1} "
     ]
    }
   ],
   "source": [
    "occurrences={}\n",
    "for item in l:\n",
    "    if isinstance(item, (list, tuple, set)):  # If item is a list, tuple, or set\n",
    "        for i in item:\n",
    "            occurrences[i] = occurrences.get(i, 0) + 1\n",
    "    elif isinstance(item, dict):  # If item is a dictionary\n",
    "        for k, v in item.items():\n",
    "            occurrences[k] = occurrences.get(k, 0) + 1  # Count dictionary keys\n",
    "            occurrences[v] = occurrences.get(v, 0) + 1  # Count dictionary values\n",
    "print(occurrences, end= \" \")"
   ]
  },
  {
   "cell_type": "markdown",
   "id": "517415e8-a22a-4040-b8e7-9940be7adf55",
   "metadata": {},
   "source": [
    "q11 : Try to find out number of keys in dict element"
   ]
  },
  {
   "cell_type": "code",
   "execution_count": 161,
   "id": "b88c2493-19d8-4535-b651-b312b25001af",
   "metadata": {},
   "outputs": [
    {
     "data": {
      "text/plain": [
       "5"
      ]
     },
     "execution_count": 161,
     "metadata": {},
     "output_type": "execute_result"
    }
   ],
   "source": [
    "k = 0\n",
    "for i in l:\n",
    "    if isinstance(i,dict):\n",
    "        for j in i.keys():\n",
    "            k=k+1\n",
    "k"
   ]
  },
  {
   "cell_type": "markdown",
   "id": "5a6a0695-61c4-47db-954c-89bc580a3578",
   "metadata": {},
   "source": [
    "q12 : Try to filter out all the string data "
   ]
  },
  {
   "cell_type": "code",
   "execution_count": 186,
   "id": "1b63c7e4-2d55-44b6-bd42-b0340339adc4",
   "metadata": {},
   "outputs": [
    {
     "name": "stdout",
     "output_type": "stream",
     "text": [
      "[[1, 2, 3, 4], (2, 3, 4, 5, 6), (3, 4, 5, 6, 7), {45, 4, 5, 23}, {'k1': 'sudh', 'k2': 'ineuron', 'k3': 'kumar', 3: 6, 7: 8}, ['ineuron', 'data science ']]\n",
      "k1\n",
      "sudh\n",
      "k2\n",
      "ineuron\n",
      "k3\n",
      "kumar\n",
      "ineuron\n",
      "data science \n"
     ]
    }
   ],
   "source": [
    "print(l)\n",
    "for i in l:\n",
    "    if isinstance(i,(list,tuple,set)):\n",
    "        for j in i:\n",
    "            if isinstance(j, str):\n",
    "                print(j)\n",
    "    elif isinstance(i,dict):\n",
    "        for k,v in i.items():\n",
    "            if isinstance(k,str):\n",
    "                print(k)\n",
    "            if isinstance(v,str):\n",
    "                print(v)\n",
    "                "
   ]
  },
  {
   "cell_type": "markdown",
   "id": "a4df5c10-7ce8-4cf0-b25e-cdb9123fd53e",
   "metadata": {},
   "source": [
    "q13 : Try to Find  out alphanum in data"
   ]
  },
  {
   "cell_type": "code",
   "execution_count": 188,
   "id": "54abf77b-5505-4f0c-a8aa-67b826d4df32",
   "metadata": {},
   "outputs": [
    {
     "name": "stdout",
     "output_type": "stream",
     "text": [
      "[[1, 2, 3, 4], (2, 3, 4, 5, 6), (3, 4, 5, 6, 7), {45, 4, 5, 23}, {'k1': 'sudh', 'k2': 'ineuron', 'k3': 'kumar', 3: 6, 7: 8}, ['ineuron', 'data science ']]\n"
     ]
    },
    {
     "data": {
      "text/plain": [
       "['k1', 'sudh', 'k2', 'ineuron', 'k3', 'kumar', 'ineuron']"
      ]
     },
     "execution_count": 188,
     "metadata": {},
     "output_type": "execute_result"
    }
   ],
   "source": [
    "print(l)\n",
    "alphanum=[]\n",
    "for i in l:\n",
    "    if isinstance(i,(list,tuple,set)):\n",
    "        for j in i:\n",
    "            if isinstance(j, str) and j.isalnum():\n",
    "                alphanum.append(j)\n",
    "    elif isinstance(i,dict):\n",
    "        for k,v in i.items():\n",
    "            if isinstance(k,str) and k.isalnum():\n",
    "                alphanum.append(k)\n",
    "            if isinstance(v,str) and v.isalnum():\n",
    "                alphanum.append(v)\n",
    "alphanum"
   ]
  },
  {
   "cell_type": "markdown",
   "id": "2dd4ae90-316a-4f42-a038-a342c6c5f2be",
   "metadata": {},
   "source": [
    "q14 : Try to find out multiplication of all numeric value in  the individual collection inside dataset "
   ]
  },
  {
   "cell_type": "code",
   "execution_count": 209,
   "id": "19c0a11f-2cc1-432a-8e5d-449d7227a98f",
   "metadata": {},
   "outputs": [
    {
     "data": {
      "text/plain": [
       "[24, 720, 2520, 20700, 21, 1]"
      ]
     },
     "execution_count": 209,
     "metadata": {},
     "output_type": "execute_result"
    }
   ],
   "source": [
    "coll=[]\n",
    "for i in l:\n",
    "    if type(i) == list or type(i) == tuple or type(i) == set:\n",
    "        mul=1\n",
    "        for j in i:\n",
    "            if type(j)==int:\n",
    "                mul=mul*j\n",
    "        coll.append(mul)\n",
    "    if type(i) == dict:\n",
    "        mul=1\n",
    "        for k,v in i.items():\n",
    "            if type(k) == int:\n",
    "                mul=mul*k\n",
    "            elif type(v) == int:\n",
    "                mul = mul*v\n",
    "        coll.append(mul)\n",
    "coll"
   ]
  },
  {
   "cell_type": "markdown",
   "id": "a80a73db-655a-4616-a6cc-19c16fef0308",
   "metadata": {},
   "source": [
    "q15 : Try to unwrape all the collection inside collection and create a flat list "
   ]
  },
  {
   "cell_type": "code",
   "execution_count": 218,
   "id": "1218fe4a-158b-49c4-9d8c-39597256c286",
   "metadata": {},
   "outputs": [
    {
     "name": "stdout",
     "output_type": "stream",
     "text": [
      "[1, 2, 3, 4, 2, 3, 4, 5, 6, 3, 4, 5, 6, 7, 45, 4, 5, 23, 'k1', 'sudh', 'k2', 'ineuron', 'k3', 'kumar', 3, 6, 7, 8, 'ineuron', 'data science '] "
     ]
    }
   ],
   "source": [
    "coll=[]\n",
    "for i in l:\n",
    "    if type(i) == list or type(i) == tuple or type(i) == set:\n",
    "        for j in i:\n",
    "            coll.append(j)\n",
    "    if type(i) == dict:\n",
    "        for k,v in i.items():\n",
    "                coll.append(k)\n",
    "                coll.append(v)\n",
    "print(coll, end=\" \")"
   ]
  },
  {
   "cell_type": "markdown",
   "id": "fb0bf6a6-ed73-4179-9138-abfc948b65af",
   "metadata": {},
   "source": [
    "### Assignment"
   ]
  },
  {
   "cell_type": "markdown",
   "id": "c91e35a4-b1a3-4a6d-9230-f27457e12a45",
   "metadata": {},
   "source": [
    "1. Filter Floats from a List\n",
    "Write a program that extracts all the floating-point numbers from a list containing mixed data types. The program should create a new list containing only the floats.\n",
    "\n",
    "Example Input:\n",
    "l = [12.5, 45, \"hello\", 23.0, 56.78, 90, \"world\"]\n",
    "\n",
    "Expected Output:\n",
    "\n",
    "[12.5, 23.0, 56.78]\n",
    "\n",
    "2. Filter Strings from a List\n",
    "Write a program to extract all the string elements from a mixed list and store them in a new list.\n",
    "\n",
    "Example Input:\n",
    "\n",
    "l = [1, \"Python\", 3.14, \"Coding\", 42, \"AI\"]\n",
    "Expected Output:\n",
    "\n",
    "[\"Python\", \"Coding\", \"AI\"]\n",
    "    \n",
    "3. Filter Non-Integers from a List\n",
    "Write a program to create a new list that contains all elements from a given list except for integers.\n",
    "\n",
    "Example Input:\n",
    "l = [1, 2, 3, \"data\", 4.5, True, None]\n",
    "Expected Output:\n",
    "\n",
    "[\"data\", 4.5, True, None]\n",
    "\n",
    "4. Filter Boolean Values from a List\n",
    "Write a program to extract all the boolean values (True or False) from a mixed list.\n",
    "\n",
    "Example Input:\n",
    "l = [True, 42, \"yes\", False, 3.14, \"AI\"]\n",
    "\n",
    "Expected Output:\n",
    "\n",
    "[True, False]\n",
    "\n",
    "5. Filter Even Integers from a List\n",
    "Write a program that filters only the even integers from a mixed list and stores them in a new list.\n",
    "\n",
    "Example Input:\n",
    "l = [1, 2, 3, 4, 5, 6, \"even\", 7.8]\n",
    "    \n",
    "Expected Output:\n",
    "[2, 4, 6]\n",
    "    \n",
    "6. Filter Odd Integers from a List\n",
    "Write a program that extracts only the odd integers from a mixed list into a new list.\n",
    "\n",
    "Example Input:\n",
    "l = [10, 21, 32, 43, \"odd\", 54, 65]\n",
    "\n",
    "Expected Output:\n",
    "[21, 43, 65]\n",
    "\n",
    "7. Filter Elements of a Specific Length\n",
    "Write a program to filter all string elements with a length greater than 4 characters from a mixed list.\n",
    "\n",
    "Example Input:\n",
    "l = [\"apple\", \"AI\", 123, \"data\", \"hello\", 3.14]\n",
    "    \n",
    "Expected Output:\n",
    "\n",
    "[\"apple\", \"hello\"]\n",
    "    \n",
    "8. Filter None Values\n",
    "Write a program to remove all None values from a mixed list and store the remaining elements in a new list.\n",
    "\n",
    "Example Input:\n",
    "l = [1, None, \"Python\", None, 45.6, \"data\"]\n",
    "\n",
    "Expected Output:\n",
    "[1, \"Python\", 45.6, \"data\"]\n",
    "\n",
    "9. Filter Alphabetic Strings Only\n",
    "Write a program that extracts only alphabetic strings (strings without numbers or special characters) from a mixed list.\n",
    "\n",
    "Example Input:\n",
    "l = [\"AI\", \"Data123\", \"hello!\", \"world\", 42, \"Python3\"]\n",
    "\n",
    "Expected Output:\n",
    "[\"AI\", \"world\"]\n",
    "\n",
    "10. Filter Elements of Specific Data Type\n",
    "Write a program that asks the user to input a data type (e.g., int, float, str) and filters elements of that type from a given mixed list.\n",
    "\n",
    "Example Input:\n",
    "l = [1, 2.5, \"hello\", 3, 4.0, \"world\"]\n",
    "    \n",
    "Data type to filter: float\n",
    "\n",
    "Expected Output:\n",
    "\n",
    "[2.5, 4.0]"
   ]
  },
  {
   "cell_type": "code",
   "execution_count": null,
   "id": "5375ea72-39ad-4f31-8412-61ebeae2f2a4",
   "metadata": {},
   "outputs": [],
   "source": [
    "### Answe"
   ]
  },
  {
   "cell_type": "markdown",
   "id": "04ac11df-eefc-4747-a4e2-822213dc7d5b",
   "metadata": {},
   "source": [
    "1. Filter Floats from a List\n",
    "Write a program that extracts all the floating-point numbers from a list containing mixed data types. The program should create a new list containing only the floats.\n",
    "\n",
    "Example Input:\n",
    "l = [12.5, 45, \"hello\", 23.0, 56.78, 90, \"world\"]\n",
    "\n",
    "Expected Output:\n",
    "\n",
    "[12.5, 23.0, 56.78]"
   ]
  },
  {
   "cell_type": "code",
   "execution_count": 230,
   "id": "d5bce80a-256f-473e-b264-b32bf3650879",
   "metadata": {},
   "outputs": [
    {
     "data": {
      "text/plain": [
       "[12.5, 23.0, 56.78]"
      ]
     },
     "execution_count": 230,
     "metadata": {},
     "output_type": "execute_result"
    }
   ],
   "source": [
    "f = []\n",
    "l = [12.5, 45, \"hello\", 23.0, 56.78, 90, \"world\"]\n",
    "for i in l:\n",
    "    if isinstance(i,float):\n",
    "        f.append(i)\n",
    "f"
   ]
  },
  {
   "cell_type": "markdown",
   "id": "d35016e1-dce9-484a-b833-94b49d301b33",
   "metadata": {},
   "source": [
    "2. Filter Strings from a List\n",
    "Write a program to extract all the string elements from a mixed list and store them in a new list.\n",
    "\n",
    "Example Input:\n",
    "\n",
    "l = [1, \"Python\", 3.14, \"Coding\", 42, \"AI\"]\n",
    "\n",
    "Expected Output:\n",
    "\n",
    "[\"Python\", \"Coding\", \"AI\"]\n",
    "    "
   ]
  },
  {
   "cell_type": "code",
   "execution_count": 234,
   "id": "e0ba528b-9d85-4b79-98f2-38b56851583b",
   "metadata": {},
   "outputs": [
    {
     "data": {
      "text/plain": [
       "['Python', 'Coding', 'AI']"
      ]
     },
     "execution_count": 234,
     "metadata": {},
     "output_type": "execute_result"
    }
   ],
   "source": [
    "l = [1, \"Python\", 3.14, \"Coding\", 42, \"AI\"]\n",
    "s=[]\n",
    "for i in l:\n",
    "    if isinstance(i,str):\n",
    "        s.append(i)\n",
    "s\n",
    "        "
   ]
  },
  {
   "cell_type": "markdown",
   "id": "74de50a7-d388-42f9-aeb3-616dff96a2a4",
   "metadata": {},
   "source": [
    "3. Filter Non-Integers from a List\n",
    "Write a program to create a new list that contains all elements from a given list except for integers.\n",
    "\n",
    "Example Input:\n",
    "l = [1, 2, 3, \"data\", 4.5, True, None]\n",
    "\n",
    "Expected Output:\n",
    "\n",
    "[\"data\", 4.5, True, None]\n"
   ]
  },
  {
   "cell_type": "code",
   "execution_count": 256,
   "id": "c359b0d5-4bde-4888-af84-e67d407357d4",
   "metadata": {},
   "outputs": [
    {
     "data": {
      "text/plain": [
       "['data', 4.5, True, None]"
      ]
     },
     "execution_count": 256,
     "metadata": {},
     "output_type": "execute_result"
    }
   ],
   "source": [
    "l = [1, 2, 3, \"data\", 4.5, True, None]\n",
    "m=[]\n",
    "for i in l:\n",
    "    if isinstance(i,(float,str,bool)):\n",
    "        m.append(i)\n",
    "    elif isinstance(i,int):\n",
    "        pass\n",
    "    else:\n",
    "        m.append(i)\n",
    "m"
   ]
  },
  {
   "cell_type": "markdown",
   "id": "f4ce09d1-447f-4d95-8fe2-b7a4cf7bd6f2",
   "metadata": {},
   "source": [
    "4. Filter Boolean Values from a List\n",
    "Write a program to extract all the boolean values (True or False) from a mixed list.\n",
    "\n",
    "Example Input:\n",
    "l = [True, 42, \"yes\", False, 3.14, \"AI\"]\n",
    "\n",
    "Expected Output:\n",
    "\n",
    "[True, False]"
   ]
  },
  {
   "cell_type": "code",
   "execution_count": 264,
   "id": "ed03ad1c-de48-4f11-ab28-8877ae0cefc5",
   "metadata": {},
   "outputs": [
    {
     "data": {
      "text/plain": [
       "[True, False]"
      ]
     },
     "execution_count": 264,
     "metadata": {},
     "output_type": "execute_result"
    }
   ],
   "source": [
    "l = [True, 42, \"yes\", False, 3.14, \"AI\"]\n",
    "b=[]\n",
    "\n",
    "for i in l:\n",
    "    if isinstance(i,bool):\n",
    "        b.append(i)\n",
    "b       "
   ]
  },
  {
   "cell_type": "markdown",
   "id": "1218a4df-5600-4088-ac32-450db18d3de5",
   "metadata": {},
   "source": [
    "5. Filter Even Integers from a List\n",
    "Write a program that filters only the even integers from a mixed list and stores them in a new list.\n",
    "\n",
    "Example Input:\n",
    "l = [1, 2, 3, 4, 5, 6, \"even\", 7.8]\n",
    "    \n",
    "Expected Output:\n",
    "[2, 4, 6]"
   ]
  },
  {
   "cell_type": "code",
   "execution_count": 271,
   "id": "fa960ded-d5cd-45b4-b9ea-353e1e5c2af6",
   "metadata": {},
   "outputs": [
    {
     "data": {
      "text/plain": [
       "[2, 4, 6]"
      ]
     },
     "execution_count": 271,
     "metadata": {},
     "output_type": "execute_result"
    }
   ],
   "source": [
    "l = [1, 2, 3, 4, 5, 6, \"even\", 7.8]\n",
    "e = []\n",
    "\n",
    "for i in l:\n",
    "    if isinstance(i,int):\n",
    "        if i%2==0:\n",
    "            e.append(i)\n",
    "e"
   ]
  },
  {
   "cell_type": "markdown",
   "id": "4f9d2c4c-f4a6-491b-b306-eaa810d7fdca",
   "metadata": {},
   "source": [
    "6. Filter Odd Integers from a List\n",
    "Write a program that extracts only the odd integers from a mixed list into a new list.\n",
    "\n",
    "Example Input:\n",
    "l = [10, 21, 32, 43, \"odd\", 54, 65]\n",
    "\n",
    "Expected Output:\n",
    "[21, 43, 65]\n"
   ]
  },
  {
   "cell_type": "code",
   "execution_count": 274,
   "id": "8cc9200a-8e47-402c-872d-99450c402260",
   "metadata": {},
   "outputs": [
    {
     "data": {
      "text/plain": [
       "[21, 43, 65]"
      ]
     },
     "execution_count": 274,
     "metadata": {},
     "output_type": "execute_result"
    }
   ],
   "source": [
    "l = [10, 21, 32, 43, \"odd\", 54, 65]\n",
    "o = []\n",
    "\n",
    "for i in l:\n",
    "    if isinstance(i,int):\n",
    "        if i%2!=0:\n",
    "            o.append(i)\n",
    "o       "
   ]
  },
  {
   "cell_type": "markdown",
   "id": "9d3b6fbf-8181-4d42-9adc-d3e3dcca20cf",
   "metadata": {},
   "source": [
    "7. Filter Elements of a Specific Length\n",
    "Write a program to filter all string elements with a length greater than 4 characters from a mixed list.\n",
    "\n",
    "Example Input:\n",
    "l = [\"apple\", \"AI\", 123, \"data\", \"hello\", 3.14]\n",
    "    \n",
    "Expected Output:\n",
    "\n",
    "[\"apple\", \"hello\"]"
   ]
  },
  {
   "cell_type": "code",
   "execution_count": 283,
   "id": "3d2c4c9a-e66e-45c2-9dc1-8f1f20cbed02",
   "metadata": {},
   "outputs": [
    {
     "data": {
      "text/plain": [
       "['apple', 'hello']"
      ]
     },
     "execution_count": 283,
     "metadata": {},
     "output_type": "execute_result"
    }
   ],
   "source": [
    "l = [\"apple\", \"AI\", 123, \"data\", \"hello\", 3.14]\n",
    "s = []\n",
    "for i in l:\n",
    "    if isinstance(i,str):\n",
    "        if len(i)>4:\n",
    "            s.append(i)\n",
    "s"
   ]
  },
  {
   "cell_type": "markdown",
   "id": "3780187c-7720-4631-86df-080de1011f74",
   "metadata": {},
   "source": [
    "8. Filter None Values\n",
    "Write a program to remove all None values from a mixed list and store the remaining elements in a new list.\n",
    "\n",
    "Example Input:\n",
    "l = [1, None, \"Python\", None, 45.6, \"data\"]\n",
    "\n",
    "Expected Output:\n",
    "[1, \"Python\", 45.6, \"data\"]"
   ]
  },
  {
   "cell_type": "code",
   "execution_count": 290,
   "id": "5de3be03-aec0-4f46-bf8f-539f9e762495",
   "metadata": {},
   "outputs": [
    {
     "data": {
      "text/plain": [
       "[1, 'Python', 45.6, 'data']"
      ]
     },
     "execution_count": 290,
     "metadata": {},
     "output_type": "execute_result"
    }
   ],
   "source": [
    "l = [1, None, \"Python\", None, 45.6, \"data\"]\n",
    "s = []\n",
    "for i in l:\n",
    "    if isinstance(i,(int,str,float)):\n",
    "        s.append(i)\n",
    "s"
   ]
  },
  {
   "cell_type": "markdown",
   "id": "f887b4e0-d2bd-488a-809a-98e3754aae1e",
   "metadata": {},
   "source": [
    "9. Filter Alphabetic Strings Only\n",
    "Write a program that extracts only alphabetic strings (strings without numbers or special characters) from a mixed list.\n",
    "\n",
    "Example Input:\n",
    "l = [\"AI\", \"Data123\", \"hello!\", \"world\", 42, \"Python3\"]\n",
    "\n",
    "Expected Output:\n",
    "[\"AI\", \"world\"]"
   ]
  },
  {
   "cell_type": "code",
   "execution_count": 295,
   "id": "75a2e505-a09a-4d84-b48c-c63ab57e1e71",
   "metadata": {},
   "outputs": [
    {
     "data": {
      "text/plain": [
       "['AI', 'world']"
      ]
     },
     "execution_count": 295,
     "metadata": {},
     "output_type": "execute_result"
    }
   ],
   "source": [
    "l = [\"AI\", \"Data123\", \"hello!\", \"world\", 42, \"Python3\"]\n",
    "a = []\n",
    "for i in l:\n",
    "    if isinstance(i,str):\n",
    "        if i.isalpha():\n",
    "            a.append(i)\n",
    "a"
   ]
  },
  {
   "cell_type": "markdown",
   "id": "18b0ae42-aa30-4172-b3d5-805e573ecf4b",
   "metadata": {},
   "source": [
    "10. Filter Elements of Specific Data Type\n",
    "Write a program that asks the user to input a data type (e.g., int, float, str) and filters elements of that type from a given mixed list.\n",
    "\n",
    "Example Input:\n",
    "l = [1, 2.5, \"hello\", 3, 4.0, \"world\"]\n",
    "    \n",
    "Data type to filter: float\n",
    "\n",
    "Expected Output:\n",
    "\n",
    "[2.5, 4.0]"
   ]
  },
  {
   "cell_type": "code",
   "execution_count": 300,
   "id": "fd897c19-1517-4b48-aab1-cedf7e8161d6",
   "metadata": {},
   "outputs": [
    {
     "data": {
      "text/plain": [
       "[2.5, 4.0]"
      ]
     },
     "execution_count": 300,
     "metadata": {},
     "output_type": "execute_result"
    }
   ],
   "source": [
    "l = [1, 2.5, \"hello\", 3, 4.0, \"world\"]\n",
    "f = []\n",
    "for i in l:\n",
    "    if isinstance(i,float):\n",
    "        f.append(i)\n",
    "f"
   ]
  },
  {
   "cell_type": "code",
   "execution_count": null,
   "id": "d33966e4-472c-4769-b7f2-ce013de57c3d",
   "metadata": {},
   "outputs": [],
   "source": []
  }
 ],
 "metadata": {
  "kernelspec": {
   "display_name": "Python 3 (ipykernel)",
   "language": "python",
   "name": "python3"
  },
  "language_info": {
   "codemirror_mode": {
    "name": "ipython",
    "version": 3
   },
   "file_extension": ".py",
   "mimetype": "text/x-python",
   "name": "python",
   "nbconvert_exporter": "python",
   "pygments_lexer": "ipython3",
   "version": "3.12.2"
  }
 },
 "nbformat": 4,
 "nbformat_minor": 5
}
