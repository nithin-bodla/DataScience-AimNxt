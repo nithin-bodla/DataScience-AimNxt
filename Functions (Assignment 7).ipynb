{
 "cells": [
  {
   "cell_type": "markdown",
   "id": "8f3f559a-a5d6-4520-8709-ed18d925e82f",
   "metadata": {},
   "source": [
    "# Functions Assignment\n",
    "\n",
    "1. Write a function that takes two numbers and returns their sum.\r\n",
    "\r\n",
    "2. Write a function that takes a string and returns it reversed.\r\n",
    "\r\n",
    "3. Write a function that checks if a number is even or odd.\r\n",
    "\r\n",
    "4. Write a function that returns the factorial of a number.\r\n",
    "\r\n",
    "5. Write a function that takes a list and returns the maximum element.\r\n",
    "\r\n",
    "6. Print numbers from 1 to 10 using a for loop.\r\n",
    "\r\n",
    "7. Print each character in a string using a for loop.\r\n",
    "\r\n",
    "8. Write a program that sums all numbers in a list using a for loop.\r\n",
    "\r\n",
    "9. Print the multiplication table of a given number using a for loop.\r\n",
    "\r\n",
    "10. Write a program that prints all even numbers from 1 to 50.\r\n",
    "\r\n",
    "11. Print numbers from 1 to 10 using a while loop.\r\n",
    "\r\n",
    "12. Keep taking input from the user until they type \"exit\".\r\n",
    "\r\n",
    "13. Write a program that finds the sum of digits of a number using a while loop.\r\n",
    "\r\n",
    "14. Guess the number game: Keep asking the user until they guess the correct number.\r\n",
    "\r\n",
    "15. Print the Fibonacci sequence up to n terms using a while loop.\r\n",
    "\r\n",
    "16. Write a function that takes variable number of arguments using *args and returns their sum.\r\n",
    "\r\n",
    "17. Write a program that unpacks a list into separate variables using *.\r\n",
    "\r\n",
    "nums = [1, 2, 3, 4, 5]\r\n",
    "a, *b = nums  # Try printing a and b\r\n",
    "\r\n",
    "18. Create a function that multiplies a number with itself n times using * (e.g., 2 * 3 = 6).\r\n",
    "\r\n",
    "19. Use * to combine two lists into one:\r\n",
    "\r\n",
    "a = [1, 2]\r\n",
    "b = [3, 4]\r\n",
    "\r\n",
    "combined = [*a, *b]\r\n",
    "\r\n",
    "20. Write a function that checks whether a string is a palindrome.\r\n",
    "\r\n",
    "21. Write a function that returns the number of vowels in a given string.\r\n",
    "\r\n",
    "22. Write a function that takes a list of numbers and returns only the even numbers.\r\n",
    "\r\n",
    "23. Write a function that converts Celsius to Fahrenheit.\r\n",
    "\r\n",
    "24. Write a function that takes a string and returns the number of words in it.\r\n",
    "25. Write a function that uses *args and prints all values line by line with their index.\r\n",
    "26. Write a function that takes *args and returns their average.\r\n",
    "27. Keep asking the user to enter a positive number. Stop when they enter a negative number.\r\n",
    "\r\n",
    "28. Write a program to reverse a number using a while loop.\r\n",
    "\r\n",
    "29. Find the first number divisible by both 3 and 5 greater than 100 using while.\r\n",
    "\r\n",
    "30. Use a while loop to check if a number is a prime.\r\n",
    "\r\n",
    "31. Create a countdown timer using while, e.g., from 10 to 1.\r\n",
    "32. Print all elements in a nested list.\r\n",
    "\r\n",
    "33. Count how many times each character appears in a string.\r\n",
    "\r\n",
    "34. Use a for loop to find the largest number in a list without using max().\r\n",
    "\r\n",
    "35. Create a list of squares for numbers from 1 to 10 using a loop.\r\n"
   ]
  },
  {
   "cell_type": "markdown",
   "id": "6c99e7be-ac17-425d-a316-d29d0620d419",
   "metadata": {},
   "source": [
    "1. Write a function that takes two numbers and returns their sum."
   ]
  },
  {
   "cell_type": "code",
   "execution_count": 5,
   "id": "f30d2d3e-8d69-41ae-89db-f9e3117fbfad",
   "metadata": {},
   "outputs": [
    {
     "data": {
      "text/plain": [
       "30"
      ]
     },
     "execution_count": 5,
     "metadata": {},
     "output_type": "execute_result"
    }
   ],
   "source": [
    "def sum1(a,b):\n",
    "    return a+b\n",
    "\n",
    "sum1(10,20)"
   ]
  },
  {
   "cell_type": "markdown",
   "id": "87e366f0-b27b-46c9-bba9-868c2941726e",
   "metadata": {},
   "source": [
    "2. Write a function that takes a string and returns it reversed."
   ]
  },
  {
   "cell_type": "code",
   "execution_count": 7,
   "id": "5050aa48-decd-4e71-989b-c08281b8dfc8",
   "metadata": {},
   "outputs": [
    {
     "data": {
      "text/plain": [
       "'nohtyp gninrael si nihtin'"
      ]
     },
     "execution_count": 7,
     "metadata": {},
     "output_type": "execute_result"
    }
   ],
   "source": [
    "def string_reverse(a):\n",
    "    return a[::-1]\n",
    "\n",
    "string_reverse(\"nithin is learning python\")"
   ]
  },
  {
   "cell_type": "markdown",
   "id": "7208648c-0a99-4712-bb3a-f6073d89d9df",
   "metadata": {},
   "source": [
    "3. Write a function that checks if a number is even or odd."
   ]
  },
  {
   "cell_type": "code",
   "execution_count": 9,
   "id": "d4dd9db7-b8dd-4694-b47b-4825016e562d",
   "metadata": {},
   "outputs": [
    {
     "name": "stdout",
     "output_type": "stream",
     "text": [
      "Number is odd\n"
     ]
    }
   ],
   "source": [
    "def even_odd(a):\n",
    "    if a%2 == 0:\n",
    "        print(\"Number is even\")\n",
    "    else:\n",
    "        print(\"Number is odd\")\n",
    "\n",
    "even_odd(5)"
   ]
  },
  {
   "cell_type": "markdown",
   "id": "049f3723-e14a-4b79-b238-325e099cbb5b",
   "metadata": {},
   "source": [
    "4. Write a function that returns the factorial of a number."
   ]
  },
  {
   "cell_type": "code",
   "execution_count": 11,
   "id": "bc8a8a47-35e5-40e3-8f65-e621fea0dc29",
   "metadata": {},
   "outputs": [
    {
     "data": {
      "text/plain": [
       "120"
      ]
     },
     "execution_count": 11,
     "metadata": {},
     "output_type": "execute_result"
    }
   ],
   "source": [
    "def factorial(n):\n",
    "    f=1\n",
    "    for i in range(1,n+1):\n",
    "        if n==1:\n",
    "            return 1\n",
    "        else:\n",
    "            return n * factorial(n-1)\n",
    "\n",
    "factorial(5)"
   ]
  },
  {
   "cell_type": "markdown",
   "id": "ae2ec7a9-0fd3-4773-a1c4-25e669d33f04",
   "metadata": {},
   "source": [
    "5. Write a function that takes a list and returns the maximum element.\n"
   ]
  },
  {
   "cell_type": "code",
   "execution_count": 13,
   "id": "5aed2fbe-2e68-422d-8ded-f99176dfcd7c",
   "metadata": {},
   "outputs": [],
   "source": [
    "def find_max(lst):\n",
    "    a = max(lst)\n",
    "    return a"
   ]
  },
  {
   "cell_type": "code",
   "execution_count": 15,
   "id": "b5a47238-010f-4254-aa44-c54a4df35b51",
   "metadata": {},
   "outputs": [],
   "source": [
    "lst=[1,2,3,4,5,6]"
   ]
  },
  {
   "cell_type": "code",
   "execution_count": 17,
   "id": "83521ee4-5545-4983-b7d6-ad12c47c781b",
   "metadata": {},
   "outputs": [
    {
     "data": {
      "text/plain": [
       "6"
      ]
     },
     "execution_count": 17,
     "metadata": {},
     "output_type": "execute_result"
    }
   ],
   "source": [
    "find_max(lst)"
   ]
  },
  {
   "cell_type": "markdown",
   "id": "132165f7-672b-40f3-b176-be06026badac",
   "metadata": {},
   "source": [
    "6. Print numbers from 1 to 10 using a for loop."
   ]
  },
  {
   "cell_type": "code",
   "execution_count": 19,
   "id": "1f5bb68d-58eb-4bda-a91b-ba6cea1ec7ee",
   "metadata": {},
   "outputs": [
    {
     "name": "stdout",
     "output_type": "stream",
     "text": [
      "1 2 3 4 5 6 7 8 9 10 "
     ]
    }
   ],
   "source": [
    "def numbers(n):\n",
    "    for i in range(1,n+1):\n",
    "        print(i, end= \" \")\n",
    "numbers(10)"
   ]
  },
  {
   "cell_type": "markdown",
   "id": "c3f5bd10-9cf3-4864-80e5-8a975975512e",
   "metadata": {},
   "source": [
    "7. Print each character in a string using a for loop."
   ]
  },
  {
   "cell_type": "code",
   "execution_count": 21,
   "id": "6598a9a8-4b98-4522-bd3f-902500a910d0",
   "metadata": {},
   "outputs": [
    {
     "name": "stdout",
     "output_type": "stream",
     "text": [
      "n i t h i n "
     ]
    }
   ],
   "source": [
    "def character_string(s):\n",
    "    for i in s:\n",
    "        print(i , end=\" \")\n",
    "s=\"nithin\"\n",
    "character_string(s)"
   ]
  },
  {
   "cell_type": "markdown",
   "id": "8a56d626-f0a8-423e-9835-d94c4a9fb1e7",
   "metadata": {},
   "source": [
    "8. Write a program that sums all numbers in a list using a for loop."
   ]
  },
  {
   "cell_type": "code",
   "execution_count": 23,
   "id": "3648c314-99a6-4656-ae52-b1730c89aecc",
   "metadata": {},
   "outputs": [
    {
     "data": {
      "text/plain": [
       "21"
      ]
     },
     "execution_count": 23,
     "metadata": {},
     "output_type": "execute_result"
    }
   ],
   "source": [
    "def sum_list(lst):\n",
    "    sum = 0\n",
    "    for i in lst:\n",
    "        sum=sum+i\n",
    "    return sum\n",
    "\n",
    "lst = [1,2,3,4,5,6]\n",
    "sum_list(lst)"
   ]
  },
  {
   "cell_type": "markdown",
   "id": "36a9004c-c864-4ee8-9401-9902deac4b01",
   "metadata": {},
   "source": [
    "9. Print the multiplication table of a given number using a for loop."
   ]
  },
  {
   "cell_type": "code",
   "execution_count": 25,
   "id": "8f46da8c-0670-4e2e-a3a1-4954e9c98bb9",
   "metadata": {},
   "outputs": [
    {
     "name": "stdout",
     "output_type": "stream",
     "text": [
      "5 * 1 = 5\n",
      "5 * 2 = 10\n",
      "5 * 3 = 15\n",
      "5 * 4 = 20\n",
      "5 * 5 = 25\n",
      "5 * 6 = 30\n",
      "5 * 7 = 35\n",
      "5 * 8 = 40\n",
      "5 * 9 = 45\n",
      "5 * 10 = 50\n"
     ]
    }
   ],
   "source": [
    "def mul_table(n):\n",
    "    for i in range(1,11):\n",
    "        print(n, \"*\", i , \"=\" , n*i)\n",
    "mul_table(5)"
   ]
  },
  {
   "cell_type": "markdown",
   "id": "e8e3fc86-f94b-4186-b0d9-6d3b5729ebd6",
   "metadata": {},
   "source": [
    "10. Write a program that prints all even numbers from 1 to 50."
   ]
  },
  {
   "cell_type": "code",
   "execution_count": 27,
   "id": "6a052cc1-beb5-4ce1-9a17-bf91ed7f4f9d",
   "metadata": {},
   "outputs": [
    {
     "name": "stdout",
     "output_type": "stream",
     "text": [
      "2 4 6 8 10 12 14 16 18 20 22 24 26 28 30 32 34 36 38 40 42 44 46 48 50 "
     ]
    }
   ],
   "source": [
    "def even(n):\n",
    "    for i in range(1,n+1):\n",
    "        if i%2 == 0:\n",
    "            print(i, end = \" \")\n",
    "even(50)"
   ]
  },
  {
   "cell_type": "markdown",
   "id": "ae4d0792-96c5-4c0a-b967-048a073a023a",
   "metadata": {},
   "source": [
    "11. Print numbers from 1 to 10 using a while loop."
   ]
  },
  {
   "cell_type": "code",
   "execution_count": 29,
   "id": "ddb48d22-1537-4f73-84fd-f9d660d48d4e",
   "metadata": {},
   "outputs": [
    {
     "name": "stdout",
     "output_type": "stream",
     "text": [
      "1 2 3 4 5 6 7 8 9 10 "
     ]
    }
   ],
   "source": [
    "def num(n):\n",
    "    i = 1 \n",
    "    while i<=n:\n",
    "        print(i, end=\" \")\n",
    "        i=i+1\n",
    "num(10)"
   ]
  },
  {
   "cell_type": "markdown",
   "id": "a7d11823-955c-4c74-984e-241bb1ff6e47",
   "metadata": {},
   "source": [
    "12. Keep taking input from the user until they type \"exit\"."
   ]
  },
  {
   "cell_type": "code",
   "execution_count": 31,
   "id": "c9aae442-d600-40fb-b2b1-65b89478415a",
   "metadata": {},
   "outputs": [
    {
     "name": "stdin",
     "output_type": "stream",
     "text": [
      "Enter something (type 'exit' to quit):  NITHIN\n"
     ]
    },
    {
     "name": "stdout",
     "output_type": "stream",
     "text": [
      "Entered String :  NITHIN\n"
     ]
    },
    {
     "name": "stdin",
     "output_type": "stream",
     "text": [
      "Enter something (type 'exit' to quit):  EXIT\n"
     ]
    },
    {
     "name": "stdout",
     "output_type": "stream",
     "text": [
      "Good Bye!\n"
     ]
    }
   ],
   "source": [
    "while True:\n",
    "    user_input = input(\"Enter something (type 'exit' to quit): \")\n",
    "    if user_input.lower() == 'exit':\n",
    "        print(\"Good Bye!\")\n",
    "        break\n",
    "    else:\n",
    "        print(\"Entered String : \" ,user_input)"
   ]
  },
  {
   "cell_type": "markdown",
   "id": "25d2cb64-4ad2-47f2-b5af-1f0652c2576f",
   "metadata": {},
   "source": [
    "13. Write a program that finds the sum of digits of a number using a while loop."
   ]
  },
  {
   "cell_type": "code",
   "execution_count": 33,
   "id": "d775c3de-f2b5-4d08-89c2-49663f6fb8d9",
   "metadata": {},
   "outputs": [
    {
     "data": {
      "text/plain": [
       "10"
      ]
     },
     "execution_count": 33,
     "metadata": {},
     "output_type": "execute_result"
    }
   ],
   "source": [
    "def sum_of_digits(n):\n",
    "    s = 0\n",
    "    while(n):\n",
    "        r = n%10\n",
    "        s = s+r\n",
    "        n = n//10\n",
    "    return s\n",
    "sum_of_digits(1234)"
   ]
  },
  {
   "cell_type": "markdown",
   "id": "e1dffed7-645f-4a25-80c0-c53d2ea800c6",
   "metadata": {},
   "source": [
    "14. Guess the number game: Keep asking the user until they guess the correct number."
   ]
  },
  {
   "cell_type": "code",
   "execution_count": 45,
   "id": "367b84e3-2470-47ef-81ed-75d43f0025d9",
   "metadata": {},
   "outputs": [
    {
     "name": "stdin",
     "output_type": "stream",
     "text": [
      "Guess Number:  2\n",
      "Guess Number:  3\n",
      "Guess Number:  5\n"
     ]
    },
    {
     "name": "stdout",
     "output_type": "stream",
     "text": [
      "Correct! You Guessed the number\n"
     ]
    }
   ],
   "source": [
    "correct_number = 5\n",
    "while(True):\n",
    "    guess = int(input(\"Guess Number: \"))\n",
    "    if guess == correct_number:\n",
    "        print(\"Correct! You Guessed the number\")\n",
    "        break"
   ]
  },
  {
   "cell_type": "markdown",
   "id": "d4e70375-b1ca-4332-9ab5-b8f2fc339db1",
   "metadata": {},
   "source": [
    "15. Print the Fibonacci sequence up to n terms using a while loop."
   ]
  },
  {
   "cell_type": "code",
   "execution_count": 35,
   "id": "aeab5aaa-2ca7-4a27-8139-60b9f20dc312",
   "metadata": {},
   "outputs": [
    {
     "name": "stdout",
     "output_type": "stream",
     "text": [
      "0 1 1 2 3 5 8 13 21 34 "
     ]
    }
   ],
   "source": [
    "def fibonacci(n):\n",
    "    i = 1\n",
    "    a = 0\n",
    "    b = 1\n",
    "    while i<=n:\n",
    "        print(a, end=\" \")\n",
    "        c = a+b\n",
    "        a = b\n",
    "        b = c\n",
    "        i=i+1\n",
    "\n",
    "fibonacci(10)"
   ]
  },
  {
   "cell_type": "markdown",
   "id": "9e4060fc-978d-4af9-9d7b-f9ad7fc36000",
   "metadata": {},
   "source": [
    "16. Write a function that takes variable number of arguments using *args and returns their sum."
   ]
  },
  {
   "cell_type": "code",
   "execution_count": 37,
   "id": "a9df4982-262e-4ada-a2d7-367dba0e549f",
   "metadata": {},
   "outputs": [],
   "source": [
    "def sum_all(*args):\n",
    "    return sum(args)"
   ]
  },
  {
   "cell_type": "code",
   "execution_count": 39,
   "id": "88f976be-3ffc-46d0-8ae0-a763e5e98115",
   "metadata": {},
   "outputs": [
    {
     "name": "stdout",
     "output_type": "stream",
     "text": [
      "10\n"
     ]
    }
   ],
   "source": [
    "print(sum_all(1,2,3,4))"
   ]
  },
  {
   "cell_type": "markdown",
   "id": "8f67eb17-02e3-4674-8781-fba87614fa3b",
   "metadata": {},
   "source": [
    "17. Write a program that unpacks a list into separate variables using *.\n",
    "\n",
    "nums = [1, 2, 3, 4, 5]\n",
    "\n",
    "a, *b = nums  # Try printing a and b"
   ]
  },
  {
   "cell_type": "code",
   "execution_count": 51,
   "id": "1634c09c-e774-434a-8c0d-a4e018d3051e",
   "metadata": {},
   "outputs": [
    {
     "name": "stdout",
     "output_type": "stream",
     "text": [
      "1\n",
      "[2, 3, 4, 5]\n"
     ]
    }
   ],
   "source": [
    "nums = [1,2,3,4,5]\n",
    "a, *b =nums\n",
    "print(a)\n",
    "print(b)"
   ]
  },
  {
   "cell_type": "markdown",
   "id": "ec144942-3ab2-4e39-8a68-c872602a9f69",
   "metadata": {},
   "source": [
    "18. Create a function that multiplies a number with itself n times using * (e.g., 2 * 3 = 6)."
   ]
  },
  {
   "cell_type": "code",
   "execution_count": 64,
   "id": "b5a8e1a9-f64a-41d7-a5ba-8dcc3c513c6e",
   "metadata": {},
   "outputs": [
    {
     "data": {
      "text/plain": [
       "6"
      ]
     },
     "execution_count": 64,
     "metadata": {},
     "output_type": "execute_result"
    }
   ],
   "source": [
    "def multiplies(num, n):\n",
    "    m = num * n\n",
    "    return m\n",
    "\n",
    "multiplies(2,3)"
   ]
  },
  {
   "cell_type": "markdown",
   "id": "43de115e-18ee-4fe1-ae8f-359a93b57853",
   "metadata": {},
   "source": [
    "\n",
    "19. Use * to combine two lists into one:\n",
    "\n",
    "a = [1, 2]\n",
    "b = [3, 4]\n",
    "\n",
    "combined = [*a, *b]\n"
   ]
  },
  {
   "cell_type": "code",
   "execution_count": 69,
   "id": "03a967a9-2dd7-46be-b36d-c84b052a1204",
   "metadata": {},
   "outputs": [
    {
     "data": {
      "text/plain": [
       "[1, 2, 3, 4]"
      ]
     },
     "execution_count": 69,
     "metadata": {},
     "output_type": "execute_result"
    }
   ],
   "source": [
    "a = [1,2]\n",
    "b = [3,4]\n",
    "combined = [*a,*b]\n",
    "\n",
    "combined"
   ]
  },
  {
   "cell_type": "markdown",
   "id": "e3027a8b-8a18-4c4e-83d4-6c3ff8196e47",
   "metadata": {},
   "source": [
    "20. Write a function that checks whether a string is a palindrome."
   ]
  },
  {
   "cell_type": "code",
   "execution_count": 73,
   "id": "f955592f-ceb6-4428-a28e-2a62f8c64f9e",
   "metadata": {},
   "outputs": [
    {
     "name": "stdin",
     "output_type": "stream",
     "text": [
      "Enter String:  nitin\n"
     ]
    },
    {
     "data": {
      "text/plain": [
       "'Palindrome'"
      ]
     },
     "execution_count": 73,
     "metadata": {},
     "output_type": "execute_result"
    }
   ],
   "source": [
    "def string_palindrome(s1):\n",
    "    s2 = s1[::-1]\n",
    "    if s2 == s1:\n",
    "        return \"Palindrome\"\n",
    "    else:\n",
    "        return \"Not Palindrome\"\n",
    "\n",
    "s1 = input(\"Enter String: \")\n",
    "string_palindrome(s1)"
   ]
  },
  {
   "cell_type": "markdown",
   "id": "14bf9bf2-96df-49b8-962a-c928f3855b7e",
   "metadata": {},
   "source": [
    "21. Write a function that returns the number of vowels in a given string."
   ]
  },
  {
   "cell_type": "code",
   "execution_count": 76,
   "id": "565f4696-a262-4a30-8524-9047f13c4c6c",
   "metadata": {},
   "outputs": [
    {
     "name": "stdin",
     "output_type": "stream",
     "text": [
      "Enter a string:  nithin\n"
     ]
    },
    {
     "data": {
      "text/plain": [
       "2"
      ]
     },
     "execution_count": 76,
     "metadata": {},
     "output_type": "execute_result"
    }
   ],
   "source": [
    "def number_of_vowels(s1):\n",
    "    v = \"aeiouAEIOU\"\n",
    "    c=0\n",
    "    for i in s1:\n",
    "        if i in v:\n",
    "            c = c+1\n",
    "    return c\n",
    "\n",
    "s1=input(\"Enter a string: \")\n",
    "number_of_vowels(s1)"
   ]
  },
  {
   "cell_type": "markdown",
   "id": "a7758340-bfe5-4567-9df2-d029acb9678c",
   "metadata": {},
   "source": [
    "22. Write a function that takes a list of numbers and returns only the even numbers."
   ]
  },
  {
   "cell_type": "code",
   "execution_count": 79,
   "id": "0f99440a-3169-488e-babe-f0aa2a5c02da",
   "metadata": {},
   "outputs": [
    {
     "name": "stdout",
     "output_type": "stream",
     "text": [
      "2 4 "
     ]
    }
   ],
   "source": [
    "def list_even(l):\n",
    "    for i in l:\n",
    "        if i % 2 == 0:\n",
    "            print(i, end=\" \")\n",
    "l = [1,2,3,4,5]\n",
    "list_even(l)"
   ]
  },
  {
   "cell_type": "markdown",
   "id": "e4c99f0c-957e-493b-b114-dbeb04eeb189",
   "metadata": {},
   "source": [
    "23. Write a function that converts Celsius to Fahrenheit."
   ]
  },
  {
   "cell_type": "code",
   "execution_count": 86,
   "id": "f75b92ba-3af0-4e4c-ad6c-5aa3b4a9b644",
   "metadata": {},
   "outputs": [
    {
     "data": {
      "text/plain": [
       "32.0"
      ]
     },
     "execution_count": 86,
     "metadata": {},
     "output_type": "execute_result"
    }
   ],
   "source": [
    "def celsius_to_fahrenheit(celsius):\n",
    "    return (celsius * 9/5) + 32\n",
    "celsius_to_fahrenheit(0)\n"
   ]
  },
  {
   "cell_type": "markdown",
   "id": "7087b01e-9236-46b7-9fc6-0e62427c913b",
   "metadata": {},
   "source": [
    "24. Write a function that takes a string and returns the number of words in it."
   ]
  },
  {
   "cell_type": "code",
   "execution_count": 91,
   "id": "8a6d71c6-a8aa-4718-861d-537c6b0a0f26",
   "metadata": {},
   "outputs": [
    {
     "name": "stdin",
     "output_type": "stream",
     "text": [
      "Enter string:  Harsha is good boy\n"
     ]
    },
    {
     "data": {
      "text/plain": [
       "4"
      ]
     },
     "execution_count": 91,
     "metadata": {},
     "output_type": "execute_result"
    }
   ],
   "source": [
    "def words(s):\n",
    "    words = s.split()\n",
    "    return len(words)\n",
    "s = input(\"Enter string: \")\n",
    "words(s)"
   ]
  },
  {
   "cell_type": "markdown",
   "id": "3218266f-cc74-4ebd-adb4-b1b608a5cc17",
   "metadata": {},
   "source": [
    "25. Write a function that uses *args and prints all values line by line with their index."
   ]
  },
  {
   "cell_type": "code",
   "execution_count": 96,
   "id": "ecf39ce7-f31b-4d41-9af3-ccc6756cf901",
   "metadata": {},
   "outputs": [
    {
     "name": "stdout",
     "output_type": "stream",
     "text": [
      "0 : apple\n",
      "1 : banana\n",
      "2 : orange\n"
     ]
    }
   ],
   "source": [
    "def args_with_index(*args):\n",
    "    for index, value in enumerate(args):\n",
    "        print(index, \":\" ,value)\n",
    "args_with_index(\"apple\" , \"banana\", \"orange\")"
   ]
  },
  {
   "cell_type": "markdown",
   "id": "c49ef2de-f1ee-4203-b073-51d54be5f955",
   "metadata": {},
   "source": [
    "26. Write a function that takes *args and returns their average."
   ]
  },
  {
   "cell_type": "code",
   "execution_count": 102,
   "id": "cc66c17c-bcb7-41fb-8b23-4e2bb8396f53",
   "metadata": {},
   "outputs": [
    {
     "data": {
      "text/plain": [
       "20.0"
      ]
     },
     "execution_count": 102,
     "metadata": {},
     "output_type": "execute_result"
    }
   ],
   "source": [
    "def average_args(*args):\n",
    "    return (sum(args))/len(args)\n",
    "average_args(10,20,30)"
   ]
  },
  {
   "cell_type": "markdown",
   "id": "790f470c-fe98-4d72-83d3-0c9017144adb",
   "metadata": {},
   "source": [
    "27. Keep asking the user to enter a positive number. Stop when they enter a negative number."
   ]
  },
  {
   "cell_type": "code",
   "execution_count": 104,
   "id": "ca6919f3-8fe7-4f26-80ba-51268540e0b2",
   "metadata": {},
   "outputs": [
    {
     "name": "stdin",
     "output_type": "stream",
     "text": [
      "Enter a number (Negative number to stop loop):  2\n",
      "Enter a number (Negative number to stop loop):  -1\n"
     ]
    }
   ],
   "source": [
    "while(True):\n",
    "    num1 = int(input(\"Enter a number (Negative number to stop loop): \"))\n",
    "    if num1<0:\n",
    "        break"
   ]
  },
  {
   "cell_type": "markdown",
   "id": "76a46eaf-9565-49c2-921a-65ee8f262496",
   "metadata": {},
   "source": [
    "28. Write a program to reverse a number using a while loop."
   ]
  },
  {
   "cell_type": "code",
   "execution_count": 109,
   "id": "c7897407-2b8a-4781-b674-a8eb9d44c591",
   "metadata": {},
   "outputs": [
    {
     "name": "stdin",
     "output_type": "stream",
     "text": [
      "enter a number: 123\n"
     ]
    },
    {
     "data": {
      "text/plain": [
       "321"
      ]
     },
     "execution_count": 109,
     "metadata": {},
     "output_type": "execute_result"
    }
   ],
   "source": [
    "def rev_num(n):\n",
    "    s=0\n",
    "    while(n):\n",
    "        r = n%10\n",
    "        s = s*10+r\n",
    "        n=n//10\n",
    "    return s\n",
    "\n",
    "n = int(input(\"enter a number:\"))\n",
    "rev_num(n)\n",
    "        "
   ]
  },
  {
   "cell_type": "markdown",
   "id": "ae6bf8b9-fdfe-47d9-8ef4-5eabd7fc943d",
   "metadata": {},
   "source": [
    "29. Find the first number divisible by both 3 and 5 greater than 100 using while.\n"
   ]
  },
  {
   "cell_type": "code",
   "execution_count": 114,
   "id": "17ba8a4d-6705-4eec-a543-1680d6239613",
   "metadata": {},
   "outputs": [
    {
     "data": {
      "text/plain": [
       "105"
      ]
     },
     "execution_count": 114,
     "metadata": {},
     "output_type": "execute_result"
    }
   ],
   "source": [
    "def div1():\n",
    "    i=100\n",
    "    while(True):\n",
    "        if i % 3 == 0 and i % 5 == 0:\n",
    "            return i\n",
    "            break\n",
    "        i=i+1\n",
    "div1()"
   ]
  },
  {
   "cell_type": "markdown",
   "id": "3dec3507-75aa-401d-aa56-b7c91f2f3582",
   "metadata": {},
   "source": [
    "30. Use a while loop to check if a number is a prime.\n"
   ]
  },
  {
   "cell_type": "code",
   "execution_count": 121,
   "id": "f1af2629-5cd3-4b8c-a4f2-7261b89ac3a9",
   "metadata": {},
   "outputs": [
    {
     "name": "stdin",
     "output_type": "stream",
     "text": [
      "Enter a number: 5\n"
     ]
    },
    {
     "data": {
      "text/plain": [
       "'True'"
      ]
     },
     "execution_count": 121,
     "metadata": {},
     "output_type": "execute_result"
    }
   ],
   "source": [
    "def is_prime(n):\n",
    "    c = 0\n",
    "    if n==0:\n",
    "        return 1\n",
    "    for i in range(1,n+1):\n",
    "        if n%i == 0:\n",
    "            c = c+1\n",
    "    if c == 2:\n",
    "        return \"True\"\n",
    "    else:\n",
    "        return \"False\"\n",
    "n=int(input(\"Enter a number:\"))\n",
    "is_prime(n)"
   ]
  },
  {
   "cell_type": "markdown",
   "id": "1d53135e-77ea-4071-9747-512b61dad23b",
   "metadata": {},
   "source": [
    "31. Create a countdown timer using while, e.g., from 10 to 1."
   ]
  },
  {
   "cell_type": "code",
   "execution_count": 130,
   "id": "79683e0d-8fec-4e94-9ea0-bc6312b0ef2c",
   "metadata": {},
   "outputs": [
    {
     "name": "stdin",
     "output_type": "stream",
     "text": [
      "Enter number:  10\n"
     ]
    },
    {
     "name": "stdout",
     "output_type": "stream",
     "text": [
      "10\n",
      "9\n",
      "8\n",
      "7\n",
      "6\n",
      "5\n",
      "4\n",
      "3\n",
      "2\n",
      "1\n"
     ]
    }
   ],
   "source": [
    "def countdown(n):\n",
    "    i = n\n",
    "    while(i>0):\n",
    "        print(i)\n",
    "        i=i-1\n",
    "n= int(input(\"Enter number: \"))\n",
    "countdown(n)"
   ]
  },
  {
   "cell_type": "markdown",
   "id": "210cd02e-ae10-422d-8626-669436e9855a",
   "metadata": {},
   "source": [
    "32. Print all elements in a nested list.\n"
   ]
  },
  {
   "cell_type": "code",
   "execution_count": 135,
   "id": "3a1933ed-91c9-4092-be1f-7d5cfadb52d5",
   "metadata": {},
   "outputs": [
    {
     "name": "stdout",
     "output_type": "stream",
     "text": [
      "4\n",
      "5\n",
      "6\n"
     ]
    }
   ],
   "source": [
    "l = [1,2,3,[4,5,6]]\n",
    "\n",
    "for i in l:\n",
    "    if type(i) == list:\n",
    "        for j in i :\n",
    "            print(j)"
   ]
  },
  {
   "cell_type": "markdown",
   "id": "366624dd-3879-4c2d-82e6-345f522a4a9a",
   "metadata": {},
   "source": [
    "33. Count how many times each character appears in a string.\n"
   ]
  },
  {
   "cell_type": "code",
   "execution_count": 138,
   "id": "00dcacf1-e4f8-472a-92b9-c343ac13677a",
   "metadata": {},
   "outputs": [
    {
     "name": "stdin",
     "output_type": "stream",
     "text": [
      "Enter string :  nithin\n"
     ]
    },
    {
     "data": {
      "text/plain": [
       "{'n': 2, 'i': 2, 't': 1, 'h': 1}"
      ]
     },
     "execution_count": 138,
     "metadata": {},
     "output_type": "execute_result"
    }
   ],
   "source": [
    "def count_characters(s):\n",
    "    char_count = {}\n",
    "    for char in s:\n",
    "        if char in char_count:\n",
    "            char_count[char] += 1\n",
    "        else:\n",
    "            char_count[char] = 1\n",
    "    return char_count\n",
    "s = input(\"Enter string : \")\n",
    "count_characters(s)"
   ]
  },
  {
   "cell_type": "markdown",
   "id": "ed16e551-3d0a-401d-9af0-1ddb57de73ec",
   "metadata": {},
   "source": [
    "34. Use a for loop to find the largest number in a list without using max()."
   ]
  },
  {
   "cell_type": "code",
   "execution_count": 141,
   "id": "09ae55f1-2824-4d85-9258-b1d805d6813d",
   "metadata": {},
   "outputs": [
    {
     "data": {
      "text/plain": [
       "5"
      ]
     },
     "execution_count": 141,
     "metadata": {},
     "output_type": "execute_result"
    }
   ],
   "source": [
    "def list_largest(l):\n",
    "    if not list:\n",
    "        return none\n",
    "    largest = l[0]\n",
    "    for i in l[1:]:\n",
    "        if i > largest:\n",
    "            largest = i\n",
    "    return largest\n",
    "l=[1,2,3,4,5]\n",
    "list_largest(l)"
   ]
  },
  {
   "cell_type": "markdown",
   "id": "924c699b-4462-4b14-95da-5f044ea44b53",
   "metadata": {},
   "source": [
    "35. Create a list of squares for numbers from 1 to 10 using a loop."
   ]
  },
  {
   "cell_type": "code",
   "execution_count": 148,
   "id": "5bd003d2-6f54-4472-bca5-be5c527a98db",
   "metadata": {},
   "outputs": [
    {
     "data": {
      "text/plain": [
       "[1, 4, 9, 16, 25]"
      ]
     },
     "execution_count": 148,
     "metadata": {},
     "output_type": "execute_result"
    }
   ],
   "source": [
    "def squares_list(l):\n",
    "    l1=[]\n",
    "    for i in l:\n",
    "        a = i*i\n",
    "        l1.append(a)\n",
    "    return l1\n",
    "squares_list(l)"
   ]
  },
  {
   "cell_type": "code",
   "execution_count": null,
   "id": "51761b6b-2dfd-4bc8-9313-6d3e75633207",
   "metadata": {},
   "outputs": [],
   "source": []
  }
 ],
 "metadata": {
  "kernelspec": {
   "display_name": "Python 3 (ipykernel)",
   "language": "python",
   "name": "python3"
  },
  "language_info": {
   "codemirror_mode": {
    "name": "ipython",
    "version": 3
   },
   "file_extension": ".py",
   "mimetype": "text/x-python",
   "name": "python",
   "nbconvert_exporter": "python",
   "pygments_lexer": "ipython3",
   "version": "3.12.2"
  }
 },
 "nbformat": 4,
 "nbformat_minor": 5
}
