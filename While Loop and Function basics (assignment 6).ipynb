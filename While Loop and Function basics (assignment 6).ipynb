{
 "cells": [
  {
   "cell_type": "markdown",
   "id": "e30e5190-802f-44e7-ad6a-d7d6f6ef2f13",
   "metadata": {},
   "source": [
    "Assignment using while loop and control statements:\n",
    "\n",
    "Questions to practice (Day - 15):\n",
    "1. Write a Python program to print all numbers from 1 to 10, but stop the loop immediately when reaching 5 using the break statement.\n",
    "\n",
    "    Expected Output:\n",
    "1\n",
    "2\n",
    "3\n",
    "4\n",
    "​\n",
    "2. Given a list of numbers [1, 2, 3, 4, 5], use a for loop to print the elements one by one. However, if the element is 3, skip it using the continue statement.\n",
    "\n",
    "    Expected Output:\n",
    "1\n",
    "2\n",
    "4\n",
    "5\n",
    "​\n",
    "\n",
    "3. Write a Python function that takes a string as input and checks if it contains the letter 'o'. If it does, print \"Found 'o'\" and use the break statement to stop searching.\n",
    "\n",
    "    Input: \"Hello, World!\"\n",
    "    Expected Output:\n",
    "    Found 'o'\n",
    "​\n",
    "4. Given a list of numbers [1, 2, 3, 4, 5], use a for loop to double each element and print the result. However, if the element is 4, use the continue statement to skip it.\n",
    "\n",
    "    Expected Output:\n",
    "2\n",
    "4\n",
    "6\n",
    "10\n",
    "​\n",
    "5. Write a Python program to print all numbers from 1 to 20 using a while loop. However, stop the loop when reaching 15 using the break statement.\n",
    "\n",
    "    Expected Output:\n",
    "1\n",
    "2\n",
    "3\n",
    "... (up to 15)"
   ]
  },
  {
   "cell_type": "markdown",
   "id": "a10b265e-cc8c-4ca0-ad31-aa37365e5cc2",
   "metadata": {},
   "source": [
    "1. Write a Python program to print all numbers from 1 to 10, but stop the loop immediately when reaching 5 using the break statement.\n",
    "\n",
    "    Expected Output:\n",
    "1\n",
    "2\n",
    "3\n",
    "4\n",
    "​"
   ]
  },
  {
   "cell_type": "code",
   "execution_count": 7,
   "id": "233534b2-6463-44f5-87a4-06a33b8ddcf5",
   "metadata": {},
   "outputs": [
    {
     "name": "stdout",
     "output_type": "stream",
     "text": [
      "1\n",
      "2\n",
      "3\n",
      "4\n"
     ]
    }
   ],
   "source": [
    "n = 1\n",
    "while n<=10:\n",
    "    if n == 5:\n",
    "        break\n",
    "    print(n)\n",
    "    n=n+1\n",
    "\n",
    "          \n",
    "    "
   ]
  },
  {
   "cell_type": "markdown",
   "id": "4006b050-e354-472d-bd36-eabe30f9ad48",
   "metadata": {},
   "source": [
    "2. Given a list of numbers [1, 2, 3, 4, 5], use a for loop to print the elements one by one. However, if the element is 3, skip it using the continue statement.\n",
    "\n",
    "    Expected Output:\n",
    "1\n",
    "2\n",
    "4\n",
    "5"
   ]
  },
  {
   "cell_type": "code",
   "execution_count": 20,
   "id": "b52d8030-5353-4e78-bef5-97b9366b825f",
   "metadata": {},
   "outputs": [
    {
     "name": "stdout",
     "output_type": "stream",
     "text": [
      "1\n",
      "2\n",
      "4\n",
      "5\n"
     ]
    }
   ],
   "source": [
    "l = [1,2,3,4,5]\n",
    "\n",
    "for i in l:\n",
    "    if i == 3:\n",
    "        continue\n",
    "    else:\n",
    "        print(i)"
   ]
  },
  {
   "cell_type": "markdown",
   "id": "5914244f-1c1f-4766-887d-ac2a4456a9f5",
   "metadata": {},
   "source": [
    "3. Write a Python function that takes a string as input and checks if it contains the letter 'o'. If it does, print \"Found 'o'\" and use the break statement to stop searching.\n",
    "\n",
    "    Input: \"Hello, World!\"\n",
    "\n",
    "   Expected Output:\n",
    "    Found 'o'"
   ]
  },
  {
   "cell_type": "code",
   "execution_count": 28,
   "id": "7854687f-95ee-4e91-8695-0d363351f0d4",
   "metadata": {},
   "outputs": [
    {
     "name": "stdin",
     "output_type": "stream",
     "text": [
      " \"Hello, World!\"\n"
     ]
    },
    {
     "name": "stdout",
     "output_type": "stream",
     "text": [
      "Found 'o' \n"
     ]
    }
   ],
   "source": [
    "s = input()\n",
    "for i in s:\n",
    "    if i == 'o':\n",
    "        print(\"Found 'o' \")\n",
    "        break"
   ]
  },
  {
   "cell_type": "markdown",
   "id": "5d162615-dc35-447b-a1d7-0e6cd048de9c",
   "metadata": {},
   "source": [
    "4. Given a list of numbers [1, 2, 3, 4, 5], use a for loop to double each element and print the result. However, if the element is 4, use the continue statement to skip it.\n",
    "\n",
    "    Expected Output:\n",
    "2\n",
    "4\n",
    "6\n",
    "10"
   ]
  },
  {
   "cell_type": "code",
   "execution_count": 33,
   "id": "ba91e180-3701-46e6-8d4b-da10b448b851",
   "metadata": {},
   "outputs": [
    {
     "name": "stdout",
     "output_type": "stream",
     "text": [
      "2\n",
      "4\n",
      "6\n",
      "10\n"
     ]
    }
   ],
   "source": [
    "l = [1,2,3,4,5]\n",
    "\n",
    "for i in l:\n",
    "    if i == 4:\n",
    "        continue\n",
    "    else:\n",
    "        m = i * 2\n",
    "        print(m)"
   ]
  },
  {
   "cell_type": "markdown",
   "id": "c6124d95-dd02-47f9-90c1-debac64d8ae1",
   "metadata": {},
   "source": [
    "5. Write a Python program to print all numbers from 1 to 20 using a while loop. However, stop the loop when reaching 15 using the break statement.\n",
    "\n",
    "    Expected Output:\n",
    "1\n",
    "2\n",
    "3\n",
    "... (up to 15)"
   ]
  },
  {
   "cell_type": "code",
   "execution_count": 36,
   "id": "ea81caa3-b29f-4788-a139-8b387ea79826",
   "metadata": {},
   "outputs": [
    {
     "name": "stdout",
     "output_type": "stream",
     "text": [
      "1\n",
      "2\n",
      "3\n",
      "4\n",
      "5\n",
      "6\n",
      "7\n",
      "8\n",
      "9\n",
      "10\n",
      "11\n",
      "12\n",
      "13\n",
      "14\n"
     ]
    }
   ],
   "source": [
    "i = 1\n",
    "\n",
    "while i<20:\n",
    "    if i == 15:\n",
    "        break\n",
    "    else:\n",
    "        print(i)\n",
    "        i=i+1"
   ]
  },
  {
   "cell_type": "markdown",
   "id": "324b255a-d5cf-460c-8f42-03018e877313",
   "metadata": {},
   "source": [
    "While Loop practicals:\r\n",
    "\r\n",
    "1. Print Numbers from 1 to 10\r\n",
    "\r\n",
    "Expected Output: 1 2 3 ... 10\r\n",
    "\r\n",
    "2. Sum of Numbers from 1 to N\r\n",
    "\r\n",
    "Input: 5\r\n",
    "Expected Output: 15 (1+2+3+4+5)\r\n",
    "\r\n",
    "3. Print Even Numbers up to N\r\n",
    "Input: 10\r\n",
    "Expected Output: 2 4 6 8 10\r\n",
    "\r\n",
    "4. Count Digits in a Number\r\n",
    "\r\n",
    "Input: 12345\r\n",
    "Expe cted Output: 5\r\n",
    "\r\n",
    "5.Reverse a Number\r\n",
    "Input6. Check if a Number is a Palindrome\n",
    "Input: 121\n",
    "Output: True\r\n",
    "Funcitons:\r\n",
    "Output: True\r\n",
    "\r\n",
    "Funcitons:\r\n",
    "\r\n",
    "Function to Add Two Numbers\r\n",
    "\r\n",
    "1. def add(a, b):\r\n",
    "    # Your code here\r\n",
    "\r\n",
    "Function to Find Maximum of Three Numbers\r\n",
    "\r\n",
    "2. def max_of_three(a, b, c):\r\n",
    "    # Your code here\r\n",
    "Function to Check Prime Number\r\n",
    "\r\n",
    "3. def is_prime(n):\r\n",
    "    # Returns True if prime, else False\r\n",
    "\r\n",
    "4. Function to Calculate Factorial\r\n",
    "\r\n",
    "def factorial(n):\r\n",
    "    # Your code here using while loop\r\n",
    "\r\n",
    "5.Function to Print Fibonacci Series up to N terms\r\n",
    "\r\n",
    "def fibonacci(n):\r\n",
    "    # Your code here using while loop\r\n",
    "\r\n",
    "6.Function to Count Vowels in a String\r\n",
    "def count_vowels(s):\r\n",
    "    # Your code here\r\n",
    "\r\n",
    "\r\n"
   ]
  },
  {
   "cell_type": "markdown",
   "id": "54503cd1-324d-45fd-948d-67fe22c0088e",
   "metadata": {},
   "source": [
    "# While Loop practicals:"
   ]
  },
  {
   "cell_type": "markdown",
   "id": "b79c48fe-ba78-4d78-89c6-c3dcc987ceee",
   "metadata": {},
   "source": [
    "1. Print Numbers from 1 to 10\n",
    "\n",
    "Expected Output: 1 2 3 ... 10"
   ]
  },
  {
   "cell_type": "code",
   "execution_count": 40,
   "id": "974278a5-9065-4435-8cec-d372f160b009",
   "metadata": {},
   "outputs": [
    {
     "name": "stdout",
     "output_type": "stream",
     "text": [
      "1\n",
      "2\n",
      "3\n",
      "4\n",
      "5\n",
      "6\n",
      "7\n",
      "8\n",
      "9\n",
      "10\n"
     ]
    }
   ],
   "source": [
    "i = 1\n",
    "while i<=10:\n",
    "    print(i)\n",
    "    i = i+1"
   ]
  },
  {
   "cell_type": "markdown",
   "id": "88b07ed3-0907-4ee0-b6b7-62acd0dfe700",
   "metadata": {},
   "source": [
    "2. Sum of Numbers from 1 to N\n",
    "\n",
    "Input: 5\n",
    "\n",
    "Expected Output: 15 (1+2+3+4+5)\n"
   ]
  },
  {
   "cell_type": "code",
   "execution_count": 60,
   "id": "2e32585c-66a5-4b01-8f33-4367de0ab541",
   "metadata": {},
   "outputs": [
    {
     "name": "stdin",
     "output_type": "stream",
     "text": [
      " 5\n"
     ]
    },
    {
     "name": "stdout",
     "output_type": "stream",
     "text": [
      "15\n"
     ]
    }
   ],
   "source": [
    "n = int(input())\n",
    "s = n*(n+1)//2\n",
    "print(s)"
   ]
  },
  {
   "cell_type": "markdown",
   "id": "1b1c97d9-78d6-47e7-a901-416270657ea3",
   "metadata": {},
   "source": [
    "3. Print Even Numbers up to N\n",
    "\n",
    "Input: 10\n",
    "\n",
    "Expected Output: 2 4 6 8 10"
   ]
  },
  {
   "cell_type": "code",
   "execution_count": 67,
   "id": "c1065977-716e-4c61-a699-41afc98f7fa8",
   "metadata": {},
   "outputs": [
    {
     "name": "stdout",
     "output_type": "stream",
     "text": [
      "2\n",
      "4\n",
      "6\n",
      "8\n",
      "10\n"
     ]
    }
   ],
   "source": [
    "n = 10\n",
    "i=1\n",
    "while i<=n:\n",
    "    if i%2==0:\n",
    "        print(i)\n",
    "        i=i+1\n",
    "    else:\n",
    "        i=i+1\n",
    "        \n",
    "    "
   ]
  },
  {
   "cell_type": "markdown",
   "id": "2b310e72-93b1-4cef-b993-706005725626",
   "metadata": {},
   "source": [
    "4. Count Digits in a Number\n",
    "\n",
    "Input: 12345\n",
    "\n",
    "Expected Output: 5\n"
   ]
  },
  {
   "cell_type": "code",
   "execution_count": 76,
   "id": "8c43cefe-7b97-43cf-96b7-1efb7915f17a",
   "metadata": {},
   "outputs": [
    {
     "name": "stdout",
     "output_type": "stream",
     "text": [
      "5\n"
     ]
    }
   ],
   "source": [
    "n = 12345\n",
    "c=0\n",
    "while(n):\n",
    "    r = n%10\n",
    "    c=c+1\n",
    "    n=n//10\n",
    "print(c)    "
   ]
  },
  {
   "cell_type": "markdown",
   "id": "3ec363ba-f6ea-4f35-8f88-438379705bb7",
   "metadata": {},
   "source": [
    "5. Reverse a Number\n",
    "\n",
    "Input: 1234\n",
    "\n",
    "Output: 4321"
   ]
  },
  {
   "cell_type": "code",
   "execution_count": 86,
   "id": "0f2cd4e2-b7c9-461d-a475-302ae87ec224",
   "metadata": {},
   "outputs": [
    {
     "name": "stdin",
     "output_type": "stream",
     "text": [
      "Enter a number:  1234\n"
     ]
    },
    {
     "name": "stdout",
     "output_type": "stream",
     "text": [
      "4321\n"
     ]
    }
   ],
   "source": [
    "n = int(input(\"Enter a number: \"))\n",
    "a=0\n",
    "while(n):\n",
    "    r = n%10\n",
    "    a = a*10+r\n",
    "    n = n//10\n",
    "print(a)"
   ]
  },
  {
   "cell_type": "markdown",
   "id": "613a8703-7a90-46ed-b9f6-1f432badc31a",
   "metadata": {},
   "source": [
    "6. Check if a Number is a Palindrome\n",
    "\n",
    "Input: 121\n",
    "\n",
    "Output: True"
   ]
  },
  {
   "cell_type": "code",
   "execution_count": 91,
   "id": "a567bb97-3a41-4a49-ae69-39a37b616b12",
   "metadata": {},
   "outputs": [
    {
     "name": "stdin",
     "output_type": "stream",
     "text": [
      "Enter a number:  121\n"
     ]
    },
    {
     "name": "stdout",
     "output_type": "stream",
     "text": [
      "True\n"
     ]
    }
   ],
   "source": [
    "n = int(input(\"Enter a number: \"))\n",
    "p = n\n",
    "a=0\n",
    "while(n):\n",
    "    r = n%10\n",
    "    a = a*10+r\n",
    "    n = n//10\n",
    "if p == a:\n",
    "    print(\"True\")\n",
    "else:\n",
    "    print(\"False\")"
   ]
  },
  {
   "cell_type": "markdown",
   "id": "532b89c6-3a83-4d45-b89e-2405d42ebd87",
   "metadata": {},
   "source": [
    "# Funcitons:"
   ]
  },
  {
   "cell_type": "markdown",
   "id": "bc321e9b-547b-469f-96ee-73ca6adae0f4",
   "metadata": {},
   "source": [
    "Function to Add Two Numbers\n",
    "\n",
    "1. def add(a, b):\n",
    "\n",
    "    Your code here"
   ]
  },
  {
   "cell_type": "code",
   "execution_count": 104,
   "id": "f7239c16-7fd7-48f0-9ac9-69925bc554bc",
   "metadata": {},
   "outputs": [
    {
     "data": {
      "text/plain": [
       "30"
      ]
     },
     "execution_count": 104,
     "metadata": {},
     "output_type": "execute_result"
    }
   ],
   "source": [
    "def add(a,b):\n",
    "    return a+b\n",
    "\n",
    "add(10,20)"
   ]
  },
  {
   "cell_type": "markdown",
   "id": "4c8a37ca-a4b8-48a9-93b2-b6772e27eb5a",
   "metadata": {},
   "source": [
    "Function to Find Maximum of Three Numbers\n",
    "\n",
    "2. def max_of_three(a, b, c):\n",
    "\n",
    "   Your code here"
   ]
  },
  {
   "cell_type": "code",
   "execution_count": 109,
   "id": "05392f32-43af-4348-b1c1-f485d27aa2f9",
   "metadata": {},
   "outputs": [
    {
     "data": {
      "text/plain": [
       "30"
      ]
     },
     "execution_count": 109,
     "metadata": {},
     "output_type": "execute_result"
    }
   ],
   "source": [
    "def max_of_three(a,b,c):\n",
    "    if a>b and a>c:\n",
    "        return a\n",
    "    elif b>c and b>a:\n",
    "        return b\n",
    "    else:\n",
    "        return c\n",
    "\n",
    "\n",
    "max_of_three(10,20,30)"
   ]
  },
  {
   "cell_type": "markdown",
   "id": "e594b0a8-f2af-4346-89bc-bd274418ab2f",
   "metadata": {},
   "source": [
    "Function to Check Prime Number\n",
    "\n",
    "3. def is_prime(n):\n",
    "    \n",
    "    Returns True if prime, else False"
   ]
  },
  {
   "cell_type": "code",
   "execution_count": 118,
   "id": "b54d05c6-2e55-4304-91b6-4e1229d3281c",
   "metadata": {},
   "outputs": [
    {
     "data": {
      "text/plain": [
       "'True'"
      ]
     },
     "execution_count": 118,
     "metadata": {},
     "output_type": "execute_result"
    }
   ],
   "source": [
    "def is_prime(n):\n",
    "    c = 0\n",
    "    if n==0:\n",
    "        return 1\n",
    "    for i in range(1,n+1):\n",
    "        if n%i == 0:\n",
    "            c = c+1\n",
    "    if c == 2:\n",
    "        return \"True\"\n",
    "    else:\n",
    "        return \"False\"\n",
    "\n",
    "is_prime(5)"
   ]
  },
  {
   "cell_type": "markdown",
   "id": "b661ead1-0818-4428-a7c0-356c872d3a35",
   "metadata": {},
   "source": [
    "4. Function to Calculate Factorial\n",
    "\n",
    "def factorial(n):\n",
    "    \n",
    "    Your code here using while loop"
   ]
  },
  {
   "cell_type": "code",
   "execution_count": 133,
   "id": "67d31427-8912-465e-b270-012a84f4920a",
   "metadata": {},
   "outputs": [
    {
     "data": {
      "text/plain": [
       "120"
      ]
     },
     "execution_count": 133,
     "metadata": {},
     "output_type": "execute_result"
    }
   ],
   "source": [
    "def factorial(n):\n",
    "    f = 1\n",
    "    i = 1\n",
    "    while i <= n:\n",
    "        f = f*i\n",
    "        i = i+1\n",
    "    return f\n",
    "        \n",
    "\n",
    "factorial(5)"
   ]
  },
  {
   "cell_type": "markdown",
   "id": "4643c90b-9fde-4332-8023-3c519c3103d7",
   "metadata": {},
   "source": [
    "5.Function to Print Fibonacci Series up to N terms\n",
    "\n",
    "def fibonacci(n):\n",
    "    \n",
    "    Your code here using while loop"
   ]
  },
  {
   "cell_type": "code",
   "execution_count": 148,
   "id": "abf475bd-1f0e-4aa3-a0a3-f28beaccfea5",
   "metadata": {},
   "outputs": [
    {
     "name": "stdout",
     "output_type": "stream",
     "text": [
      "0 1 1 2 3 "
     ]
    }
   ],
   "source": [
    "def fibonacci(n):\n",
    "    i = 1\n",
    "    a = 0\n",
    "    b = 1\n",
    "    while i<=n:\n",
    "        print(a, end=\" \")\n",
    "        c = a+b\n",
    "        a = b\n",
    "        b = c\n",
    "        i=i+1\n",
    "        \n",
    "\n",
    "fibonacci(5)\n",
    "        \n",
    "        "
   ]
  },
  {
   "cell_type": "markdown",
   "id": "539e71ef-b2aa-4649-aba5-5098699caca4",
   "metadata": {},
   "source": [
    "6. Function to Count Vowels in a String\n",
    "\n",
    "def count_vowels(s):\n",
    "    \n",
    "    Your code here"
   ]
  },
  {
   "cell_type": "code",
   "execution_count": 159,
   "id": "412b00f7-186f-4310-9cc0-3dcdbb5bf65b",
   "metadata": {},
   "outputs": [
    {
     "data": {
      "text/plain": [
       "2"
      ]
     },
     "execution_count": 159,
     "metadata": {},
     "output_type": "execute_result"
    }
   ],
   "source": [
    "def count_vowels(s):\n",
    "    v = 'aeiouAEIOU'\n",
    "    c=0\n",
    "    for i in s:\n",
    "        if i in v:\n",
    "            c = c+1\n",
    "    return c\n",
    "\n",
    "count_vowels(\"nithin\")\n",
    "        "
   ]
  },
  {
   "cell_type": "code",
   "execution_count": null,
   "id": "2be1d145-c5d5-4cb0-a9ae-e5abc12a621e",
   "metadata": {},
   "outputs": [],
   "source": []
  }
 ],
 "metadata": {
  "kernelspec": {
   "display_name": "Python 3 (ipykernel)",
   "language": "python",
   "name": "python3"
  },
  "language_info": {
   "codemirror_mode": {
    "name": "ipython",
    "version": 3
   },
   "file_extension": ".py",
   "mimetype": "text/x-python",
   "name": "python",
   "nbconvert_exporter": "python",
   "pygments_lexer": "ipython3",
   "version": "3.12.2"
  }
 },
 "nbformat": 4,
 "nbformat_minor": 5
}
