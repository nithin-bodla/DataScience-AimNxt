{
 "cells": [
  {
   "cell_type": "markdown",
   "id": "65c54a79-c2ba-4003-9931-d493b70081fa",
   "metadata": {},
   "source": [
    "1. Read a text file and print its content. File: sample.txt\n",
    "\n",
    "Task: Open the file and print each line."
   ]
  },
  {
   "cell_type": "code",
   "execution_count": 1,
   "id": "1016cb7b-7dd0-49f4-a0f1-fced8c83343b",
   "metadata": {},
   "outputs": [
    {
     "name": "stdout",
     "output_type": "stream",
     "text": [
      "We are learning python\n",
      "Python is osm\n",
      "I Love Python\n",
      "\n",
      "Python is my first programming language\n",
      "Happy Pongal\n"
     ]
    }
   ],
   "source": [
    "with open(\"python.txt\",\"r\") as f:\n",
    "    read = f.read()\n",
    "print(read)"
   ]
  },
  {
   "cell_type": "markdown",
   "id": "65f71053-5e3d-4746-a753-cbc1011f29a2",
   "metadata": {},
   "source": [
    "2. Count the number of lines in a file."
   ]
  },
  {
   "cell_type": "code",
   "execution_count": 3,
   "id": "41963503-1035-4760-bdfc-3192d15544ec",
   "metadata": {},
   "outputs": [
    {
     "name": "stdout",
     "output_type": "stream",
     "text": [
      "Number of lines: 6\n"
     ]
    }
   ],
   "source": [
    "with open(\"python.txt\",\"r\") as f:\n",
    "    line_count = sum(1 for line in f)\n",
    "print(f\"Number of lines: {line_count}\")"
   ]
  },
  {
   "cell_type": "markdown",
   "id": "9e6146ed-3d85-4509-b841-b4eb1c0e2176",
   "metadata": {},
   "source": [
    "3. Count the number of words in a file."
   ]
  },
  {
   "cell_type": "code",
   "execution_count": 5,
   "id": "e2c1f0fe-c3a1-4043-993e-9158e15a3116",
   "metadata": {},
   "outputs": [
    {
     "name": "stdout",
     "output_type": "stream",
     "text": [
      "Number of words: 18\n"
     ]
    }
   ],
   "source": [
    "with open(\"python.txt\",\"r\") as f:\n",
    "    text = f.read()\n",
    "    word_count = len(text.split())\n",
    "print(f\"Number of words: {word_count}\")"
   ]
  },
  {
   "cell_type": "markdown",
   "id": "2d740f8a-68b4-4121-8f47-55ed2c652840",
   "metadata": {},
   "source": [
    "4. Read only the first 5 lines of a file."
   ]
  },
  {
   "cell_type": "code",
   "execution_count": 12,
   "id": "7c0c5146-bb53-44f1-a060-d05bb7381a2b",
   "metadata": {},
   "outputs": [
    {
     "name": "stdout",
     "output_type": "stream",
     "text": [
      "We are learning python\n",
      "Python is osm\n",
      "I Love Python\n",
      "\n",
      "Python is my first programming language\n"
     ]
    }
   ],
   "source": [
    "with open(\"python.txt\",\"r\") as f:\n",
    "    for i in range(5):\n",
    "        line = f.readline()\n",
    "        if not line:\n",
    "            break\n",
    "        print(line.strip())\n"
   ]
  },
  {
   "cell_type": "markdown",
   "id": "1255ef68-2ac8-4637-9612-1d2e736f7213",
   "metadata": {},
   "source": [
    "5. Write a program that reads a file and prints the longest line."
   ]
  },
  {
   "cell_type": "code",
   "execution_count": 15,
   "id": "7c2335f6-0b9d-4ec5-b01a-fe478b1ae100",
   "metadata": {},
   "outputs": [
    {
     "name": "stdout",
     "output_type": "stream",
     "text": [
      "Longest Line: \n",
      "Python is my first programming language\n",
      "\n"
     ]
    }
   ],
   "source": [
    "with open(\"python.txt\",\"r\") as f:\n",
    "    longest_line = \"\"\n",
    "    for line in f:\n",
    "        if len(line)>len(longest_line):\n",
    "            longest_line = line\n",
    "print(\"Longest Line: \")\n",
    "print(longest_line)    "
   ]
  },
  {
   "cell_type": "markdown",
   "id": "0acf6487-a155-410a-a9e6-49fb5eda5222",
   "metadata": {},
   "source": [
    "6. Read a file and count how many times a specific word appears.\n",
    "(e.g., \"python\")"
   ]
  },
  {
   "cell_type": "code",
   "execution_count": 20,
   "id": "36bbea83-4ecd-4ad4-a125-19afbe08b0cc",
   "metadata": {},
   "outputs": [
    {
     "name": "stdout",
     "output_type": "stream",
     "text": [
      "4\n"
     ]
    }
   ],
   "source": [
    "count = 0\n",
    "with open(\"python.txt\",\"r\") as f:\n",
    "    for line in f:\n",
    "        word = line.lower().split()\n",
    "        count += word.count(\"python\")\n",
    "print(count)\n",
    "    \n",
    "        "
   ]
  },
  {
   "cell_type": "markdown",
   "id": "3720fe27-4d50-417f-a145-f1845d5740b3",
   "metadata": {},
   "source": [
    "7. Read a CSV file and print the column names.\n",
    "Use the csv module."
   ]
  },
  {
   "cell_type": "code",
   "execution_count": 14,
   "id": "736c7186-be0d-4be6-9308-611d0701c160",
   "metadata": {},
   "outputs": [
    {
     "name": "stdout",
     "output_type": "stream",
     "text": [
      "Column Names: \n",
      "Runs\n",
      "BF\n",
      "4s\n",
      "6s\n",
      "SR\n",
      "Pos\n",
      "Dismissal\n",
      "Inns\n",
      "Opposition\n",
      "Ground\n",
      "Start Date\n"
     ]
    }
   ],
   "source": [
    "import csv\n",
    "with open(\"Virat Kohli DataSet.csv\", mode=\"r\") as f:\n",
    "    reader = csv.reader(f)\n",
    "    header = next(reader)\n",
    "    print(\"Column Names: \")\n",
    "    for column in header:\n",
    "        print(column)"
   ]
  },
  {
   "cell_type": "markdown",
   "id": "28ff1f0e-d995-4191-9445-8b6e8c361823",
   "metadata": {},
   "source": [
    "8. Read a file and remove all blank lines. Write the cleaned version to a new file."
   ]
  },
  {
   "cell_type": "code",
   "execution_count": 19,
   "id": "85cd20fa-3d54-4d7a-be90-218d6b1e6b1b",
   "metadata": {},
   "outputs": [],
   "source": [
    "with open(\"python.txt\",\"r\") as f, open(\"output.txt\",\"w\") as o:\n",
    "    for line in f:\n",
    "        if line.strip():\n",
    "            o.write(line)"
   ]
  },
  {
   "cell_type": "code",
   "execution_count": 21,
   "id": "a0332e4c-1bea-46d2-960d-87e7c0047a1c",
   "metadata": {},
   "outputs": [
    {
     "name": "stdout",
     "output_type": "stream",
     "text": [
      "We are learning python\n",
      "Python is osm\n",
      "I Love Python\n",
      "Python is my first programming language\n",
      "Happy Pongal\n"
     ]
    }
   ],
   "source": [
    "with open(\"output.txt\",\"r\") as o:\n",
    "    read = o.read()\n",
    "print(read)"
   ]
  },
  {
   "cell_type": "markdown",
   "id": "8886b3e9-36ba-4950-9e3b-511a202ab583",
   "metadata": {},
   "source": [
    "9. Read a file and print all lines that contain a given keyword."
   ]
  },
  {
   "cell_type": "code",
   "execution_count": 34,
   "id": "cddb799e-af46-474f-8707-884f193a5da4",
   "metadata": {},
   "outputs": [
    {
     "name": "stdout",
     "output_type": "stream",
     "text": [
      "We are learning python\n",
      "\n",
      "Python is osm\n",
      "\n",
      "I Love Python\n",
      "\n",
      "Python is my first programming language\n",
      "\n"
     ]
    }
   ],
   "source": [
    "with open(\"output.txt\",\"r\") as f:\n",
    "    for line in f:\n",
    "        if \"python\" in line.lower():\n",
    "            print(line)"
   ]
  },
  {
   "cell_type": "markdown",
   "id": "d98f7f87-012d-4054-bd61-5749b5909fbc",
   "metadata": {},
   "source": [
    "10. Create a dictionary where keys are words and values are their frequency in the file.\n"
   ]
  },
  {
   "cell_type": "code",
   "execution_count": null,
   "id": "708fc196-27af-4a8a-9805-f37f763221c2",
   "metadata": {},
   "outputs": [],
   "source": []
  },
  {
   "cell_type": "markdown",
   "id": "0a205936-c41b-4233-881a-495d4f0f85cc",
   "metadata": {},
   "source": [
    "11. Read a JSON file and print values associated with a specific key."
   ]
  },
  {
   "cell_type": "code",
   "execution_count": null,
   "id": "650fb8f5-2f2c-4458-a56b-19fbaa188440",
   "metadata": {},
   "outputs": [],
   "source": []
  },
  {
   "cell_type": "markdown",
   "id": "b74a2fe3-21b6-41bf-ad5c-b286e84befb9",
   "metadata": {},
   "source": [
    "12. Try opening a file that doesn’t exist and handle the exception gracefully."
   ]
  },
  {
   "cell_type": "code",
   "execution_count": 41,
   "id": "b742cc84-e263-4db0-b4a5-c4d2c761ceeb",
   "metadata": {},
   "outputs": [
    {
     "name": "stdout",
     "output_type": "stream",
     "text": [
      "File not Found\n"
     ]
    }
   ],
   "source": [
    "try:\n",
    "    with open(\"a.txt\",\"r\") as f:\n",
    "        read = f.read()\n",
    "except Exception:\n",
    "    print(\"File not Found\")\n",
    "        "
   ]
  },
  {
   "cell_type": "markdown",
   "id": "fbf5b0b3-5a26-435f-9d8d-9e63ccdc8cf7",
   "metadata": {},
   "source": [
    "13. Append a new line to an existing text file without erasing its content."
   ]
  },
  {
   "cell_type": "code",
   "execution_count": 52,
   "id": "c0adef7c-5c5a-47fc-934e-17d5a8d31409",
   "metadata": {},
   "outputs": [],
   "source": [
    "with open(\"output.txt\",\"a\") as f:\n",
    "    f.write(\"\\nDataScience uses python programming\")"
   ]
  },
  {
   "cell_type": "code",
   "execution_count": 54,
   "id": "509d92e0-aec6-48aa-9175-b74161b82785",
   "metadata": {},
   "outputs": [
    {
     "name": "stdout",
     "output_type": "stream",
     "text": [
      "We are learning python\n",
      "Python is osm\n",
      "I Love Python\n",
      "Python is my first programming language\n",
      "Happy PongalDataScience uses python programmingDataScience uses python programming\n",
      "DataScience uses python programming\n"
     ]
    }
   ],
   "source": [
    "with open(\"output.txt\",\"r\") as f:\n",
    "    read = f.read()\n",
    "print(read)"
   ]
  },
  {
   "cell_type": "markdown",
   "id": "c57ac7ab-a008-4e4f-be17-2b9beba911fb",
   "metadata": {},
   "source": [
    "14. Read a CSV file and convert it into a list of dictionaries.\n"
   ]
  },
  {
   "cell_type": "code",
   "execution_count": 81,
   "id": "fe9fd4b4-2e90-4ebb-82e6-1a3fdc0343c7",
   "metadata": {},
   "outputs": [
    {
     "name": "stdout",
     "output_type": "stream",
     "text": [
      "{'Runs': '12', 'BF': '22', '4s': '1', '6s': '0', 'SR': '54.54', 'Pos': '2.00', 'Dismissal': 'lbw', 'Inns': '1', 'Opposition': 'v Sri Lanka', 'Ground': 'Dambulla', 'Start Date': '18-Aug-08'}\n",
      "{'Runs': '37', 'BF': '67', '4s': '6', '6s': '0', 'SR': '55.22', 'Pos': '2.00', 'Dismissal': 'caught', 'Inns': '2', 'Opposition': 'v Sri Lanka', 'Ground': 'Dambulla', 'Start Date': '20-Aug-08'}\n",
      "{'Runs': '25', 'BF': '38', '4s': '4', '6s': '0', 'SR': '65.78', 'Pos': '1.00', 'Dismissal': 'run out', 'Inns': '1', 'Opposition': 'v Sri Lanka', 'Ground': 'Colombo (RPS)', 'Start Date': '24-Aug-08'}\n",
      "{'Runs': '54', 'BF': '66', '4s': '7', '6s': '0', 'SR': '81.81', 'Pos': '1.00', 'Dismissal': 'bowled', 'Inns': '1', 'Opposition': 'v Sri Lanka', 'Ground': 'Colombo (RPS)', 'Start Date': '27-Aug-08'}\n",
      "{'Runs': '31', 'BF': '46', '4s': '3', '6s': '1', 'SR': '67.39', 'Pos': '1.00', 'Dismissal': 'lbw', 'Inns': '2', 'Opposition': 'v Sri Lanka', 'Ground': 'Colombo (RPS)', 'Start Date': '29-Aug-08'}\n",
      "{'Runs': '2', 'BF': '2', '4s': '0', '6s': '0', 'SR': '100.00', 'Pos': '7.00', 'Dismissal': 'not out', 'Inns': '1', 'Opposition': 'v Sri Lanka', 'Ground': 'Colombo (RPS)', 'Start Date': '14-Sep-09'}\n",
      "{'Runs': '30', 'BF': '41', '4s': '3', '6s': '0', 'SR': '73.17', 'Pos': '4.00', 'Dismissal': 'caught', 'Inns': '2', 'Opposition': 'v Australia', 'Ground': 'Vadodara', 'Start Date': '25-Oct-09'}\n",
      "{'Runs': '10', 'BF': '16', '4s': '1', '6s': '0', 'SR': '62.50', 'Pos': '3.00', 'Dismissal': 'caught', 'Inns': '2', 'Opposition': 'v Australia', 'Ground': 'Mohali', 'Start Date': '2-Nov-09'}\n",
      "{'Runs': '27', 'BF': '19', '4s': '4', '6s': '0', 'SR': '142.10', 'Pos': '7.00', 'Dismissal': 'bowled', 'Inns': '1', 'Opposition': 'v Sri Lanka', 'Ground': 'Rajkot', 'Start Date': '15-Dec-09'}\n",
      "{'Runs': '54', 'BF': '65', '4s': '7', '6s': '0', 'SR': '83.07', 'Pos': '4.00', 'Dismissal': 'lbw', 'Inns': '1', 'Opposition': 'v Sri Lanka', 'Ground': 'Nagpur', 'Start Date': '18-Dec-09'}\n",
      "{'Runs': '107', 'BF': '114', '4s': '11', '6s': '1', 'SR': '93.85', 'Pos': '4.00', 'Dismissal': 'caught', 'Inns': '2', 'Opposition': 'v Sri Lanka', 'Ground': 'Kolkata', 'Start Date': '24-Dec-09'}\n",
      "{'Runs': '91', 'BF': '102', '4s': '7', '6s': '0', 'SR': '89.21', 'Pos': '3.00', 'Dismissal': 'caught', 'Inns': '2', 'Opposition': 'v Bangladesh', 'Ground': 'Dhaka', 'Start Date': '7-Jan-10'}\n",
      "{'Runs': '102', 'BF': '95', '4s': '11', '6s': '0', 'SR': '107.36', 'Pos': '3.00', 'Dismissal': 'not out', 'Inns': '2', 'Opposition': 'v Bangladesh', 'Ground': 'Dhaka', 'Start Date': '11-Jan-10'}\n",
      "{'Runs': '31', 'BF': '46', '4s': '1', '6s': '0', 'SR': '67.39', 'Pos': '5.00', 'Dismissal': 'caught', 'Inns': '1', 'Opposition': 'v South Africa', 'Ground': 'Jaipur', 'Start Date': '21-Feb-10'}\n",
      "{'Runs': '57', 'BF': '71', '4s': '4', '6s': '1', 'SR': '80.28', 'Pos': '3.00', 'Dismissal': 'caught', 'Inns': '2', 'Opposition': 'v South Africa', 'Ground': 'Ahmedabad', 'Start Date': '27-Feb-10'}\n",
      "{'Runs': '0', 'BF': '0', '4s': '0', '6s': '0', 'SR': '0.00', 'Pos': '3.00', 'Dismissal': 'run out', 'Inns': '1', 'Opposition': 'v Zimbabwe', 'Ground': 'Bulawayo', 'Start Date': '28-May-10'}\n",
      "{'Runs': '18', 'BF': '29', '4s': '1', '6s': '0', 'SR': '62.06', 'Pos': '3.00', 'Dismissal': 'caught', 'Inns': '1', 'Opposition': 'v Zimbabwe', 'Ground': 'Harare', 'Start Date': '3-Jun-10'}\n",
      "{'Runs': '10', 'BF': '14', '4s': '1', '6s': '0', 'SR': '71.42', 'Pos': '3.00', 'Dismissal': 'caught', 'Inns': '1', 'Opposition': 'v Sri Lanka', 'Ground': 'Dambulla', 'Start Date': '22-Jun-10'}\n",
      "{'Runs': '28', 'BF': '34', '4s': '4', '6s': '0', 'SR': '82.35', 'Pos': '3.00', 'Dismissal': 'caught', 'Inns': '1', 'Opposition': 'v Sri Lanka', 'Ground': 'Dambulla', 'Start Date': '24-Jun-10'}\n",
      "{'Runs': '0', 'BF': '3', '4s': '0', '6s': '0', 'SR': '0.00', 'Pos': '3.00', 'Dismissal': 'caught', 'Inns': '2', 'Opposition': 'v Sri Lanka', 'Ground': 'Dambulla', 'Start Date': '16-Aug-10'}\n",
      "{'Runs': '37', 'BF': '57', '4s': '5', '6s': '0', 'SR': '64.91', 'Pos': '3.00', 'Dismissal': 'caught', 'Inns': '2', 'Opposition': 'v Sri Lanka', 'Ground': 'Dambulla', 'Start Date': '28-Aug-10'}\n",
      "{'Runs': '118', 'BF': '121', '4s': '11', '6s': '1', 'SR': '97.52', 'Pos': '3.00', 'Dismissal': 'caught', 'Inns': '2', 'Opposition': 'v Australia', 'Ground': 'Visakhapatnam', 'Start Date': '20-Oct-10'}\n",
      "{'Runs': '105', 'BF': '104', '4s': '10', '6s': '0', 'SR': '100.96', 'Pos': '3.00', 'Dismissal': 'caught', 'Inns': '1', 'Opposition': 'v New Zealand', 'Ground': 'Guwahati', 'Start Date': '28-Nov-10'}\n",
      "{'Runs': '64', 'BF': '73', '4s': '8', '6s': '0', 'SR': '87.67', 'Pos': '3.00', 'Dismissal': 'caught', 'Inns': '2', 'Opposition': 'v New Zealand', 'Ground': 'Jaipur', 'Start Date': '1-Dec-10'}\n",
      "{'Runs': '63', 'BF': '70', '4s': '6', '6s': '2', 'SR': '90.00', 'Pos': '3.00', 'Dismissal': 'not out', 'Inns': '2', 'Opposition': 'v New Zealand', 'Ground': 'Vadodara', 'Start Date': '4-Dec-10'}\n",
      "{'Runs': '0', 'BF': '2', '4s': '0', '6s': '0', 'SR': '0.00', 'Pos': '3.00', 'Dismissal': 'caught', 'Inns': '2', 'Opposition': 'v New Zealand', 'Ground': 'Bengaluru', 'Start Date': '7-Dec-10'}\n",
      "{'Runs': '2', 'BF': '8', '4s': '0', '6s': '0', 'SR': '25.00', 'Pos': '3.00', 'Dismissal': 'caught', 'Inns': '2', 'Opposition': 'v New Zealand', 'Ground': 'Chennai', 'Start Date': '10-Dec-10'}\n",
      "{'Runs': '54', 'BF': '70', '4s': '2', '6s': '1', 'SR': '77.14', 'Pos': '3.00', 'Dismissal': 'caught', 'Inns': '2', 'Opposition': 'v South Africa', 'Ground': 'Durban', 'Start Date': '12-Jan-11'}\n",
      "{'Runs': '22', 'BF': '34', '4s': '1', '6s': '0', 'SR': '64.70', 'Pos': '3.00', 'Dismissal': 'run out', 'Inns': '1', 'Opposition': 'v South Africa', 'Ground': 'Johannesburg', 'Start Date': '15-Jan-11'}\n",
      "{'Runs': '28', 'BF': '41', '4s': '5', '6s': '0', 'SR': '68.29', 'Pos': '3.00', 'Dismissal': 'caught', 'Inns': '2', 'Opposition': 'v South Africa', 'Ground': 'Cape Town', 'Start Date': '18-Jan-11'}\n",
      "{'Runs': '87', 'BF': '92', '4s': '7', '6s': '2', 'SR': '94.56', 'Pos': '3.00', 'Dismissal': 'not out', 'Inns': '2', 'Opposition': 'v South Africa', 'Ground': 'Port Elizabeth', 'Start Date': '21-Jan-11'}\n",
      "{'Runs': '2', 'BF': '6', '4s': '0', '6s': '0', 'SR': '33.33', 'Pos': '3.00', 'Dismissal': 'caught', 'Inns': '2', 'Opposition': 'v South Africa', 'Ground': 'Centurion', 'Start Date': '23-Jan-11'}\n",
      "{'Runs': '100', 'BF': '83', '4s': '8', '6s': '2', 'SR': '120.48', 'Pos': '4.00', 'Dismissal': 'not out', 'Inns': '1', 'Opposition': 'v Bangladesh', 'Ground': 'Dhaka', 'Start Date': '19-Feb-11'}\n",
      "{'Runs': '34', 'BF': '53', '4s': '3', '6s': '0', 'SR': '64.15', 'Pos': '4.00', 'Dismissal': 'run out', 'Inns': '2', 'Opposition': 'v Ireland', 'Ground': 'Bengaluru', 'Start Date': '6-Mar-11'}\n",
      "{'Runs': '12', 'BF': '20', '4s': '2', '6s': '0', 'SR': '60.00', 'Pos': '5.00', 'Dismissal': 'bowled', 'Inns': '2', 'Opposition': 'v Netherlands', 'Ground': 'Delhi', 'Start Date': '9-Mar-11'}\n",
      "{'Runs': '1', 'BF': '3', '4s': '0', '6s': '0', 'SR': '33.33', 'Pos': '7.00', 'Dismissal': 'caught', 'Inns': '1', 'Opposition': 'v South Africa', 'Ground': 'Nagpur', 'Start Date': '12-Mar-11'}\n",
      "{'Runs': '59', 'BF': '76', '4s': '5', '6s': '0', 'SR': '77.63', 'Pos': '3.00', 'Dismissal': 'bowled', 'Inns': '1', 'Opposition': 'v West Indies', 'Ground': 'Chennai', 'Start Date': '20-Mar-11'}\n",
      "{'Runs': '24', 'BF': '33', '4s': '1', '6s': '0', 'SR': '72.72', 'Pos': '4.00', 'Dismissal': 'caught', 'Inns': '2', 'Opposition': 'v Australia', 'Ground': 'Ahmedabad', 'Start Date': '24-Mar-11'}\n",
      "{'Runs': '9', 'BF': '21', '4s': '0', '6s': '0', 'SR': '42.85', 'Pos': '4.00', 'Dismissal': 'caught', 'Inns': '1', 'Opposition': 'v Pakistan', 'Ground': 'Mohali', 'Start Date': '30-Mar-11'}\n",
      "{'Runs': '35', 'BF': '49', '4s': '4', '6s': '0', 'SR': '71.42', 'Pos': '4.00', 'Dismissal': 'caught', 'Inns': '2', 'Opposition': 'v Sri Lanka', 'Ground': 'Mumbai', 'Start Date': '2-Apr-11'}\n",
      "{'Runs': '2', 'BF': '8', '4s': '0', '6s': '0', 'SR': '25.00', 'Pos': '3.00', 'Dismissal': 'caught', 'Inns': '2', 'Opposition': 'v West Indies', 'Ground': 'Port of Spain', 'Start Date': '6-Jun-11'}\n",
      "{'Runs': '81', 'BF': '103', '4s': '6', '6s': '1', 'SR': '78.64', 'Pos': '3.00', 'Dismissal': 'caught', 'Inns': '2', 'Opposition': 'v West Indies', 'Ground': 'Port of Spain', 'Start Date': '8-Jun-11'}\n",
      "{'Runs': '0', 'BF': '1', '4s': '0', '6s': '0', 'SR': '0.00', 'Pos': '3.00', 'Dismissal': 'lbw', 'Inns': '2', 'Opposition': 'v West Indies', 'Ground': 'North Sound', 'Start Date': '11-Jun-11'}\n",
      "{'Runs': '22', 'BF': '33', '4s': '1', '6s': '0', 'SR': '66.66', 'Pos': '3.00', 'Dismissal': 'stumped', 'Inns': '2', 'Opposition': 'v West Indies', 'Ground': 'North Sound', 'Start Date': '13-Jun-11'}\n",
      "{'Runs': '94', 'BF': '104', '4s': '10', '6s': '0', 'SR': '90.38', 'Pos': '3.00', 'Dismissal': 'run out', 'Inns': '1', 'Opposition': 'v West Indies', 'Ground': 'Kingston', 'Start Date': '16-Jun-11'}\n",
      "{'Runs': '9', 'BF': '9', '4s': '0', '6s': '0', 'SR': '100.00', 'Pos': '4.00', 'Dismissal': 'caught', 'Inns': '1', 'Opposition': 'v England', 'Ground': 'Southampton', 'Start Date': '6-Sep-11'}\n",
      "{'Runs': '7', 'BF': '18', '4s': '0', '6s': '0', 'SR': '38.88', 'Pos': '4.00', 'Dismissal': 'caught', 'Inns': '1', 'Opposition': 'v England', 'Ground': 'The Oval', 'Start Date': '9-Sep-11'}\n",
      "{'Runs': '107', 'BF': '93', '4s': '9', '6s': '1', 'SR': '115.05', 'Pos': '4.00', 'Dismissal': 'hit wicket', 'Inns': '1', 'Opposition': 'v England', 'Ground': 'Cardiff', 'Start Date': '16-Sep-11'}\n",
      "{'Runs': '37', 'BF': '63', '4s': '0', '6s': '0', 'SR': '58.73', 'Pos': '4.00', 'Dismissal': 'caught', 'Inns': '1', 'Opposition': 'v England', 'Ground': 'Hyderabad (Deccan)', 'Start Date': '14-Oct-11'}\n",
      "{'Runs': '112', 'BF': '98', '4s': '16', '6s': '0', 'SR': '114.28', 'Pos': '4.00', 'Dismissal': 'not out', 'Inns': '2', 'Opposition': 'v England', 'Ground': 'Delhi', 'Start Date': '17-Oct-11'}\n",
      "{'Runs': '35', 'BF': '30', '4s': '5', '6s': '0', 'SR': '116.66', 'Pos': '4.00', 'Dismissal': 'lbw', 'Inns': '2', 'Opposition': 'v England', 'Ground': 'Mohali', 'Start Date': '20-Oct-11'}\n",
      "{'Runs': '86', 'BF': '99', '4s': '11', '6s': '0', 'SR': '86.86', 'Pos': '4.00', 'Dismissal': 'not out', 'Inns': '2', 'Opposition': 'v England', 'Ground': 'Mumbai', 'Start Date': '23-Oct-11'}\n",
      "{'Runs': '0', 'BF': '5', '4s': '0', '6s': '0', 'SR': '0.00', 'Pos': '3.00', 'Dismissal': 'bowled', 'Inns': '1', 'Opposition': 'v England', 'Ground': 'Kolkata', 'Start Date': '25-Oct-11'}\n",
      "{'Runs': '3', 'BF': '6', '4s': '0', '6s': '0', 'SR': '50.00', 'Pos': '4.00', 'Dismissal': 'bowled', 'Inns': '2', 'Opposition': 'v West Indies', 'Ground': 'Cuttack', 'Start Date': '29-Nov-11'}\n",
      "{'Runs': '117', 'BF': '123', '4s': '14', '6s': '0', 'SR': '95.12', 'Pos': '4.00', 'Dismissal': 'caught', 'Inns': '2', 'Opposition': 'v West Indies', 'Ground': 'Visakhapatnam', 'Start Date': '2-Dec-11'}\n",
      "{'Runs': '20', 'BF': '30', '4s': '3', '6s': '0', 'SR': '66.66', 'Pos': '4.00', 'Dismissal': 'lbw', 'Inns': '2', 'Opposition': 'v West Indies', 'Ground': 'Ahmedabad', 'Start Date': '5-Dec-11'}\n",
      "{'Runs': '23', 'BF': '11', '4s': '3', '6s': '0', 'SR': '209.09', 'Pos': '6.00', 'Dismissal': 'not out', 'Inns': '1', 'Opposition': 'v West Indies', 'Ground': 'Indore', 'Start Date': '8-Dec-11'}\n",
      "{'Runs': '80', 'BF': '85', '4s': '5', '6s': '0', 'SR': '94.11', 'Pos': '5.00', 'Dismissal': 'caught', 'Inns': '1', 'Opposition': 'v West Indies', 'Ground': 'Chennai', 'Start Date': '11-Dec-11'}\n",
      "{'Runs': '31', 'BF': '34', '4s': '3', '6s': '0', 'SR': '91.17', 'Pos': '3.00', 'Dismissal': 'caught', 'Inns': '2', 'Opposition': 'v Australia', 'Ground': 'Melbourne', 'Start Date': '5-Feb-12'}\n",
      "{'Runs': '18', 'BF': '28', '4s': '1', '6s': '0', 'SR': '64.28', 'Pos': '3.00', 'Dismissal': 'caught', 'Inns': '2', 'Opposition': 'v Australia', 'Ground': 'Adelaide', 'Start Date': '12-Feb-12'}\n",
      "{'Runs': '12', 'BF': '25', '4s': '0', '6s': '0', 'SR': '48.00', 'Pos': '3.00', 'Dismissal': 'caught', 'Inns': '2', 'Opposition': 'v Australia', 'Ground': 'Brisbane', 'Start Date': '19-Feb-12'}\n",
      "{'Runs': '21', 'BF': '27', '4s': '2', '6s': '0', 'SR': '77.77', 'Pos': '4.00', 'Dismissal': 'caught', 'Inns': '2', 'Opposition': 'v Australia', 'Ground': 'Sydney', 'Start Date': '26-Feb-12'}\n",
      "{'Runs': '66', 'BF': '82', '4s': '5', '6s': '0', 'SR': '80.48', 'Pos': '3.00', 'Dismissal': 'bowled', 'Inns': '1', 'Opposition': 'v Bangladesh', 'Ground': 'Dhaka', 'Start Date': '16-Mar-12'}\n",
      "{'Runs': '106', 'BF': '113', '4s': '9', '6s': '0', 'SR': '93.80', 'Pos': '3.00', 'Dismissal': 'caught', 'Inns': '1', 'Opposition': 'v Sri Lanka', 'Ground': 'Hambantota', 'Start Date': '21-Jul-12'}\n",
      "{'Runs': '1', 'BF': '5', '4s': '0', '6s': '0', 'SR': '20.00', 'Pos': '3.00', 'Dismissal': 'caught', 'Inns': '1', 'Opposition': 'v Sri Lanka', 'Ground': 'Hambantota', 'Start Date': '24-Jul-12'}\n",
      "{'Runs': '38', 'BF': '65', '4s': '2', '6s': '0', 'SR': '58.46', 'Pos': '3.00', 'Dismissal': 'caught', 'Inns': '2', 'Opposition': 'v Sri Lanka', 'Ground': 'Colombo (RPS)', 'Start Date': '28-Jul-12'}\n",
      "{'Runs': '128', 'BF': '119', '4s': '12', '6s': '1', 'SR': '107.56', 'Pos': '3.00', 'Dismissal': 'not out', 'Inns': '2', 'Opposition': 'v Sri Lanka', 'Ground': 'Colombo (RPS)', 'Start Date': '31-Jul-12'}\n",
      "{'Runs': '23', 'BF': '35', '4s': '2', '6s': '0', 'SR': '65.71', 'Pos': '3.00', 'Dismissal': 'lbw', 'Inns': '1', 'Opposition': 'v Sri Lanka', 'Ground': 'Pallekele', 'Start Date': '4-Aug-12'}\n",
      "{'Runs': '0', 'BF': '5', '4s': '0', '6s': '0', 'SR': '0.00', 'Pos': '3.00', 'Dismissal': 'bowled', 'Inns': '1', 'Opposition': 'v Pakistan', 'Ground': 'Chennai', 'Start Date': '30-Dec-12'}\n",
      "{'Runs': '6', 'BF': '9', '4s': '1', '6s': '0', 'SR': '66.66', 'Pos': '3.00', 'Dismissal': 'caught', 'Inns': '2', 'Opposition': 'v Pakistan', 'Ground': 'Kolkata', 'Start Date': '3-Jan-13'}\n",
      "{'Runs': '7', 'BF': '17', '4s': '1', '6s': '0', 'SR': '41.17', 'Pos': '3.00', 'Dismissal': 'caught', 'Inns': '1', 'Opposition': 'v Pakistan', 'Ground': 'Delhi', 'Start Date': '6-Jan-13'}\n",
      "{'Runs': '15', 'BF': '22', '4s': '1', '6s': '0', 'SR': '68.18', 'Pos': '3.00', 'Dismissal': 'caught', 'Inns': '2', 'Opposition': 'v England', 'Ground': 'Rajkot', 'Start Date': '11-Jan-13'}\n",
      "{'Runs': '37', 'BF': '54', '4s': '1', '6s': '1', 'SR': '68.51', 'Pos': '3.00', 'Dismissal': 'caught', 'Inns': '1', 'Opposition': 'v England', 'Ground': 'Kochi', 'Start Date': '15-Jan-13'}\n",
      "{'Runs': '77', 'BF': '79', '4s': '9', '6s': '2', 'SR': '97.46', 'Pos': '3.00', 'Dismissal': 'not out', 'Inns': '2', 'Opposition': 'v England', 'Ground': 'Ranchi', 'Start Date': '19-Jan-13'}\n",
      "{'Runs': '26', 'BF': '33', '4s': '3', '6s': '0', 'SR': '78.78', 'Pos': '3.00', 'Dismissal': 'caught', 'Inns': '2', 'Opposition': 'v England', 'Ground': 'Mohali', 'Start Date': '23-Jan-13'}\n",
      "{'Runs': '0', 'BF': '1', '4s': '0', '6s': '0', 'SR': '0.00', 'Pos': '3.00', 'Dismissal': 'caught', 'Inns': '1', 'Opposition': 'v England', 'Ground': 'Dharamsala', 'Start Date': '27-Jan-13'}\n",
      "{'Runs': '43', 'BF': '34', '4s': '4', '6s': '1', 'SR': '126.47', 'Pos': '3.00', 'Dismissal': 'caught', 'Inns': '1', 'Opposition': 'v England', 'Ground': 'Birmingham', 'Start Date': '23-Jun-13'}\n",
      "{'Runs': '11', 'BF': '21', '4s': '0', '6s': '1', 'SR': '52.38', 'Pos': '3.00', 'Dismissal': 'caught', 'Inns': '1', 'Opposition': 'v West Indies', 'Ground': 'Kingston', 'Start Date': '30-Jun-13'}\n",
      "{'Runs': '102', 'BF': '83', '4s': '13', '6s': '2', 'SR': '122.89', 'Pos': '3.00', 'Dismissal': 'caught', 'Inns': '1', 'Opposition': 'v West Indies', 'Ground': 'Port of Spain', 'Start Date': '5-Jul-13'}\n",
      "{'Runs': '115', 'BF': '108', '4s': '13', '6s': '1', 'SR': '106.48', 'Pos': '3.00', 'Dismissal': 'caught', 'Inns': '2', 'Opposition': 'v Zimbabwe', 'Ground': 'Harare', 'Start Date': '24-Jul-13'}\n",
      "{'Runs': '14', 'BF': '18', '4s': '2', '6s': '0', 'SR': '77.77', 'Pos': '3.00', 'Dismissal': 'caught', 'Inns': '1', 'Opposition': 'v Zimbabwe', 'Ground': 'Harare', 'Start Date': '26-Jul-13'}\n",
      "{'Runs': '68', 'BF': '88', '4s': '5', '6s': '1', 'SR': '77.27', 'Pos': '3.00', 'Dismissal': 'not out', 'Inns': '2', 'Opposition': 'v Zimbabwe', 'Ground': 'Harare', 'Start Date': '28-Jul-13'}\n",
      "{'Runs': '61', 'BF': '85', '4s': '6', '6s': '0', 'SR': '71.76', 'Pos': '3.00', 'Dismissal': 'lbw', 'Inns': '2', 'Opposition': 'v Australia', 'Ground': 'Pune', 'Start Date': '13-Oct-13'}\n",
      "{'Runs': '100', 'BF': '52', '4s': '8', '6s': '7', 'SR': '192.30', 'Pos': '3.00', 'Dismissal': 'not out', 'Inns': '2', 'Opposition': 'v Australia', 'Ground': 'Jaipur', 'Start Date': '16-Oct-13'}\n",
      "{'Runs': '68', 'BF': '73', '4s': '9', '6s': '0', 'SR': '93.15', 'Pos': '3.00', 'Dismissal': 'caught', 'Inns': '1', 'Opposition': 'v Australia', 'Ground': 'Mohali', 'Start Date': '19-Oct-13'}\n",
      "{'Runs': '115', 'BF': '66', '4s': '18', '6s': '1', 'SR': '174.24', 'Pos': '3.00', 'Dismissal': 'not out', 'Inns': '2', 'Opposition': 'v Australia', 'Ground': 'Nagpur', 'Start Date': '30-Oct-13'}\n",
      "{'Runs': '0', 'BF': '3', '4s': '0', '6s': '0', 'SR': '0.00', 'Pos': '3.00', 'Dismissal': 'run out', 'Inns': '1', 'Opposition': 'v Australia', 'Ground': 'Bengaluru', 'Start Date': '2-Nov-13'}\n",
      "{'Runs': '86', 'BF': '84', '4s': '9', '6s': '2', 'SR': '102.38', 'Pos': '3.00', 'Dismissal': 'caught', 'Inns': '2', 'Opposition': 'v West Indies', 'Ground': 'Kochi', 'Start Date': '21-Nov-13'}\n",
      "{'Runs': '99', 'BF': '100', '4s': '9', '6s': '0', 'SR': '99.00', 'Pos': '3.00', 'Dismissal': 'caught', 'Inns': '1', 'Opposition': 'v West Indies', 'Ground': 'Visakhapatnam', 'Start Date': '24-Nov-13'}\n",
      "{'Runs': '19', 'BF': '18', '4s': '3', '6s': '0', 'SR': '105.55', 'Pos': '3.00', 'Dismissal': 'caught', 'Inns': '2', 'Opposition': 'v West Indies', 'Ground': 'Kanpur', 'Start Date': '27-Nov-13'}\n",
      "{'Runs': '31', 'BF': '35', '4s': '5', '6s': '0', 'SR': '88.57', 'Pos': '3.00', 'Dismissal': 'caught', 'Inns': '2', 'Opposition': 'v South Africa', 'Ground': 'Johannesburg', 'Start Date': '5-Dec-13'}\n",
      "{'Runs': '0', 'BF': '5', '4s': '0', '6s': '0', 'SR': '0.00', 'Pos': '3.00', 'Dismissal': 'caught', 'Inns': '2', 'Opposition': 'v South Africa', 'Ground': 'Durban', 'Start Date': '8-Dec-13'}\n",
      "{'Runs': '123', 'BF': '111', '4s': '11', '6s': '2', 'SR': '110.81', 'Pos': '3.00', 'Dismissal': 'caught', 'Inns': '2', 'Opposition': 'v New Zealand', 'Ground': 'Napier', 'Start Date': '19-Jan-14'}\n",
      "{'Runs': '78', 'BF': '65', '4s': '7', '6s': '2', 'SR': '120.00', 'Pos': '3.00', 'Dismissal': 'caught', 'Inns': '2', 'Opposition': 'v New Zealand', 'Ground': 'Hamilton', 'Start Date': '22-Jan-14'}\n",
      "{'Runs': '2', 'BF': '10', '4s': '0', '6s': '0', 'SR': '20.00', 'Pos': '2.00', 'Dismissal': 'caught', 'Inns': '1', 'Opposition': 'v New Zealand', 'Ground': 'Hamilton', 'Start Date': '28-Jan-14'}\n",
      "{'Runs': '82', 'BF': '78', '4s': '7', '6s': '3', 'SR': '105.12', 'Pos': '3.00', 'Dismissal': 'caught', 'Inns': '2', 'Opposition': 'v New Zealand', 'Ground': 'Wellington', 'Start Date': '31-Jan-14'}\n",
      "{'Runs': '136', 'BF': '122', '4s': '16', '6s': '2', 'SR': '111.47', 'Pos': '3.00', 'Dismissal': 'bowled', 'Inns': '2', 'Opposition': 'v Bangladesh', 'Ground': 'Fatullah', 'Start Date': '26-Feb-14'}\n",
      "{'Runs': '0', 'BF': '3', '4s': '0', '6s': '0', 'SR': '0.00', 'Pos': '3.00', 'Dismissal': 'caught', 'Inns': '1', 'Opposition': 'v England', 'Ground': 'Cardiff', 'Start Date': '27-Aug-14'}\n",
      "{'Runs': '40', 'BF': '50', '4s': '2', '6s': '1', 'SR': '80.00', 'Pos': '3.00', 'Dismissal': 'caught', 'Inns': '2', 'Opposition': 'v England', 'Ground': 'Nottingham', 'Start Date': '30-Aug-14'}\n",
      "{'Runs': '1', 'BF': '3', '4s': '0', '6s': '0', 'SR': '33.33', 'Pos': '3.00', 'Dismissal': 'not out', 'Inns': '2', 'Opposition': 'v England', 'Ground': 'Birmingham', 'Start Date': '2-Sep-14'}\n",
      "{'Runs': '13', 'BF': '21', '4s': '2', '6s': '0', 'SR': '61.90', 'Pos': '3.00', 'Dismissal': 'caught', 'Inns': '2', 'Opposition': 'v England', 'Ground': 'Leeds', 'Start Date': '5-Sep-14'}\n",
      "{'Runs': '2', 'BF': '5', '4s': '0', '6s': '0', 'SR': '40.00', 'Pos': '3.00', 'Dismissal': 'caught', 'Inns': '2', 'Opposition': 'v West Indies', 'Ground': 'Kochi', 'Start Date': '8-Oct-14'}\n",
      "{'Runs': '62', 'BF': '78', '4s': '5', '6s': '0', 'SR': '79.48', 'Pos': '4.00', 'Dismissal': 'caught', 'Inns': '1', 'Opposition': 'v West Indies', 'Ground': 'Delhi', 'Start Date': '11-Oct-14'}\n",
      "{'Runs': '127', 'BF': '114', '4s': '13', '6s': '3', 'SR': '111.40', 'Pos': '3.00', 'Dismissal': 'run out', 'Inns': '1', 'Opposition': 'v West Indies', 'Ground': 'Dharamsala', 'Start Date': '17-Oct-14'}\n",
      "{'Runs': '22', 'BF': '21', '4s': '2', '6s': '0', 'SR': '104.76', 'Pos': '4.00', 'Dismissal': 'caught', 'Inns': '1', 'Opposition': 'v Sri Lanka', 'Ground': 'Cuttack', 'Start Date': '2-Nov-14'}\n",
      "{'Runs': '49', 'BF': '44', '4s': '2', '6s': '2', 'SR': '111.36', 'Pos': '4.00', 'Dismissal': 'caught', 'Inns': '2', 'Opposition': 'v Sri Lanka', 'Ground': 'Ahmedabad', 'Start Date': '6-Nov-14'}\n",
      "{'Runs': '53', 'BF': '61', '4s': '4', '6s': '1', 'SR': '86.88', 'Pos': '4.00', 'Dismissal': 'caught', 'Inns': '2', 'Opposition': 'v Sri Lanka', 'Ground': 'Hyderabad (Deccan)', 'Start Date': '9-Nov-14'}\n",
      "{'Runs': '66', 'BF': '64', '4s': '6', '6s': '0', 'SR': '103.12', 'Pos': '4.00', 'Dismissal': 'run out', 'Inns': '1', 'Opposition': 'v Sri Lanka', 'Ground': 'Kolkata', 'Start Date': '13-Nov-14'}\n",
      "{'Runs': '139', 'BF': '126', '4s': '12', '6s': '3', 'SR': '110.31', 'Pos': '4.00', 'Dismissal': 'not out', 'Inns': '2', 'Opposition': 'v Sri Lanka', 'Ground': 'Ranchi', 'Start Date': '16-Nov-14'}\n",
      "{'Runs': '9', 'BF': '16', '4s': '0', '6s': '0', 'SR': '56.25', 'Pos': '4.00', 'Dismissal': 'caught', 'Inns': '1', 'Opposition': 'v Australia', 'Ground': 'Melbourne', 'Start Date': '18-Jan-15'}\n",
      "{'Runs': '1', 'BF': '13', '4s': '0', '6s': '0', 'SR': '7.69', 'Pos': '3.00', 'Dismissal': 'caught', 'Inns': '2', 'Opposition': 'v Australia', 'Ground': 'Sydney', 'Start Date': '26-Mar-15'}\n",
      "{'Runs': '1', 'BF': '4', '4s': '0', '6s': '0', 'SR': '25.00', 'Pos': '3.00', 'Dismissal': 'caught', 'Inns': '2', 'Opposition': 'v Bangladesh', 'Ground': 'Dhaka', 'Start Date': '18-Jun-15'}\n",
      "{'Runs': '23', 'BF': '27', '4s': '3', '6s': '1', 'SR': '85.18', 'Pos': '3.00', 'Dismissal': 'lbw', 'Inns': '1', 'Opposition': 'v Bangladesh', 'Ground': 'Dhaka', 'Start Date': '21-Jun-15'}\n",
      "{'Runs': '25', 'BF': '35', '4s': '1', '6s': '0', 'SR': '71.42', 'Pos': '3.00', 'Dismissal': 'bowled', 'Inns': '1', 'Opposition': 'v Bangladesh', 'Ground': 'Dhaka', 'Start Date': '24-Jun-15'}\n",
      "{'Runs': '11', 'BF': '18', '4s': '0', '6s': '0', 'SR': '61.11', 'Pos': '4.00', 'Dismissal': 'caught', 'Inns': '2', 'Opposition': 'v South Africa', 'Ground': 'Kanpur', 'Start Date': '11-Oct-15'}\n",
      "{'Runs': '12', 'BF': '18', '4s': '0', '6s': '0', 'SR': '66.66', 'Pos': '4.00', 'Dismissal': 'run out', 'Inns': '1', 'Opposition': 'v South Africa', 'Ground': 'Indore', 'Start Date': '14-Oct-15'}\n",
      "{'Runs': '77', 'BF': '99', '4s': '5', '6s': '0', 'SR': '77.77', 'Pos': '3.00', 'Dismissal': 'caught', 'Inns': '2', 'Opposition': 'v South Africa', 'Ground': 'Rajkot', 'Start Date': '18-Oct-15'}\n",
      "{'Runs': '138', 'BF': '140', '4s': '6', '6s': '5', 'SR': '98.57', 'Pos': '3.00', 'Dismissal': 'caught', 'Inns': '1', 'Opposition': 'v South Africa', 'Ground': 'Chennai', 'Start Date': '22-Oct-15'}\n",
      "{'Runs': '7', 'BF': '6', '4s': '0', '6s': '1', 'SR': '116.66', 'Pos': '3.00', 'Dismissal': 'caught', 'Inns': '2', 'Opposition': 'v South Africa', 'Ground': 'Mumbai', 'Start Date': '25-Oct-15'}\n",
      "{'Runs': '91', 'BF': '97', '4s': '9', '6s': '1', 'SR': '93.81', 'Pos': '3.00', 'Dismissal': 'caught', 'Inns': '1', 'Opposition': 'v Australia', 'Ground': 'Perth', 'Start Date': '12-Jan-16'}\n",
      "{'Runs': '59', 'BF': '67', '4s': '4', '6s': '0', 'SR': '88.05', 'Pos': '3.00', 'Dismissal': 'run out', 'Inns': '1', 'Opposition': 'v Australia', 'Ground': 'Brisbane', 'Start Date': '15-Jan-16'}\n",
      "{'Runs': '117', 'BF': '117', '4s': '7', '6s': '2', 'SR': '100.00', 'Pos': '3.00', 'Dismissal': 'caught', 'Inns': '1', 'Opposition': 'v Australia', 'Ground': 'Melbourne', 'Start Date': '17-Jan-16'}\n",
      "{'Runs': '106', 'BF': '92', '4s': '11', '6s': '1', 'SR': '115.21', 'Pos': '3.00', 'Dismissal': 'caught', 'Inns': '2', 'Opposition': 'v Australia', 'Ground': 'Canberra', 'Start Date': '20-Jan-16'}\n",
      "{'Runs': '8', 'BF': '11', '4s': '1', '6s': '0', 'SR': '72.72', 'Pos': '3.00', 'Dismissal': 'caught', 'Inns': '2', 'Opposition': 'v Australia', 'Ground': 'Sydney', 'Start Date': '23-Jan-16'}\n",
      "{'Runs': '85', 'BF': '81', '4s': '9', '6s': '1', 'SR': '104.93', 'Pos': '3.00', 'Dismissal': 'not out', 'Inns': '2', 'Opposition': 'v New Zealand', 'Ground': 'Dharamsala', 'Start Date': '16-Oct-16'}\n",
      "{'Runs': '9', 'BF': '13', '4s': '1', '6s': '0', 'SR': '69.23', 'Pos': '3.00', 'Dismissal': 'caught', 'Inns': '2', 'Opposition': 'v New Zealand', 'Ground': 'Delhi', 'Start Date': '20-Oct-16'}\n",
      "{'Runs': '154', 'BF': '134', '4s': '16', '6s': '1', 'SR': '114.92', 'Pos': '3.00', 'Dismissal': 'not out', 'Inns': '2', 'Opposition': 'v New Zealand', 'Ground': 'Mohali', 'Start Date': '23-Oct-16'}\n",
      "{'Runs': '45', 'BF': '51', '4s': '2', '6s': '1', 'SR': '88.23', 'Pos': '3.00', 'Dismissal': 'caught', 'Inns': '2', 'Opposition': 'v New Zealand', 'Ground': 'Ranchi', 'Start Date': '26-Oct-16'}\n",
      "{'Runs': '65', 'BF': '76', '4s': '2', '6s': '1', 'SR': '85.52', 'Pos': '3.00', 'Dismissal': 'caught', 'Inns': '1', 'Opposition': 'v New Zealand', 'Ground': 'Visakhapatnam', 'Start Date': '29-Oct-16'}\n",
      "{'Runs': '122', 'BF': '105', '4s': '8', '6s': '5', 'SR': '116.19', 'Pos': '3.00', 'Dismissal': 'caught', 'Inns': '2', 'Opposition': 'v England', 'Ground': 'Pune', 'Start Date': '15-Jan-17'}\n",
      "{'Runs': '8', 'BF': '5', '4s': '2', '6s': '0', 'SR': '160.00', 'Pos': '3.00', 'Dismissal': 'caught', 'Inns': '1', 'Opposition': 'v England', 'Ground': 'Cuttack', 'Start Date': '19-Jan-17'}\n",
      "{'Runs': '55', 'BF': '63', '4s': '8', '6s': '0', 'SR': '87.30', 'Pos': '3.00', 'Dismissal': 'caught', 'Inns': '2', 'Opposition': 'v England', 'Ground': 'Kolkata', 'Start Date': '22-Jan-17'}\n"
     ]
    }
   ],
   "source": [
    "import csv\n",
    "\n",
    "data_list=[]\n",
    "with open(\"Virat Kohli DataSet.csv\", mode=\"r\") as f:\n",
    "    read = csv.DictReader(f)\n",
    "    for row in read:\n",
    "        data_list.append(dict(row))\n",
    "for item in data_list:\n",
    "    print(item)\n",
    "    "
   ]
  },
  {
   "cell_type": "markdown",
   "id": "304bc729-d459-48e8-9f24-594471761fd7",
   "metadata": {},
   "source": [
    "15. Read a large file line by line using a generator."
   ]
  },
  {
   "cell_type": "markdown",
   "id": "812e1e45-6e1e-4934-9afa-a4077af40456",
   "metadata": {},
   "source": []
  }
 ],
 "metadata": {
  "kernelspec": {
   "display_name": "Python 3 (ipykernel)",
   "language": "python",
   "name": "python3"
  },
  "language_info": {
   "codemirror_mode": {
    "name": "ipython",
    "version": 3
   },
   "file_extension": ".py",
   "mimetype": "text/x-python",
   "name": "python",
   "nbconvert_exporter": "python",
   "pygments_lexer": "ipython3",
   "version": "3.12.2"
  }
 },
 "nbformat": 4,
 "nbformat_minor": 5
}
